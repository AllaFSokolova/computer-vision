{
 "cells": [
  {
   "cell_type": "code",
   "execution_count": 258,
   "id": "eefa7eaa-847b-47c0-93b7-b897788a515b",
   "metadata": {},
   "outputs": [],
   "source": [
    "import pandas as pd\n",
    "import plotly.graph_objects as go\n",
    "import pymongo \n",
    "from pymongo import MongoClient\n",
    "import matplotlib.pyplot as plt\n",
    "import seaborn as sns"
   ]
  },
  {
   "cell_type": "markdown",
   "id": "917021f2-6ec3-4b38-aed7-18658d67cfe5",
   "metadata": {
    "jp-MarkdownHeadingCollapsed": true
   },
   "source": [
    "### Info from Mongo DB"
   ]
  },
  {
   "cell_type": "markdown",
   "id": "690ddee4-292a-4b3f-8f7b-ffc93131bfec",
   "metadata": {},
   "source": [
    "Mongo DB connect"
   ]
  },
  {
   "cell_type": "code",
   "execution_count": 5,
   "id": "0023a80c-8527-40f5-9605-e49fccd170cf",
   "metadata": {},
   "outputs": [],
   "source": [
    "user = \"readerAlla\" \n",
    "password = \"t3mi2zmncdH7thiHAHDp\" \n",
    "host = \"10.10.100.72\" \n",
    "port = 27017 \n",
    "database = 'test' # name of database"
   ]
  },
  {
   "cell_type": "code",
   "execution_count": 7,
   "id": "e2c7ee9e-95d1-4722-ab56-c588ff84bb02",
   "metadata": {},
   "outputs": [],
   "source": [
    "client = MongoClient(f'mongodb://{user}:{password}@{host}:{port}/{database}')"
   ]
  },
  {
   "cell_type": "code",
   "execution_count": 9,
   "id": "f219ab9f-a41b-4ada-a219-0d48ca0f91c0",
   "metadata": {},
   "outputs": [
    {
     "data": {
      "text/plain": [
       "['admin', 'config', 'local', 'san_logs', 'sandwiches', 'test']"
      ]
     },
     "execution_count": 9,
     "metadata": {},
     "output_type": "execute_result"
    }
   ],
   "source": [
    "# check existing databases\n",
    "client.list_database_names()"
   ]
  },
  {
   "cell_type": "markdown",
   "id": "cd7bacd4-1ba6-4c41-91b4-bcdf437d2c1d",
   "metadata": {},
   "source": [
    "Choosing db and collection to use"
   ]
  },
  {
   "cell_type": "code",
   "execution_count": 14,
   "id": "a0f5415a-9fe6-43d1-8ea6-280a8456ce1c",
   "metadata": {},
   "outputs": [],
   "source": [
    "db = client['test']"
   ]
  },
  {
   "cell_type": "code",
   "execution_count": 16,
   "id": "123131ad-f7f3-4fba-ae04-df7f6de9a547",
   "metadata": {},
   "outputs": [],
   "source": [
    "collection_name = 'tokensInfo'\n",
    "collection = db[collection_name] "
   ]
  },
  {
   "cell_type": "markdown",
   "id": "36156baa-7bbc-4847-a6a9-fda2ac7c9f48",
   "metadata": {},
   "source": [
    "Query and creating df for query"
   ]
  },
  {
   "cell_type": "code",
   "execution_count": 31,
   "id": "da9bc5d3-ab15-43ba-9555-068880788b1e",
   "metadata": {},
   "outputs": [
    {
     "data": {
      "text/plain": [
       "<pymongo.cursor.Cursor at 0x17178a110>"
      ]
     },
     "execution_count": 31,
     "metadata": {},
     "output_type": "execute_result"
    }
   ],
   "source": [
    "query = {}\n",
    "# Projection to include address and name fields only, excluding _id\n",
    "projection = { 'address': 1, 'name': 1, '_id': 0 }\n",
    "\n",
    "# Execute the query with the projection and limit the results to 5 documents\n",
    "cursor = collection.find(query, projection)\n",
    "\n",
    "cursor"
   ]
  },
  {
   "cell_type": "markdown",
   "id": "34802a53-cc58-46de-bd7e-e341b1e7fdd5",
   "metadata": {},
   "source": [
    "#### Tokens info"
   ]
  },
  {
   "cell_type": "code",
   "execution_count": 33,
   "id": "ece66a0f-711e-4b76-a092-4080a7678915",
   "metadata": {},
   "outputs": [
    {
     "data": {
      "text/html": [
       "<div>\n",
       "<style scoped>\n",
       "    .dataframe tbody tr th:only-of-type {\n",
       "        vertical-align: middle;\n",
       "    }\n",
       "\n",
       "    .dataframe tbody tr th {\n",
       "        vertical-align: top;\n",
       "    }\n",
       "\n",
       "    .dataframe thead th {\n",
       "        text-align: right;\n",
       "    }\n",
       "</style>\n",
       "<table border=\"1\" class=\"dataframe\">\n",
       "  <thead>\n",
       "    <tr style=\"text-align: right;\">\n",
       "      <th></th>\n",
       "      <th>address</th>\n",
       "      <th>name</th>\n",
       "    </tr>\n",
       "  </thead>\n",
       "  <tbody>\n",
       "    <tr>\n",
       "      <th>0</th>\n",
       "      <td>0x2f8221e82e0d4669ad66eabf02a5baed43ea49e7</td>\n",
       "      <td>Newsly</td>\n",
       "    </tr>\n",
       "    <tr>\n",
       "      <th>1</th>\n",
       "      <td>0xc6bdb96e29c38dc43f014eed44de4106a6a8eb5f</td>\n",
       "      <td>Inu Inu</td>\n",
       "    </tr>\n",
       "    <tr>\n",
       "      <th>2</th>\n",
       "      <td>0x02020595e6a34a03a8e9c1f5624b1b7713810083</td>\n",
       "      <td>Spectra Chain</td>\n",
       "    </tr>\n",
       "    <tr>\n",
       "      <th>3</th>\n",
       "      <td>0xe970d68d29d6e89010110573c955f015ab11099f</td>\n",
       "      <td>Andy</td>\n",
       "    </tr>\n",
       "    <tr>\n",
       "      <th>4</th>\n",
       "      <td>0xd59d7d2e955533fcd21641da8a70eae9624a3c49</td>\n",
       "      <td>MagicRing</td>\n",
       "    </tr>\n",
       "    <tr>\n",
       "      <th>5</th>\n",
       "      <td>0x70bef3bb2f001da2fddb207dae696cd9faff3f5d</td>\n",
       "      <td>Ninja Squad Token</td>\n",
       "    </tr>\n",
       "    <tr>\n",
       "      <th>6</th>\n",
       "      <td>0x68bbed6a47194eff1cf514b50ea91895597fc91e</td>\n",
       "      <td>Andy</td>\n",
       "    </tr>\n",
       "    <tr>\n",
       "      <th>7</th>\n",
       "      <td>0xdac17f958d2ee523a2206206994597c13d831ec7</td>\n",
       "      <td>Tether USD</td>\n",
       "    </tr>\n",
       "    <tr>\n",
       "      <th>8</th>\n",
       "      <td>0xa0b86991c6218b36c1d19d4a2e9eb0ce3606eb48</td>\n",
       "      <td>USD Coin</td>\n",
       "    </tr>\n",
       "    <tr>\n",
       "      <th>9</th>\n",
       "      <td>0x95ad61b0a150d79219dcf64e1e6cc01f0b64c4ce</td>\n",
       "      <td>SHIBA INU</td>\n",
       "    </tr>\n",
       "    <tr>\n",
       "      <th>10</th>\n",
       "      <td>0x594daad7d77592a2b97b725a7ad59d7e188b5bfa</td>\n",
       "      <td>Apu Apustaja</td>\n",
       "    </tr>\n",
       "    <tr>\n",
       "      <th>11</th>\n",
       "      <td>0x80ee5c641a8ffc607545219a3856562f56427fe9</td>\n",
       "      <td>Brett</td>\n",
       "    </tr>\n",
       "    <tr>\n",
       "      <th>12</th>\n",
       "      <td>0x7bfde33d790411a88d46e9e1be32fc86228891a4</td>\n",
       "      <td>SHIBAUNIVERSE.ORG</td>\n",
       "    </tr>\n",
       "    <tr>\n",
       "      <th>13</th>\n",
       "      <td>0x815b6fc981fa3040e4545e9c78a77feaeb77b8b5</td>\n",
       "      <td>Gesture AI</td>\n",
       "    </tr>\n",
       "    <tr>\n",
       "      <th>14</th>\n",
       "      <td>0x292fcdd1b104de5a00250febba9bc6a5092a0076</td>\n",
       "      <td>HashAI</td>\n",
       "    </tr>\n",
       "    <tr>\n",
       "      <th>15</th>\n",
       "      <td>0x4da08a1bff50be96bded5c7019227164b49c2bfc</td>\n",
       "      <td>Mononoke Inu</td>\n",
       "    </tr>\n",
       "    <tr>\n",
       "      <th>16</th>\n",
       "      <td>0xe5c6f5fef89b64f36bfccb063962820136bac42f</td>\n",
       "      <td>Hoppy The Frog</td>\n",
       "    </tr>\n",
       "    <tr>\n",
       "      <th>17</th>\n",
       "      <td>0x55a380d134d722006a5ce2d510562e1239d225b1</td>\n",
       "      <td>Marvin Inu</td>\n",
       "    </tr>\n",
       "    <tr>\n",
       "      <th>18</th>\n",
       "      <td>0xae41b275aaaf484b541a5881a2dded9515184cca</td>\n",
       "      <td>ChainSwap</td>\n",
       "    </tr>\n",
       "    <tr>\n",
       "      <th>19</th>\n",
       "      <td>0x02eedc3d0cb09e0450c9ed2917005e9bd22cf763</td>\n",
       "      <td>LANDWOLF</td>\n",
       "    </tr>\n",
       "  </tbody>\n",
       "</table>\n",
       "</div>"
      ],
      "text/plain": [
       "                                       address               name\n",
       "0   0x2f8221e82e0d4669ad66eabf02a5baed43ea49e7             Newsly\n",
       "1   0xc6bdb96e29c38dc43f014eed44de4106a6a8eb5f            Inu Inu\n",
       "2   0x02020595e6a34a03a8e9c1f5624b1b7713810083      Spectra Chain\n",
       "3   0xe970d68d29d6e89010110573c955f015ab11099f               Andy\n",
       "4   0xd59d7d2e955533fcd21641da8a70eae9624a3c49          MagicRing\n",
       "5   0x70bef3bb2f001da2fddb207dae696cd9faff3f5d  Ninja Squad Token\n",
       "6   0x68bbed6a47194eff1cf514b50ea91895597fc91e               Andy\n",
       "7   0xdac17f958d2ee523a2206206994597c13d831ec7         Tether USD\n",
       "8   0xa0b86991c6218b36c1d19d4a2e9eb0ce3606eb48           USD Coin\n",
       "9   0x95ad61b0a150d79219dcf64e1e6cc01f0b64c4ce          SHIBA INU\n",
       "10  0x594daad7d77592a2b97b725a7ad59d7e188b5bfa       Apu Apustaja\n",
       "11  0x80ee5c641a8ffc607545219a3856562f56427fe9              Brett\n",
       "12  0x7bfde33d790411a88d46e9e1be32fc86228891a4  SHIBAUNIVERSE.ORG\n",
       "13  0x815b6fc981fa3040e4545e9c78a77feaeb77b8b5         Gesture AI\n",
       "14  0x292fcdd1b104de5a00250febba9bc6a5092a0076             HashAI\n",
       "15  0x4da08a1bff50be96bded5c7019227164b49c2bfc       Mononoke Inu\n",
       "16  0xe5c6f5fef89b64f36bfccb063962820136bac42f     Hoppy The Frog\n",
       "17  0x55a380d134d722006a5ce2d510562e1239d225b1         Marvin Inu\n",
       "18  0xae41b275aaaf484b541a5881a2dded9515184cca          ChainSwap\n",
       "19  0x02eedc3d0cb09e0450c9ed2917005e9bd22cf763           LANDWOLF"
      ]
     },
     "execution_count": 33,
     "metadata": {},
     "output_type": "execute_result"
    }
   ],
   "source": [
    "token_from_mongo = pd.DataFrame(list(cursor))\n",
    "token_from_mongo"
   ]
  },
  {
   "cell_type": "markdown",
   "id": "cd4d87b2-6460-4593-8497-024abad64d85",
   "metadata": {
    "jp-MarkdownHeadingCollapsed": true
   },
   "source": [
    "## Functions"
   ]
  },
  {
   "cell_type": "code",
   "execution_count": 357,
   "id": "4fab531d-820d-48f9-83a5-504379adb9e4",
   "metadata": {},
   "outputs": [],
   "source": [
    "def add_other(df,group_column:str,count_column:int,filter:int):\n",
    "    df[group_column] = df.apply(\n",
    "    lambda row: 'Other' if row[count_column] <= filter else row[group_column], \n",
    "    axis=1\n",
    "    )\n",
    "    return df"
   ]
  },
  {
   "cell_type": "code",
   "execution_count": 430,
   "id": "706aded2-ce10-49a4-b978-a822a9ba9632",
   "metadata": {},
   "outputs": [],
   "source": [
    "def group_table(df,group_column:str,count_column:int):\n",
    "    df = df.groupby([group_column]).agg(\n",
    "    {count_column: 'sum'}\n",
    "    ).reset_index()\n",
    "    return df"
   ]
  },
  {
   "cell_type": "code",
   "execution_count": 408,
   "id": "6d707269-14c3-4b01-84f0-d38e11924bf3",
   "metadata": {},
   "outputs": [],
   "source": [
    "def merger_func(df_1:pd.DataFrame, \n",
    "                df_2:pd.DataFrame, \n",
    "                key:str, \n",
    "                how:str):\n",
    "    merged_df = df_1.merge(df_2, on=key, how=how)\n",
    "    return merged_df"
   ]
  },
  {
   "cell_type": "markdown",
   "id": "158c89e1-9e51-4755-b24d-9dc5266dc571",
   "metadata": {},
   "source": [
    "## 2. Кількість конкурентів за токеном"
   ]
  },
  {
   "cell_type": "markdown",
   "id": "b83cfcd7-1f25-44ee-b937-4e667180822a",
   "metadata": {},
   "source": [
    "###  історично"
   ]
  },
  {
   "cell_type": "markdown",
   "id": "3f244bdc-b37f-4f6a-b828-66cdfaaa50ce",
   "metadata": {},
   "source": [
    "#### code"
   ]
  },
  {
   "cell_type": "code",
   "execution_count": 382,
   "id": "516ba346-e343-44d3-9a38-672633c6e892",
   "metadata": {},
   "outputs": [],
   "source": [
    "profit_token_hist = pd.read_excel('profit_token_hist_cleaned.xlsx') # not to delete!!"
   ]
  },
  {
   "cell_type": "code",
   "execution_count": 436,
   "id": "dafc5993-4b80-4edb-b79e-dc8e96547e31",
   "metadata": {},
   "outputs": [],
   "source": [
    "token_names = profit_token_hist[['address', 'name']].groupby(['address']).agg(\n",
    "    {'name': 'sum'}\n",
    "    ).reset_index() # not to delete!!"
   ]
  },
  {
   "cell_type": "code",
   "execution_count": 384,
   "id": "0e2520c1-77db-472b-a4d3-b1ce37a3a3c7",
   "metadata": {},
   "outputs": [],
   "source": [
    "profit_token_hist_other = add_other(profit_token_hist,'address','unique_sandwicher_count',5)"
   ]
  },
  {
   "cell_type": "code",
   "execution_count": 387,
   "id": "7880a5e6-a4d4-4c23-88e2-27d3fc192158",
   "metadata": {},
   "outputs": [],
   "source": [
    "profit_token_hist_grouped = group_table(profit_token_hist_other[['address', 'unique_sandwicher_count']],\n",
    "                                        'address',\n",
    "                                        'unique_sandwicher_count',\n",
    "                                        5)"
   ]
  },
  {
   "cell_type": "code",
   "execution_count": 438,
   "id": "adb79f39-5095-4f3e-846d-182fa701a343",
   "metadata": {},
   "outputs": [],
   "source": [
    "profit_token_hist_merged = merger_func(profit_token_hist_grouped, \n",
    "                                               token_names, \n",
    "                                               'address',\n",
    "                                               'left')"
   ]
  },
  {
   "cell_type": "code",
   "execution_count": 444,
   "id": "ba6ab3cb-ca85-44db-8d26-b39393dacde8",
   "metadata": {},
   "outputs": [],
   "source": [
    "profit_token_hist_cleaned = profit_token_hist_merged.sort_values(by = 'unique_sandwicher_count', ascending = False)"
   ]
  },
  {
   "cell_type": "code",
   "execution_count": 450,
   "id": "1dadf131-9bbb-4d37-8068-c6e42bcb1101",
   "metadata": {},
   "outputs": [],
   "source": [
    "profit_token_hist_without_other = profit_token_hist_cleaned[profit_token_hist_cleaned['name'] != 'Other']"
   ]
  },
  {
   "cell_type": "code",
   "execution_count": 452,
   "id": "a2973de7-c75c-4957-8b76-57ca2ebc4e81",
   "metadata": {},
   "outputs": [
    {
     "data": {
      "text/html": [
       "<div>\n",
       "<style scoped>\n",
       "    .dataframe tbody tr th:only-of-type {\n",
       "        vertical-align: middle;\n",
       "    }\n",
       "\n",
       "    .dataframe tbody tr th {\n",
       "        vertical-align: top;\n",
       "    }\n",
       "\n",
       "    .dataframe thead th {\n",
       "        text-align: right;\n",
       "    }\n",
       "</style>\n",
       "<table border=\"1\" class=\"dataframe\">\n",
       "  <thead>\n",
       "    <tr style=\"text-align: right;\">\n",
       "      <th></th>\n",
       "      <th>address</th>\n",
       "      <th>unique_sandwicher_count</th>\n",
       "      <th>name</th>\n",
       "    </tr>\n",
       "  </thead>\n",
       "  <tbody>\n",
       "    <tr>\n",
       "      <th>28</th>\n",
       "      <td>Other</td>\n",
       "      <td>1525</td>\n",
       "      <td>0</td>\n",
       "    </tr>\n",
       "    <tr>\n",
       "      <th>20</th>\n",
       "      <td>0xc02aaa39b223fe8d0a0e5c4f27ead9083c756cc2</td>\n",
       "      <td>109</td>\n",
       "      <td>WETH</td>\n",
       "    </tr>\n",
       "    <tr>\n",
       "      <th>24</th>\n",
       "      <td>0xdac17f958d2ee523a2206206994597c13d831ec7</td>\n",
       "      <td>23</td>\n",
       "      <td>USDT</td>\n",
       "    </tr>\n",
       "    <tr>\n",
       "      <th>15</th>\n",
       "      <td>0xa0b86991c6218b36c1d19d4a2e9eb0ce3606eb48</td>\n",
       "      <td>17</td>\n",
       "      <td>USDC</td>\n",
       "    </tr>\n",
       "    <tr>\n",
       "      <th>18</th>\n",
       "      <td>0xb62e45c3df611dce236a6ddc7a493d79f9dfadef</td>\n",
       "      <td>14</td>\n",
       "      <td>WSM</td>\n",
       "    </tr>\n",
       "    <tr>\n",
       "      <th>22</th>\n",
       "      <td>0xd1f3d2f5c12a205fc912358878b089eae48a557f</td>\n",
       "      <td>12</td>\n",
       "      <td>SNOW</td>\n",
       "    </tr>\n",
       "    <tr>\n",
       "      <th>0</th>\n",
       "      <td>0x15e6e0d4ebeac120f9a97e71faa6a0235b85ed12</td>\n",
       "      <td>10</td>\n",
       "      <td>SAVM</td>\n",
       "    </tr>\n",
       "    <tr>\n",
       "      <th>4</th>\n",
       "      <td>0x2b7c0fa747611d4412b54076c62119926474edb3</td>\n",
       "      <td>9</td>\n",
       "      <td>NCAT</td>\n",
       "    </tr>\n",
       "    <tr>\n",
       "      <th>27</th>\n",
       "      <td>0xfadfe3aa73202df64c374c9f2afd0f6029e06dc5</td>\n",
       "      <td>8</td>\n",
       "      <td>Xpayments</td>\n",
       "    </tr>\n",
       "    <tr>\n",
       "      <th>25</th>\n",
       "      <td>0xf2fdd9c25d7bc8002ce89716d1be484b2d976944</td>\n",
       "      <td>8</td>\n",
       "      <td>&amp;#120143; Payments</td>\n",
       "    </tr>\n",
       "    <tr>\n",
       "      <th>23</th>\n",
       "      <td>0xd9016a907dc0ecfa3ca425ab20b6b785b42f2373</td>\n",
       "      <td>8</td>\n",
       "      <td>GAMEE (GMEE)</td>\n",
       "    </tr>\n",
       "    <tr>\n",
       "      <th>10</th>\n",
       "      <td>0x6b175474e89094c44da98b954eedeac495271d0f</td>\n",
       "      <td>7</td>\n",
       "      <td>DAI</td>\n",
       "    </tr>\n",
       "    <tr>\n",
       "      <th>13</th>\n",
       "      <td>0x8df8f74cf0f9332572bd2a3b8cc8efd10c8c14a5</td>\n",
       "      <td>7</td>\n",
       "      <td>Snowman2.0 (SNOW2.0)</td>\n",
       "    </tr>\n",
       "    <tr>\n",
       "      <th>2</th>\n",
       "      <td>0x2260fac5e5542a773aa44fbcfedf7c193bc2c599</td>\n",
       "      <td>7</td>\n",
       "      <td>Wrapped BTC (WBTC)</td>\n",
       "    </tr>\n",
       "    <tr>\n",
       "      <th>6</th>\n",
       "      <td>0x3e362038fd3d08887d498944d489af7909619a9b</td>\n",
       "      <td>7</td>\n",
       "      <td>CHOW CHOW (CHOW)</td>\n",
       "    </tr>\n",
       "    <tr>\n",
       "      <th>3</th>\n",
       "      <td>0x286675fed193e3cfb20bfa3ba12db56e9231a0f7</td>\n",
       "      <td>7</td>\n",
       "      <td>Moka (MOKA)</td>\n",
       "    </tr>\n",
       "    <tr>\n",
       "      <th>7</th>\n",
       "      <td>0x423f4e6138e475d85cf7ea071ac92097ed631eea</td>\n",
       "      <td>6</td>\n",
       "      <td>Pond Coin (PNDC)</td>\n",
       "    </tr>\n",
       "    <tr>\n",
       "      <th>26</th>\n",
       "      <td>0xf8ebf4849f1fa4faf0dff2106a173d3a6cb2eb3a</td>\n",
       "      <td>6</td>\n",
       "      <td>TROLL</td>\n",
       "    </tr>\n",
       "    <tr>\n",
       "      <th>21</th>\n",
       "      <td>0xd0fce7c7ec915a5629d1cb2d89d644199a4880a7</td>\n",
       "      <td>6</td>\n",
       "      <td>Trump Media Technology Group (TMTG)</td>\n",
       "    </tr>\n",
       "    <tr>\n",
       "      <th>5</th>\n",
       "      <td>0x3a52ba0fc0271ed5408c2610acf482262546abf0</td>\n",
       "      <td>6</td>\n",
       "      <td>bci/acc (bci/acc)</td>\n",
       "    </tr>\n",
       "    <tr>\n",
       "      <th>19</th>\n",
       "      <td>0xbcd29da38b66e2b7855c92080ebe82330ed2012a</td>\n",
       "      <td>6</td>\n",
       "      <td>Joe Biden (BIDEN2024)</td>\n",
       "    </tr>\n",
       "    <tr>\n",
       "      <th>8</th>\n",
       "      <td>0x57a1d3836380b7c10941504147302050ccaad3de</td>\n",
       "      <td>6</td>\n",
       "      <td>Grok 1.5</td>\n",
       "    </tr>\n",
       "    <tr>\n",
       "      <th>17</th>\n",
       "      <td>0xa711bcc2b6f5c4fc3dfaccc2a01148765cbbab1c</td>\n",
       "      <td>6</td>\n",
       "      <td>Grok 1.5 (GROK1.5)</td>\n",
       "    </tr>\n",
       "    <tr>\n",
       "      <th>16</th>\n",
       "      <td>0xa1d0e215a23d7030842fc67ce582a6afa3ccab83</td>\n",
       "      <td>6</td>\n",
       "      <td>YFII.finance (YFII)</td>\n",
       "    </tr>\n",
       "    <tr>\n",
       "      <th>1</th>\n",
       "      <td>0x1ba6b8144d471b7decc638fe794c0bf9ad278297</td>\n",
       "      <td>6</td>\n",
       "      <td>Dope (DOPE)</td>\n",
       "    </tr>\n",
       "    <tr>\n",
       "      <th>12</th>\n",
       "      <td>0x8ab2ff0116a279a99950c66a12298962d152b83c</td>\n",
       "      <td>6</td>\n",
       "      <td>Ordiswap (ORDS)</td>\n",
       "    </tr>\n",
       "    <tr>\n",
       "      <th>11</th>\n",
       "      <td>0x7f39c581f595b53c5cb19bd0b3f8da6c935e2ca0</td>\n",
       "      <td>6</td>\n",
       "      <td>wstETH</td>\n",
       "    </tr>\n",
       "    <tr>\n",
       "      <th>9</th>\n",
       "      <td>0x5d56b6581d2e7e7574adce2dc593f499a53d7505</td>\n",
       "      <td>6</td>\n",
       "      <td>MACHINA</td>\n",
       "    </tr>\n",
       "    <tr>\n",
       "      <th>14</th>\n",
       "      <td>0x95640a134721475bc78594c8ea66c0182c7b9a50</td>\n",
       "      <td>6</td>\n",
       "      <td>MXH</td>\n",
       "    </tr>\n",
       "  </tbody>\n",
       "</table>\n",
       "</div>"
      ],
      "text/plain": [
       "                                       address  unique_sandwicher_count  \\\n",
       "28                                       Other                     1525   \n",
       "20  0xc02aaa39b223fe8d0a0e5c4f27ead9083c756cc2                      109   \n",
       "24  0xdac17f958d2ee523a2206206994597c13d831ec7                       23   \n",
       "15  0xa0b86991c6218b36c1d19d4a2e9eb0ce3606eb48                       17   \n",
       "18  0xb62e45c3df611dce236a6ddc7a493d79f9dfadef                       14   \n",
       "22  0xd1f3d2f5c12a205fc912358878b089eae48a557f                       12   \n",
       "0   0x15e6e0d4ebeac120f9a97e71faa6a0235b85ed12                       10   \n",
       "4   0x2b7c0fa747611d4412b54076c62119926474edb3                        9   \n",
       "27  0xfadfe3aa73202df64c374c9f2afd0f6029e06dc5                        8   \n",
       "25  0xf2fdd9c25d7bc8002ce89716d1be484b2d976944                        8   \n",
       "23  0xd9016a907dc0ecfa3ca425ab20b6b785b42f2373                        8   \n",
       "10  0x6b175474e89094c44da98b954eedeac495271d0f                        7   \n",
       "13  0x8df8f74cf0f9332572bd2a3b8cc8efd10c8c14a5                        7   \n",
       "2   0x2260fac5e5542a773aa44fbcfedf7c193bc2c599                        7   \n",
       "6   0x3e362038fd3d08887d498944d489af7909619a9b                        7   \n",
       "3   0x286675fed193e3cfb20bfa3ba12db56e9231a0f7                        7   \n",
       "7   0x423f4e6138e475d85cf7ea071ac92097ed631eea                        6   \n",
       "26  0xf8ebf4849f1fa4faf0dff2106a173d3a6cb2eb3a                        6   \n",
       "21  0xd0fce7c7ec915a5629d1cb2d89d644199a4880a7                        6   \n",
       "5   0x3a52ba0fc0271ed5408c2610acf482262546abf0                        6   \n",
       "19  0xbcd29da38b66e2b7855c92080ebe82330ed2012a                        6   \n",
       "8   0x57a1d3836380b7c10941504147302050ccaad3de                        6   \n",
       "17  0xa711bcc2b6f5c4fc3dfaccc2a01148765cbbab1c                        6   \n",
       "16  0xa1d0e215a23d7030842fc67ce582a6afa3ccab83                        6   \n",
       "1   0x1ba6b8144d471b7decc638fe794c0bf9ad278297                        6   \n",
       "12  0x8ab2ff0116a279a99950c66a12298962d152b83c                        6   \n",
       "11  0x7f39c581f595b53c5cb19bd0b3f8da6c935e2ca0                        6   \n",
       "9   0x5d56b6581d2e7e7574adce2dc593f499a53d7505                        6   \n",
       "14  0x95640a134721475bc78594c8ea66c0182c7b9a50                        6   \n",
       "\n",
       "                                   name  \n",
       "28                                    0  \n",
       "20                                 WETH  \n",
       "24                                 USDT  \n",
       "15                                 USDC  \n",
       "18                                  WSM  \n",
       "22                                 SNOW  \n",
       "0                                  SAVM  \n",
       "4                                  NCAT  \n",
       "27                            Xpayments  \n",
       "25                  &#120143; Payments   \n",
       "23                         GAMEE (GMEE)  \n",
       "10                                  DAI  \n",
       "13                 Snowman2.0 (SNOW2.0)  \n",
       "2                    Wrapped BTC (WBTC)  \n",
       "6                      CHOW CHOW (CHOW)  \n",
       "3                           Moka (MOKA)  \n",
       "7                      Pond Coin (PNDC)  \n",
       "26                                TROLL  \n",
       "21  Trump Media Technology Group (TMTG)  \n",
       "5                     bci/acc (bci/acc)  \n",
       "19                Joe Biden (BIDEN2024)  \n",
       "8                              Grok 1.5  \n",
       "17                   Grok 1.5 (GROK1.5)  \n",
       "16                  YFII.finance (YFII)  \n",
       "1                           Dope (DOPE)  \n",
       "12                      Ordiswap (ORDS)  \n",
       "11                               wstETH  \n",
       "9                               MACHINA  \n",
       "14                                  MXH  "
      ]
     },
     "execution_count": 452,
     "metadata": {},
     "output_type": "execute_result"
    }
   ],
   "source": [
    "profit_token_hist_without_other"
   ]
  },
  {
   "cell_type": "markdown",
   "id": "703fb5c7-a359-4a6f-a331-cd8cbe78a92f",
   "metadata": {},
   "source": [
    "#### plot and table"
   ]
  },
  {
   "cell_type": "code",
   "execution_count": 264,
   "id": "bcb4ed42-8f06-4a5a-b379-e60e414ddd7b",
   "metadata": {},
   "outputs": [
    {
     "data": {
      "application/vnd.plotly.v1+json": {
       "config": {
        "plotlyServerURL": "https://plot.ly"
       },
       "data": [
        {
         "marker": {
          "color": "blue"
         },
         "type": "bar",
         "x": [
          "WETH",
          "USDT",
          "USDC",
          "WSM",
          "SNOW",
          "SAVM",
          "NCAT",
          "GAMEE (GMEE)",
          "Xpayments",
          "&#120143; Payments ",
          "Wrapped BTC (WBTC)",
          "Moka (MOKA)",
          "DAI",
          "CHOW CHOW (CHOW)",
          "Snowman2.0 (SNOW2.0)",
          "YFII.finance (YFII)",
          "Trump Media Technology Group (TMTG)",
          "bci/acc (bci/acc)",
          "Pond Coin (PNDC)",
          "TROLL",
          "Ordiswap (ORDS)",
          "MXH",
          "MACHINA",
          "Joe Biden (BIDEN2024)",
          "Grok 1.5 (GROK1.5)",
          "Grok 1.5",
          "Dope (DOPE)",
          "wstETH"
         ],
         "y": [
          109,
          23,
          17,
          14,
          12,
          10,
          9,
          8,
          8,
          8,
          7,
          7,
          7,
          7,
          7,
          6,
          6,
          6,
          6,
          6,
          6,
          6,
          6,
          6,
          6,
          6,
          6,
          6
         ]
        }
       ],
       "layout": {
        "height": 600,
        "template": {
         "data": {
          "bar": [
           {
            "error_x": {
             "color": "#f2f5fa"
            },
            "error_y": {
             "color": "#f2f5fa"
            },
            "marker": {
             "line": {
              "color": "rgb(17,17,17)",
              "width": 0.5
             },
             "pattern": {
              "fillmode": "overlay",
              "size": 10,
              "solidity": 0.2
             }
            },
            "type": "bar"
           }
          ],
          "barpolar": [
           {
            "marker": {
             "line": {
              "color": "rgb(17,17,17)",
              "width": 0.5
             },
             "pattern": {
              "fillmode": "overlay",
              "size": 10,
              "solidity": 0.2
             }
            },
            "type": "barpolar"
           }
          ],
          "carpet": [
           {
            "aaxis": {
             "endlinecolor": "#A2B1C6",
             "gridcolor": "#506784",
             "linecolor": "#506784",
             "minorgridcolor": "#506784",
             "startlinecolor": "#A2B1C6"
            },
            "baxis": {
             "endlinecolor": "#A2B1C6",
             "gridcolor": "#506784",
             "linecolor": "#506784",
             "minorgridcolor": "#506784",
             "startlinecolor": "#A2B1C6"
            },
            "type": "carpet"
           }
          ],
          "choropleth": [
           {
            "colorbar": {
             "outlinewidth": 0,
             "ticks": ""
            },
            "type": "choropleth"
           }
          ],
          "contour": [
           {
            "colorbar": {
             "outlinewidth": 0,
             "ticks": ""
            },
            "colorscale": [
             [
              0,
              "#0d0887"
             ],
             [
              0.1111111111111111,
              "#46039f"
             ],
             [
              0.2222222222222222,
              "#7201a8"
             ],
             [
              0.3333333333333333,
              "#9c179e"
             ],
             [
              0.4444444444444444,
              "#bd3786"
             ],
             [
              0.5555555555555556,
              "#d8576b"
             ],
             [
              0.6666666666666666,
              "#ed7953"
             ],
             [
              0.7777777777777778,
              "#fb9f3a"
             ],
             [
              0.8888888888888888,
              "#fdca26"
             ],
             [
              1,
              "#f0f921"
             ]
            ],
            "type": "contour"
           }
          ],
          "contourcarpet": [
           {
            "colorbar": {
             "outlinewidth": 0,
             "ticks": ""
            },
            "type": "contourcarpet"
           }
          ],
          "heatmap": [
           {
            "colorbar": {
             "outlinewidth": 0,
             "ticks": ""
            },
            "colorscale": [
             [
              0,
              "#0d0887"
             ],
             [
              0.1111111111111111,
              "#46039f"
             ],
             [
              0.2222222222222222,
              "#7201a8"
             ],
             [
              0.3333333333333333,
              "#9c179e"
             ],
             [
              0.4444444444444444,
              "#bd3786"
             ],
             [
              0.5555555555555556,
              "#d8576b"
             ],
             [
              0.6666666666666666,
              "#ed7953"
             ],
             [
              0.7777777777777778,
              "#fb9f3a"
             ],
             [
              0.8888888888888888,
              "#fdca26"
             ],
             [
              1,
              "#f0f921"
             ]
            ],
            "type": "heatmap"
           }
          ],
          "heatmapgl": [
           {
            "colorbar": {
             "outlinewidth": 0,
             "ticks": ""
            },
            "colorscale": [
             [
              0,
              "#0d0887"
             ],
             [
              0.1111111111111111,
              "#46039f"
             ],
             [
              0.2222222222222222,
              "#7201a8"
             ],
             [
              0.3333333333333333,
              "#9c179e"
             ],
             [
              0.4444444444444444,
              "#bd3786"
             ],
             [
              0.5555555555555556,
              "#d8576b"
             ],
             [
              0.6666666666666666,
              "#ed7953"
             ],
             [
              0.7777777777777778,
              "#fb9f3a"
             ],
             [
              0.8888888888888888,
              "#fdca26"
             ],
             [
              1,
              "#f0f921"
             ]
            ],
            "type": "heatmapgl"
           }
          ],
          "histogram": [
           {
            "marker": {
             "pattern": {
              "fillmode": "overlay",
              "size": 10,
              "solidity": 0.2
             }
            },
            "type": "histogram"
           }
          ],
          "histogram2d": [
           {
            "colorbar": {
             "outlinewidth": 0,
             "ticks": ""
            },
            "colorscale": [
             [
              0,
              "#0d0887"
             ],
             [
              0.1111111111111111,
              "#46039f"
             ],
             [
              0.2222222222222222,
              "#7201a8"
             ],
             [
              0.3333333333333333,
              "#9c179e"
             ],
             [
              0.4444444444444444,
              "#bd3786"
             ],
             [
              0.5555555555555556,
              "#d8576b"
             ],
             [
              0.6666666666666666,
              "#ed7953"
             ],
             [
              0.7777777777777778,
              "#fb9f3a"
             ],
             [
              0.8888888888888888,
              "#fdca26"
             ],
             [
              1,
              "#f0f921"
             ]
            ],
            "type": "histogram2d"
           }
          ],
          "histogram2dcontour": [
           {
            "colorbar": {
             "outlinewidth": 0,
             "ticks": ""
            },
            "colorscale": [
             [
              0,
              "#0d0887"
             ],
             [
              0.1111111111111111,
              "#46039f"
             ],
             [
              0.2222222222222222,
              "#7201a8"
             ],
             [
              0.3333333333333333,
              "#9c179e"
             ],
             [
              0.4444444444444444,
              "#bd3786"
             ],
             [
              0.5555555555555556,
              "#d8576b"
             ],
             [
              0.6666666666666666,
              "#ed7953"
             ],
             [
              0.7777777777777778,
              "#fb9f3a"
             ],
             [
              0.8888888888888888,
              "#fdca26"
             ],
             [
              1,
              "#f0f921"
             ]
            ],
            "type": "histogram2dcontour"
           }
          ],
          "mesh3d": [
           {
            "colorbar": {
             "outlinewidth": 0,
             "ticks": ""
            },
            "type": "mesh3d"
           }
          ],
          "parcoords": [
           {
            "line": {
             "colorbar": {
              "outlinewidth": 0,
              "ticks": ""
             }
            },
            "type": "parcoords"
           }
          ],
          "pie": [
           {
            "automargin": true,
            "type": "pie"
           }
          ],
          "scatter": [
           {
            "marker": {
             "line": {
              "color": "#283442"
             }
            },
            "type": "scatter"
           }
          ],
          "scatter3d": [
           {
            "line": {
             "colorbar": {
              "outlinewidth": 0,
              "ticks": ""
             }
            },
            "marker": {
             "colorbar": {
              "outlinewidth": 0,
              "ticks": ""
             }
            },
            "type": "scatter3d"
           }
          ],
          "scattercarpet": [
           {
            "marker": {
             "colorbar": {
              "outlinewidth": 0,
              "ticks": ""
             }
            },
            "type": "scattercarpet"
           }
          ],
          "scattergeo": [
           {
            "marker": {
             "colorbar": {
              "outlinewidth": 0,
              "ticks": ""
             }
            },
            "type": "scattergeo"
           }
          ],
          "scattergl": [
           {
            "marker": {
             "line": {
              "color": "#283442"
             }
            },
            "type": "scattergl"
           }
          ],
          "scattermapbox": [
           {
            "marker": {
             "colorbar": {
              "outlinewidth": 0,
              "ticks": ""
             }
            },
            "type": "scattermapbox"
           }
          ],
          "scatterpolar": [
           {
            "marker": {
             "colorbar": {
              "outlinewidth": 0,
              "ticks": ""
             }
            },
            "type": "scatterpolar"
           }
          ],
          "scatterpolargl": [
           {
            "marker": {
             "colorbar": {
              "outlinewidth": 0,
              "ticks": ""
             }
            },
            "type": "scatterpolargl"
           }
          ],
          "scatterternary": [
           {
            "marker": {
             "colorbar": {
              "outlinewidth": 0,
              "ticks": ""
             }
            },
            "type": "scatterternary"
           }
          ],
          "surface": [
           {
            "colorbar": {
             "outlinewidth": 0,
             "ticks": ""
            },
            "colorscale": [
             [
              0,
              "#0d0887"
             ],
             [
              0.1111111111111111,
              "#46039f"
             ],
             [
              0.2222222222222222,
              "#7201a8"
             ],
             [
              0.3333333333333333,
              "#9c179e"
             ],
             [
              0.4444444444444444,
              "#bd3786"
             ],
             [
              0.5555555555555556,
              "#d8576b"
             ],
             [
              0.6666666666666666,
              "#ed7953"
             ],
             [
              0.7777777777777778,
              "#fb9f3a"
             ],
             [
              0.8888888888888888,
              "#fdca26"
             ],
             [
              1,
              "#f0f921"
             ]
            ],
            "type": "surface"
           }
          ],
          "table": [
           {
            "cells": {
             "fill": {
              "color": "#506784"
             },
             "line": {
              "color": "rgb(17,17,17)"
             }
            },
            "header": {
             "fill": {
              "color": "#2a3f5f"
             },
             "line": {
              "color": "rgb(17,17,17)"
             }
            },
            "type": "table"
           }
          ]
         },
         "layout": {
          "annotationdefaults": {
           "arrowcolor": "#f2f5fa",
           "arrowhead": 0,
           "arrowwidth": 1
          },
          "autotypenumbers": "strict",
          "coloraxis": {
           "colorbar": {
            "outlinewidth": 0,
            "ticks": ""
           }
          },
          "colorscale": {
           "diverging": [
            [
             0,
             "#8e0152"
            ],
            [
             0.1,
             "#c51b7d"
            ],
            [
             0.2,
             "#de77ae"
            ],
            [
             0.3,
             "#f1b6da"
            ],
            [
             0.4,
             "#fde0ef"
            ],
            [
             0.5,
             "#f7f7f7"
            ],
            [
             0.6,
             "#e6f5d0"
            ],
            [
             0.7,
             "#b8e186"
            ],
            [
             0.8,
             "#7fbc41"
            ],
            [
             0.9,
             "#4d9221"
            ],
            [
             1,
             "#276419"
            ]
           ],
           "sequential": [
            [
             0,
             "#0d0887"
            ],
            [
             0.1111111111111111,
             "#46039f"
            ],
            [
             0.2222222222222222,
             "#7201a8"
            ],
            [
             0.3333333333333333,
             "#9c179e"
            ],
            [
             0.4444444444444444,
             "#bd3786"
            ],
            [
             0.5555555555555556,
             "#d8576b"
            ],
            [
             0.6666666666666666,
             "#ed7953"
            ],
            [
             0.7777777777777778,
             "#fb9f3a"
            ],
            [
             0.8888888888888888,
             "#fdca26"
            ],
            [
             1,
             "#f0f921"
            ]
           ],
           "sequentialminus": [
            [
             0,
             "#0d0887"
            ],
            [
             0.1111111111111111,
             "#46039f"
            ],
            [
             0.2222222222222222,
             "#7201a8"
            ],
            [
             0.3333333333333333,
             "#9c179e"
            ],
            [
             0.4444444444444444,
             "#bd3786"
            ],
            [
             0.5555555555555556,
             "#d8576b"
            ],
            [
             0.6666666666666666,
             "#ed7953"
            ],
            [
             0.7777777777777778,
             "#fb9f3a"
            ],
            [
             0.8888888888888888,
             "#fdca26"
            ],
            [
             1,
             "#f0f921"
            ]
           ]
          },
          "colorway": [
           "#636efa",
           "#EF553B",
           "#00cc96",
           "#ab63fa",
           "#FFA15A",
           "#19d3f3",
           "#FF6692",
           "#B6E880",
           "#FF97FF",
           "#FECB52"
          ],
          "font": {
           "color": "#f2f5fa"
          },
          "geo": {
           "bgcolor": "rgb(17,17,17)",
           "lakecolor": "rgb(17,17,17)",
           "landcolor": "rgb(17,17,17)",
           "showlakes": true,
           "showland": true,
           "subunitcolor": "#506784"
          },
          "hoverlabel": {
           "align": "left"
          },
          "hovermode": "closest",
          "mapbox": {
           "style": "dark"
          },
          "paper_bgcolor": "rgb(17,17,17)",
          "plot_bgcolor": "rgb(17,17,17)",
          "polar": {
           "angularaxis": {
            "gridcolor": "#506784",
            "linecolor": "#506784",
            "ticks": ""
           },
           "bgcolor": "rgb(17,17,17)",
           "radialaxis": {
            "gridcolor": "#506784",
            "linecolor": "#506784",
            "ticks": ""
           }
          },
          "scene": {
           "xaxis": {
            "backgroundcolor": "rgb(17,17,17)",
            "gridcolor": "#506784",
            "gridwidth": 2,
            "linecolor": "#506784",
            "showbackground": true,
            "ticks": "",
            "zerolinecolor": "#C8D4E3"
           },
           "yaxis": {
            "backgroundcolor": "rgb(17,17,17)",
            "gridcolor": "#506784",
            "gridwidth": 2,
            "linecolor": "#506784",
            "showbackground": true,
            "ticks": "",
            "zerolinecolor": "#C8D4E3"
           },
           "zaxis": {
            "backgroundcolor": "rgb(17,17,17)",
            "gridcolor": "#506784",
            "gridwidth": 2,
            "linecolor": "#506784",
            "showbackground": true,
            "ticks": "",
            "zerolinecolor": "#C8D4E3"
           }
          },
          "shapedefaults": {
           "line": {
            "color": "#f2f5fa"
           }
          },
          "sliderdefaults": {
           "bgcolor": "#C8D4E3",
           "bordercolor": "rgb(17,17,17)",
           "borderwidth": 1,
           "tickwidth": 0
          },
          "ternary": {
           "aaxis": {
            "gridcolor": "#506784",
            "linecolor": "#506784",
            "ticks": ""
           },
           "baxis": {
            "gridcolor": "#506784",
            "linecolor": "#506784",
            "ticks": ""
           },
           "bgcolor": "rgb(17,17,17)",
           "caxis": {
            "gridcolor": "#506784",
            "linecolor": "#506784",
            "ticks": ""
           }
          },
          "title": {
           "x": 0.05
          },
          "updatemenudefaults": {
           "bgcolor": "#506784",
           "borderwidth": 0
          },
          "xaxis": {
           "automargin": true,
           "gridcolor": "#283442",
           "linecolor": "#506784",
           "ticks": "",
           "title": {
            "standoff": 15
           },
           "zerolinecolor": "#283442",
           "zerolinewidth": 2
          },
          "yaxis": {
           "automargin": true,
           "gridcolor": "#283442",
           "linecolor": "#506784",
           "ticks": "",
           "title": {
            "standoff": 15
           },
           "zerolinecolor": "#283442",
           "zerolinewidth": 2
          }
         }
        },
        "title": {
         "text": "Histogram of Unique Sandwicher Count by Token Name"
        },
        "width": 1000,
        "xaxis": {
         "autorange": true,
         "range": [
          -0.5,
          27.5
         ],
         "tickangle": -45,
         "title": {
          "text": "Token Name"
         },
         "type": "category"
        },
        "yaxis": {
         "autorange": true,
         "range": [
          0,
          114.73684210526316
         ],
         "title": {
          "text": "Unique Sandwicher Count"
         },
         "type": "linear"
        }
       }
      },
      "image/png": "[encoded data removed]",
      "text/html": [
       "<div>                            <div id=\"3d21848f-f2ac-4eca-b02a-1ee2dd2b4ed8\" class=\"plotly-graph-div\" style=\"height:600px; width:1000px;\"></div>            <script type=\"text/javascript\">                require([\"plotly\"], function(Plotly) {                    window.PLOTLYENV=window.PLOTLYENV || {};                                    if (document.getElementById(\"3d21848f-f2ac-4eca-b02a-1ee2dd2b4ed8\")) {                    Plotly.newPlot(                        \"3d21848f-f2ac-4eca-b02a-1ee2dd2b4ed8\",                        [{\"marker\":{\"color\":\"blue\"},\"x\":[\"WETH\",\"USDT\",\"USDC\",\"WSM\",\"SNOW\",\"SAVM\",\"NCAT\",\"GAMEE (GMEE)\",\"Xpayments\",\"&#120143; Payments \",\"Wrapped BTC (WBTC)\",\"Moka (MOKA)\",\"DAI\",\"CHOW CHOW (CHOW)\",\"Snowman2.0 (SNOW2.0)\",\"YFII.finance (YFII)\",\"Trump Media Technology Group (TMTG)\",\"bci/acc (bci/acc)\",\"Pond Coin (PNDC)\",\"TROLL\",\"Ordiswap (ORDS)\",\"MXH\",\"MACHINA\",\"Joe Biden (BIDEN2024)\",\"Grok 1.5 (GROK1.5)\",\"Grok 1.5\",\"Dope (DOPE)\",\"wstETH\"],\"y\":[109,23,17,14,12,10,9,8,8,8,7,7,7,7,7,6,6,6,6,6,6,6,6,6,6,6,6,6],\"type\":\"bar\"}],                        {\"template\":{\"data\":{\"barpolar\":[{\"marker\":{\"line\":{\"color\":\"rgb(17,17,17)\",\"width\":0.5},\"pattern\":{\"fillmode\":\"overlay\",\"size\":10,\"solidity\":0.2}},\"type\":\"barpolar\"}],\"bar\":[{\"error_x\":{\"color\":\"#f2f5fa\"},\"error_y\":{\"color\":\"#f2f5fa\"},\"marker\":{\"line\":{\"color\":\"rgb(17,17,17)\",\"width\":0.5},\"pattern\":{\"fillmode\":\"overlay\",\"size\":10,\"solidity\":0.2}},\"type\":\"bar\"}],\"carpet\":[{\"aaxis\":{\"endlinecolor\":\"#A2B1C6\",\"gridcolor\":\"#506784\",\"linecolor\":\"#506784\",\"minorgridcolor\":\"#506784\",\"startlinecolor\":\"#A2B1C6\"},\"baxis\":{\"endlinecolor\":\"#A2B1C6\",\"gridcolor\":\"#506784\",\"linecolor\":\"#506784\",\"minorgridcolor\":\"#506784\",\"startlinecolor\":\"#A2B1C6\"},\"type\":\"carpet\"}],\"choropleth\":[{\"colorbar\":{\"outlinewidth\":0,\"ticks\":\"\"},\"type\":\"choropleth\"}],\"contourcarpet\":[{\"colorbar\":{\"outlinewidth\":0,\"ticks\":\"\"},\"type\":\"contourcarpet\"}],\"contour\":[{\"colorbar\":{\"outlinewidth\":0,\"ticks\":\"\"},\"colorscale\":[[0.0,\"#0d0887\"],[0.1111111111111111,\"#46039f\"],[0.2222222222222222,\"#7201a8\"],[0.3333333333333333,\"#9c179e\"],[0.4444444444444444,\"#bd3786\"],[0.5555555555555556,\"#d8576b\"],[0.6666666666666666,\"#ed7953\"],[0.7777777777777778,\"#fb9f3a\"],[0.8888888888888888,\"#fdca26\"],[1.0,\"#f0f921\"]],\"type\":\"contour\"}],\"heatmapgl\":[{\"colorbar\":{\"outlinewidth\":0,\"ticks\":\"\"},\"colorscale\":[[0.0,\"#0d0887\"],[0.1111111111111111,\"#46039f\"],[0.2222222222222222,\"#7201a8\"],[0.3333333333333333,\"#9c179e\"],[0.4444444444444444,\"#bd3786\"],[0.5555555555555556,\"#d8576b\"],[0.6666666666666666,\"#ed7953\"],[0.7777777777777778,\"#fb9f3a\"],[0.8888888888888888,\"#fdca26\"],[1.0,\"#f0f921\"]],\"type\":\"heatmapgl\"}],\"heatmap\":[{\"colorbar\":{\"outlinewidth\":0,\"ticks\":\"\"},\"colorscale\":[[0.0,\"#0d0887\"],[0.1111111111111111,\"#46039f\"],[0.2222222222222222,\"#7201a8\"],[0.3333333333333333,\"#9c179e\"],[0.4444444444444444,\"#bd3786\"],[0.5555555555555556,\"#d8576b\"],[0.6666666666666666,\"#ed7953\"],[0.7777777777777778,\"#fb9f3a\"],[0.8888888888888888,\"#fdca26\"],[1.0,\"#f0f921\"]],\"type\":\"heatmap\"}],\"histogram2dcontour\":[{\"colorbar\":{\"outlinewidth\":0,\"ticks\":\"\"},\"colorscale\":[[0.0,\"#0d0887\"],[0.1111111111111111,\"#46039f\"],[0.2222222222222222,\"#7201a8\"],[0.3333333333333333,\"#9c179e\"],[0.4444444444444444,\"#bd3786\"],[0.5555555555555556,\"#d8576b\"],[0.6666666666666666,\"#ed7953\"],[0.7777777777777778,\"#fb9f3a\"],[0.8888888888888888,\"#fdca26\"],[1.0,\"#f0f921\"]],\"type\":\"histogram2dcontour\"}],\"histogram2d\":[{\"colorbar\":{\"outlinewidth\":0,\"ticks\":\"\"},\"colorscale\":[[0.0,\"#0d0887\"],[0.1111111111111111,\"#46039f\"],[0.2222222222222222,\"#7201a8\"],[0.3333333333333333,\"#9c179e\"],[0.4444444444444444,\"#bd3786\"],[0.5555555555555556,\"#d8576b\"],[0.6666666666666666,\"#ed7953\"],[0.7777777777777778,\"#fb9f3a\"],[0.8888888888888888,\"#fdca26\"],[1.0,\"#f0f921\"]],\"type\":\"histogram2d\"}],\"histogram\":[{\"marker\":{\"pattern\":{\"fillmode\":\"overlay\",\"size\":10,\"solidity\":0.2}},\"type\":\"histogram\"}],\"mesh3d\":[{\"colorbar\":{\"outlinewidth\":0,\"ticks\":\"\"},\"type\":\"mesh3d\"}],\"parcoords\":[{\"line\":{\"colorbar\":{\"outlinewidth\":0,\"ticks\":\"\"}},\"type\":\"parcoords\"}],\"pie\":[{\"automargin\":true,\"type\":\"pie\"}],\"scatter3d\":[{\"line\":{\"colorbar\":{\"outlinewidth\":0,\"ticks\":\"\"}},\"marker\":{\"colorbar\":{\"outlinewidth\":0,\"ticks\":\"\"}},\"type\":\"scatter3d\"}],\"scattercarpet\":[{\"marker\":{\"colorbar\":{\"outlinewidth\":0,\"ticks\":\"\"}},\"type\":\"scattercarpet\"}],\"scattergeo\":[{\"marker\":{\"colorbar\":{\"outlinewidth\":0,\"ticks\":\"\"}},\"type\":\"scattergeo\"}],\"scattergl\":[{\"marker\":{\"line\":{\"color\":\"#283442\"}},\"type\":\"scattergl\"}],\"scattermapbox\":[{\"marker\":{\"colorbar\":{\"outlinewidth\":0,\"ticks\":\"\"}},\"type\":\"scattermapbox\"}],\"scatterpolargl\":[{\"marker\":{\"colorbar\":{\"outlinewidth\":0,\"ticks\":\"\"}},\"type\":\"scatterpolargl\"}],\"scatterpolar\":[{\"marker\":{\"colorbar\":{\"outlinewidth\":0,\"ticks\":\"\"}},\"type\":\"scatterpolar\"}],\"scatter\":[{\"marker\":{\"line\":{\"color\":\"#283442\"}},\"type\":\"scatter\"}],\"scatterternary\":[{\"marker\":{\"colorbar\":{\"outlinewidth\":0,\"ticks\":\"\"}},\"type\":\"scatterternary\"}],\"surface\":[{\"colorbar\":{\"outlinewidth\":0,\"ticks\":\"\"},\"colorscale\":[[0.0,\"#0d0887\"],[0.1111111111111111,\"#46039f\"],[0.2222222222222222,\"#7201a8\"],[0.3333333333333333,\"#9c179e\"],[0.4444444444444444,\"#bd3786\"],[0.5555555555555556,\"#d8576b\"],[0.6666666666666666,\"#ed7953\"],[0.7777777777777778,\"#fb9f3a\"],[0.8888888888888888,\"#fdca26\"],[1.0,\"#f0f921\"]],\"type\":\"surface\"}],\"table\":[{\"cells\":{\"fill\":{\"color\":\"#506784\"},\"line\":{\"color\":\"rgb(17,17,17)\"}},\"header\":{\"fill\":{\"color\":\"#2a3f5f\"},\"line\":{\"color\":\"rgb(17,17,17)\"}},\"type\":\"table\"}]},\"layout\":{\"annotationdefaults\":{\"arrowcolor\":\"#f2f5fa\",\"arrowhead\":0,\"arrowwidth\":1},\"autotypenumbers\":\"strict\",\"coloraxis\":{\"colorbar\":{\"outlinewidth\":0,\"ticks\":\"\"}},\"colorscale\":{\"diverging\":[[0,\"#8e0152\"],[0.1,\"#c51b7d\"],[0.2,\"#de77ae\"],[0.3,\"#f1b6da\"],[0.4,\"#fde0ef\"],[0.5,\"#f7f7f7\"],[0.6,\"#e6f5d0\"],[0.7,\"#b8e186\"],[0.8,\"#7fbc41\"],[0.9,\"#4d9221\"],[1,\"#276419\"]],\"sequential\":[[0.0,\"#0d0887\"],[0.1111111111111111,\"#46039f\"],[0.2222222222222222,\"#7201a8\"],[0.3333333333333333,\"#9c179e\"],[0.4444444444444444,\"#bd3786\"],[0.5555555555555556,\"#d8576b\"],[0.6666666666666666,\"#ed7953\"],[0.7777777777777778,\"#fb9f3a\"],[0.8888888888888888,\"#fdca26\"],[1.0,\"#f0f921\"]],\"sequentialminus\":[[0.0,\"#0d0887\"],[0.1111111111111111,\"#46039f\"],[0.2222222222222222,\"#7201a8\"],[0.3333333333333333,\"#9c179e\"],[0.4444444444444444,\"#bd3786\"],[0.5555555555555556,\"#d8576b\"],[0.6666666666666666,\"#ed7953\"],[0.7777777777777778,\"#fb9f3a\"],[0.8888888888888888,\"#fdca26\"],[1.0,\"#f0f921\"]]},\"colorway\":[\"#636efa\",\"#EF553B\",\"#00cc96\",\"#ab63fa\",\"#FFA15A\",\"#19d3f3\",\"#FF6692\",\"#B6E880\",\"#FF97FF\",\"#FECB52\"],\"font\":{\"color\":\"#f2f5fa\"},\"geo\":{\"bgcolor\":\"rgb(17,17,17)\",\"lakecolor\":\"rgb(17,17,17)\",\"landcolor\":\"rgb(17,17,17)\",\"showlakes\":true,\"showland\":true,\"subunitcolor\":\"#506784\"},\"hoverlabel\":{\"align\":\"left\"},\"hovermode\":\"closest\",\"mapbox\":{\"style\":\"dark\"},\"paper_bgcolor\":\"rgb(17,17,17)\",\"plot_bgcolor\":\"rgb(17,17,17)\",\"polar\":{\"angularaxis\":{\"gridcolor\":\"#506784\",\"linecolor\":\"#506784\",\"ticks\":\"\"},\"bgcolor\":\"rgb(17,17,17)\",\"radialaxis\":{\"gridcolor\":\"#506784\",\"linecolor\":\"#506784\",\"ticks\":\"\"}},\"scene\":{\"xaxis\":{\"backgroundcolor\":\"rgb(17,17,17)\",\"gridcolor\":\"#506784\",\"gridwidth\":2,\"linecolor\":\"#506784\",\"showbackground\":true,\"ticks\":\"\",\"zerolinecolor\":\"#C8D4E3\"},\"yaxis\":{\"backgroundcolor\":\"rgb(17,17,17)\",\"gridcolor\":\"#506784\",\"gridwidth\":2,\"linecolor\":\"#506784\",\"showbackground\":true,\"ticks\":\"\",\"zerolinecolor\":\"#C8D4E3\"},\"zaxis\":{\"backgroundcolor\":\"rgb(17,17,17)\",\"gridcolor\":\"#506784\",\"gridwidth\":2,\"linecolor\":\"#506784\",\"showbackground\":true,\"ticks\":\"\",\"zerolinecolor\":\"#C8D4E3\"}},\"shapedefaults\":{\"line\":{\"color\":\"#f2f5fa\"}},\"sliderdefaults\":{\"bgcolor\":\"#C8D4E3\",\"bordercolor\":\"rgb(17,17,17)\",\"borderwidth\":1,\"tickwidth\":0},\"ternary\":{\"aaxis\":{\"gridcolor\":\"#506784\",\"linecolor\":\"#506784\",\"ticks\":\"\"},\"baxis\":{\"gridcolor\":\"#506784\",\"linecolor\":\"#506784\",\"ticks\":\"\"},\"bgcolor\":\"rgb(17,17,17)\",\"caxis\":{\"gridcolor\":\"#506784\",\"linecolor\":\"#506784\",\"ticks\":\"\"}},\"title\":{\"x\":0.05},\"updatemenudefaults\":{\"bgcolor\":\"#506784\",\"borderwidth\":0},\"xaxis\":{\"automargin\":true,\"gridcolor\":\"#283442\",\"linecolor\":\"#506784\",\"ticks\":\"\",\"title\":{\"standoff\":15},\"zerolinecolor\":\"#283442\",\"zerolinewidth\":2},\"yaxis\":{\"automargin\":true,\"gridcolor\":\"#283442\",\"linecolor\":\"#506784\",\"ticks\":\"\",\"title\":{\"standoff\":15},\"zerolinecolor\":\"#283442\",\"zerolinewidth\":2}}},\"xaxis\":{\"title\":{\"text\":\"Token Name\"},\"tickangle\":-45},\"title\":{\"text\":\"Histogram of Unique Sandwicher Count by Token Name\"},\"yaxis\":{\"title\":{\"text\":\"Unique Sandwicher Count\"}},\"width\":1000,\"height\":600},                        {\"responsive\": true}                    ).then(function(){\n",
       "                            \n",
       "var gd = document.getElementById('3d21848f-f2ac-4eca-b02a-1ee2dd2b4ed8');\n",
       "var x = new MutationObserver(function (mutations, observer) {{\n",
       "        var display = window.getComputedStyle(gd).display;\n",
       "        if (!display || display === 'none') {{\n",
       "            console.log([gd, 'removed!']);\n",
       "            Plotly.purge(gd);\n",
       "            observer.disconnect();\n",
       "        }}\n",
       "}});\n",
       "\n",
       "// Listen for the removal of the full notebook cells\n",
       "var notebookContainer = gd.closest('#notebook-container');\n",
       "if (notebookContainer) {{\n",
       "    x.observe(notebookContainer, {childList: true});\n",
       "}}\n",
       "\n",
       "// Listen for the clearing of the current output cell\n",
       "var outputEl = gd.closest('.output');\n",
       "if (outputEl) {{\n",
       "    x.observe(outputEl, {childList: true});\n",
       "}}\n",
       "\n",
       "                        })                };                });            </script>        </div>"
      ]
     },
     "metadata": {},
     "output_type": "display_data"
    }
   ],
   "source": [
    "fig = go.Figure()\n",
    "\n",
    "fig.add_trace(go.Bar(\n",
    "    x=profit_token_hist_without_other['name'],\n",
    "    y=profit_token_hist_without_other['unique_sandwicher_count'],\n",
    "    marker_color='blue'\n",
    "))\n",
    "\n",
    "fig.update_layout(\n",
    "    title='Histogram of Unique Sandwicher Count by Token Name',\n",
    "    xaxis_title='Token Name',\n",
    "    yaxis_title='Unique Sandwicher Count',\n",
    "    xaxis_tickangle=-45,  \n",
    "    template='plotly_dark',  \n",
    "    width=1000, \n",
    "    height=600 \n",
    ")\n",
    "\n",
    "fig.show()"
   ]
  },
  {
   "cell_type": "code",
   "execution_count": 266,
   "id": "63a12075-de60-4fc1-aa23-eaaab0d2ecee",
   "metadata": {},
   "outputs": [
    {
     "data": {
      "text/html": [
       "<div>\n",
       "<style scoped>\n",
       "    .dataframe tbody tr th:only-of-type {\n",
       "        vertical-align: middle;\n",
       "    }\n",
       "\n",
       "    .dataframe tbody tr th {\n",
       "        vertical-align: top;\n",
       "    }\n",
       "\n",
       "    .dataframe thead th {\n",
       "        text-align: right;\n",
       "    }\n",
       "</style>\n",
       "<table border=\"1\" class=\"dataframe\">\n",
       "  <thead>\n",
       "    <tr style=\"text-align: right;\">\n",
       "      <th></th>\n",
       "      <th>name</th>\n",
       "      <th>unique_sandwicher_count</th>\n",
       "    </tr>\n",
       "  </thead>\n",
       "  <tbody>\n",
       "    <tr>\n",
       "      <th>13</th>\n",
       "      <td>Other</td>\n",
       "      <td>1525</td>\n",
       "    </tr>\n",
       "    <tr>\n",
       "      <th>22</th>\n",
       "      <td>WETH</td>\n",
       "      <td>109</td>\n",
       "    </tr>\n",
       "    <tr>\n",
       "      <th>21</th>\n",
       "      <td>USDT</td>\n",
       "      <td>23</td>\n",
       "    </tr>\n",
       "    <tr>\n",
       "      <th>20</th>\n",
       "      <td>USDC</td>\n",
       "      <td>17</td>\n",
       "    </tr>\n",
       "    <tr>\n",
       "      <th>23</th>\n",
       "      <td>WSM</td>\n",
       "      <td>14</td>\n",
       "    </tr>\n",
       "    <tr>\n",
       "      <th>16</th>\n",
       "      <td>SNOW</td>\n",
       "      <td>12</td>\n",
       "    </tr>\n",
       "    <tr>\n",
       "      <th>15</th>\n",
       "      <td>SAVM</td>\n",
       "      <td>10</td>\n",
       "    </tr>\n",
       "    <tr>\n",
       "      <th>11</th>\n",
       "      <td>NCAT</td>\n",
       "      <td>9</td>\n",
       "    </tr>\n",
       "    <tr>\n",
       "      <th>4</th>\n",
       "      <td>GAMEE (GMEE)</td>\n",
       "      <td>8</td>\n",
       "    </tr>\n",
       "    <tr>\n",
       "      <th>25</th>\n",
       "      <td>Xpayments</td>\n",
       "      <td>8</td>\n",
       "    </tr>\n",
       "    <tr>\n",
       "      <th>0</th>\n",
       "      <td>&amp;#120143; Payments</td>\n",
       "      <td>8</td>\n",
       "    </tr>\n",
       "    <tr>\n",
       "      <th>24</th>\n",
       "      <td>Wrapped BTC (WBTC)</td>\n",
       "      <td>7</td>\n",
       "    </tr>\n",
       "    <tr>\n",
       "      <th>10</th>\n",
       "      <td>Moka (MOKA)</td>\n",
       "      <td>7</td>\n",
       "    </tr>\n",
       "    <tr>\n",
       "      <th>2</th>\n",
       "      <td>DAI</td>\n",
       "      <td>7</td>\n",
       "    </tr>\n",
       "    <tr>\n",
       "      <th>1</th>\n",
       "      <td>CHOW CHOW (CHOW)</td>\n",
       "      <td>7</td>\n",
       "    </tr>\n",
       "    <tr>\n",
       "      <th>17</th>\n",
       "      <td>Snowman2.0 (SNOW2.0)</td>\n",
       "      <td>7</td>\n",
       "    </tr>\n",
       "    <tr>\n",
       "      <th>26</th>\n",
       "      <td>YFII.finance (YFII)</td>\n",
       "      <td>6</td>\n",
       "    </tr>\n",
       "    <tr>\n",
       "      <th>19</th>\n",
       "      <td>Trump Media Technology Group (TMTG)</td>\n",
       "      <td>6</td>\n",
       "    </tr>\n",
       "    <tr>\n",
       "      <th>27</th>\n",
       "      <td>bci/acc (bci/acc)</td>\n",
       "      <td>6</td>\n",
       "    </tr>\n",
       "    <tr>\n",
       "      <th>14</th>\n",
       "      <td>Pond Coin (PNDC)</td>\n",
       "      <td>6</td>\n",
       "    </tr>\n",
       "    <tr>\n",
       "      <th>18</th>\n",
       "      <td>TROLL</td>\n",
       "      <td>6</td>\n",
       "    </tr>\n",
       "    <tr>\n",
       "      <th>12</th>\n",
       "      <td>Ordiswap (ORDS)</td>\n",
       "      <td>6</td>\n",
       "    </tr>\n",
       "    <tr>\n",
       "      <th>9</th>\n",
       "      <td>MXH</td>\n",
       "      <td>6</td>\n",
       "    </tr>\n",
       "    <tr>\n",
       "      <th>8</th>\n",
       "      <td>MACHINA</td>\n",
       "      <td>6</td>\n",
       "    </tr>\n",
       "    <tr>\n",
       "      <th>7</th>\n",
       "      <td>Joe Biden (BIDEN2024)</td>\n",
       "      <td>6</td>\n",
       "    </tr>\n",
       "    <tr>\n",
       "      <th>6</th>\n",
       "      <td>Grok 1.5 (GROK1.5)</td>\n",
       "      <td>6</td>\n",
       "    </tr>\n",
       "    <tr>\n",
       "      <th>5</th>\n",
       "      <td>Grok 1.5</td>\n",
       "      <td>6</td>\n",
       "    </tr>\n",
       "    <tr>\n",
       "      <th>3</th>\n",
       "      <td>Dope (DOPE)</td>\n",
       "      <td>6</td>\n",
       "    </tr>\n",
       "    <tr>\n",
       "      <th>28</th>\n",
       "      <td>wstETH</td>\n",
       "      <td>6</td>\n",
       "    </tr>\n",
       "  </tbody>\n",
       "</table>\n",
       "</div>"
      ],
      "text/plain": [
       "                                   name  unique_sandwicher_count\n",
       "13                                Other                     1525\n",
       "22                                 WETH                      109\n",
       "21                                 USDT                       23\n",
       "20                                 USDC                       17\n",
       "23                                  WSM                       14\n",
       "16                                 SNOW                       12\n",
       "15                                 SAVM                       10\n",
       "11                                 NCAT                        9\n",
       "4                          GAMEE (GMEE)                        8\n",
       "25                            Xpayments                        8\n",
       "0                   &#120143; Payments                         8\n",
       "24                   Wrapped BTC (WBTC)                        7\n",
       "10                          Moka (MOKA)                        7\n",
       "2                                   DAI                        7\n",
       "1                      CHOW CHOW (CHOW)                        7\n",
       "17                 Snowman2.0 (SNOW2.0)                        7\n",
       "26                  YFII.finance (YFII)                        6\n",
       "19  Trump Media Technology Group (TMTG)                        6\n",
       "27                    bci/acc (bci/acc)                        6\n",
       "14                     Pond Coin (PNDC)                        6\n",
       "18                                TROLL                        6\n",
       "12                      Ordiswap (ORDS)                        6\n",
       "9                                   MXH                        6\n",
       "8                               MACHINA                        6\n",
       "7                 Joe Biden (BIDEN2024)                        6\n",
       "6                    Grok 1.5 (GROK1.5)                        6\n",
       "5                              Grok 1.5                        6\n",
       "3                           Dope (DOPE)                        6\n",
       "28                               wstETH                        6"
      ]
     },
     "execution_count": 266,
     "metadata": {},
     "output_type": "execute_result"
    }
   ],
   "source": [
    "profit_token_hist_cleaned"
   ]
  },
  {
   "cell_type": "markdown",
   "id": "a33ae69e-0937-4be1-a257-13ee949d1888",
   "metadata": {
    "jp-MarkdownHeadingCollapsed": true
   },
   "source": [
    "### динаміка"
   ]
  },
  {
   "cell_type": "markdown",
   "id": "f1d45acf-7c4d-411c-8814-b894ea150276",
   "metadata": {},
   "source": [
    "#### code"
   ]
  },
  {
   "cell_type": "code",
   "execution_count": 205,
   "id": "d8440c5b-f708-47c2-8d17-96f0bc45346e",
   "metadata": {},
   "outputs": [
    {
     "data": {
      "text/html": [
       "<div>\n",
       "<style scoped>\n",
       "    .dataframe tbody tr th:only-of-type {\n",
       "        vertical-align: middle;\n",
       "    }\n",
       "\n",
       "    .dataframe tbody tr th {\n",
       "        vertical-align: top;\n",
       "    }\n",
       "\n",
       "    .dataframe thead th {\n",
       "        text-align: right;\n",
       "    }\n",
       "</style>\n",
       "<table border=\"1\" class=\"dataframe\">\n",
       "  <thead>\n",
       "    <tr style=\"text-align: right;\">\n",
       "      <th></th>\n",
       "      <th>date</th>\n",
       "      <th>address</th>\n",
       "      <th>unique_sandwicher_count</th>\n",
       "    </tr>\n",
       "  </thead>\n",
       "  <tbody>\n",
       "    <tr>\n",
       "      <th>0</th>\n",
       "      <td>2024-06-25</td>\n",
       "      <td>0x00282fd551d03dc033256c4bf119532e8c735d8a</td>\n",
       "      <td>1</td>\n",
       "    </tr>\n",
       "    <tr>\n",
       "      <th>1</th>\n",
       "      <td>2024-06-25</td>\n",
       "      <td>0x00c5ca160a968f47e7272a0cfcda36428f386cb6</td>\n",
       "      <td>1</td>\n",
       "    </tr>\n",
       "    <tr>\n",
       "      <th>2</th>\n",
       "      <td>2024-06-25</td>\n",
       "      <td>0x01e1d7cbd3bc0eb1030485f33708421011459459</td>\n",
       "      <td>1</td>\n",
       "    </tr>\n",
       "    <tr>\n",
       "      <th>3</th>\n",
       "      <td>2024-06-25</td>\n",
       "      <td>0x02d3a27ac3f55d5d91fb0f52759842696a864217</td>\n",
       "      <td>1</td>\n",
       "    </tr>\n",
       "    <tr>\n",
       "      <th>4</th>\n",
       "      <td>2024-06-25</td>\n",
       "      <td>0x02e7f808990638e9e67e1f00313037ede2362361</td>\n",
       "      <td>1</td>\n",
       "    </tr>\n",
       "    <tr>\n",
       "      <th>...</th>\n",
       "      <td>...</td>\n",
       "      <td>...</td>\n",
       "      <td>...</td>\n",
       "    </tr>\n",
       "    <tr>\n",
       "      <th>1529</th>\n",
       "      <td>2024-05-28</td>\n",
       "      <td>0xd29da236dd4aac627346e1bba06a619e8c22d7c5</td>\n",
       "      <td>1</td>\n",
       "    </tr>\n",
       "    <tr>\n",
       "      <th>1530</th>\n",
       "      <td>2024-05-24</td>\n",
       "      <td>0x1fdd61ef9a5c31b9a2abc7d39c139c779e8412af</td>\n",
       "      <td>1</td>\n",
       "    </tr>\n",
       "    <tr>\n",
       "      <th>1531</th>\n",
       "      <td>2024-05-24</td>\n",
       "      <td>0x2bda9acd2e1a85a7eb7b42284de06fbcb25181fd</td>\n",
       "      <td>1</td>\n",
       "    </tr>\n",
       "    <tr>\n",
       "      <th>1532</th>\n",
       "      <td>2024-05-24</td>\n",
       "      <td>0x48d945d00127472f7944bde85db1c37aa4b4b489</td>\n",
       "      <td>1</td>\n",
       "    </tr>\n",
       "    <tr>\n",
       "      <th>1533</th>\n",
       "      <td>2024-05-24</td>\n",
       "      <td>0xc02aaa39b223fe8d0a0e5c4f27ead9083c756cc2</td>\n",
       "      <td>3</td>\n",
       "    </tr>\n",
       "  </tbody>\n",
       "</table>\n",
       "<p>1534 rows × 3 columns</p>\n",
       "</div>"
      ],
      "text/plain": [
       "            date                                     address  \\\n",
       "0     2024-06-25  0x00282fd551d03dc033256c4bf119532e8c735d8a   \n",
       "1     2024-06-25  0x00c5ca160a968f47e7272a0cfcda36428f386cb6   \n",
       "2     2024-06-25  0x01e1d7cbd3bc0eb1030485f33708421011459459   \n",
       "3     2024-06-25  0x02d3a27ac3f55d5d91fb0f52759842696a864217   \n",
       "4     2024-06-25  0x02e7f808990638e9e67e1f00313037ede2362361   \n",
       "...          ...                                         ...   \n",
       "1529  2024-05-28  0xd29da236dd4aac627346e1bba06a619e8c22d7c5   \n",
       "1530  2024-05-24  0x1fdd61ef9a5c31b9a2abc7d39c139c779e8412af   \n",
       "1531  2024-05-24  0x2bda9acd2e1a85a7eb7b42284de06fbcb25181fd   \n",
       "1532  2024-05-24  0x48d945d00127472f7944bde85db1c37aa4b4b489   \n",
       "1533  2024-05-24  0xc02aaa39b223fe8d0a0e5c4f27ead9083c756cc2   \n",
       "\n",
       "      unique_sandwicher_count  \n",
       "0                           1  \n",
       "1                           1  \n",
       "2                           1  \n",
       "3                           1  \n",
       "4                           1  \n",
       "...                       ...  \n",
       "1529                        1  \n",
       "1530                        1  \n",
       "1531                        1  \n",
       "1532                        1  \n",
       "1533                        3  \n",
       "\n",
       "[1534 rows x 3 columns]"
      ]
     },
     "execution_count": 205,
     "metadata": {},
     "output_type": "execute_result"
    }
   ],
   "source": [
    "profit_token_dynamics = pd.read_csv('Кількість конкурентів за токеном (динаміка).csv')\n",
    "profit_token_dynamics = profit_token_dynamics.rename(columns={'profit_token_address': 'address'})\n",
    "profit_token_dynamics"
   ]
  },
  {
   "cell_type": "code",
   "execution_count": 207,
   "id": "91b56f12-5eed-41e1-8db4-64d796ddcdbc",
   "metadata": {},
   "outputs": [
    {
     "data": {
      "text/html": [
       "<div>\n",
       "<style scoped>\n",
       "    .dataframe tbody tr th:only-of-type {\n",
       "        vertical-align: middle;\n",
       "    }\n",
       "\n",
       "    .dataframe tbody tr th {\n",
       "        vertical-align: top;\n",
       "    }\n",
       "\n",
       "    .dataframe thead th {\n",
       "        text-align: right;\n",
       "    }\n",
       "</style>\n",
       "<table border=\"1\" class=\"dataframe\">\n",
       "  <thead>\n",
       "    <tr style=\"text-align: right;\">\n",
       "      <th></th>\n",
       "      <th>date</th>\n",
       "      <th>address</th>\n",
       "      <th>unique_sandwicher_count</th>\n",
       "      <th>name</th>\n",
       "    </tr>\n",
       "  </thead>\n",
       "  <tbody>\n",
       "    <tr>\n",
       "      <th>0</th>\n",
       "      <td>2024-06-25</td>\n",
       "      <td>0x00282fd551d03dc033256c4bf119532e8c735d8a</td>\n",
       "      <td>1</td>\n",
       "      <td>NaN</td>\n",
       "    </tr>\n",
       "    <tr>\n",
       "      <th>1</th>\n",
       "      <td>2024-06-25</td>\n",
       "      <td>0x00c5ca160a968f47e7272a0cfcda36428f386cb6</td>\n",
       "      <td>1</td>\n",
       "      <td>NaN</td>\n",
       "    </tr>\n",
       "    <tr>\n",
       "      <th>2</th>\n",
       "      <td>2024-06-25</td>\n",
       "      <td>0x01e1d7cbd3bc0eb1030485f33708421011459459</td>\n",
       "      <td>1</td>\n",
       "      <td>NaN</td>\n",
       "    </tr>\n",
       "    <tr>\n",
       "      <th>3</th>\n",
       "      <td>2024-06-25</td>\n",
       "      <td>0x02d3a27ac3f55d5d91fb0f52759842696a864217</td>\n",
       "      <td>1</td>\n",
       "      <td>NaN</td>\n",
       "    </tr>\n",
       "    <tr>\n",
       "      <th>4</th>\n",
       "      <td>2024-06-25</td>\n",
       "      <td>0x02e7f808990638e9e67e1f00313037ede2362361</td>\n",
       "      <td>1</td>\n",
       "      <td>NaN</td>\n",
       "    </tr>\n",
       "    <tr>\n",
       "      <th>...</th>\n",
       "      <td>...</td>\n",
       "      <td>...</td>\n",
       "      <td>...</td>\n",
       "      <td>...</td>\n",
       "    </tr>\n",
       "    <tr>\n",
       "      <th>1529</th>\n",
       "      <td>2024-05-28</td>\n",
       "      <td>0xd29da236dd4aac627346e1bba06a619e8c22d7c5</td>\n",
       "      <td>1</td>\n",
       "      <td>NaN</td>\n",
       "    </tr>\n",
       "    <tr>\n",
       "      <th>1530</th>\n",
       "      <td>2024-05-24</td>\n",
       "      <td>0x1fdd61ef9a5c31b9a2abc7d39c139c779e8412af</td>\n",
       "      <td>1</td>\n",
       "      <td>NaN</td>\n",
       "    </tr>\n",
       "    <tr>\n",
       "      <th>1531</th>\n",
       "      <td>2024-05-24</td>\n",
       "      <td>0x2bda9acd2e1a85a7eb7b42284de06fbcb25181fd</td>\n",
       "      <td>1</td>\n",
       "      <td>NaN</td>\n",
       "    </tr>\n",
       "    <tr>\n",
       "      <th>1532</th>\n",
       "      <td>2024-05-24</td>\n",
       "      <td>0x48d945d00127472f7944bde85db1c37aa4b4b489</td>\n",
       "      <td>1</td>\n",
       "      <td>NaN</td>\n",
       "    </tr>\n",
       "    <tr>\n",
       "      <th>1533</th>\n",
       "      <td>2024-05-24</td>\n",
       "      <td>0xc02aaa39b223fe8d0a0e5c4f27ead9083c756cc2</td>\n",
       "      <td>3</td>\n",
       "      <td>WETH</td>\n",
       "    </tr>\n",
       "  </tbody>\n",
       "</table>\n",
       "<p>1534 rows × 4 columns</p>\n",
       "</div>"
      ],
      "text/plain": [
       "            date                                     address  \\\n",
       "0     2024-06-25  0x00282fd551d03dc033256c4bf119532e8c735d8a   \n",
       "1     2024-06-25  0x00c5ca160a968f47e7272a0cfcda36428f386cb6   \n",
       "2     2024-06-25  0x01e1d7cbd3bc0eb1030485f33708421011459459   \n",
       "3     2024-06-25  0x02d3a27ac3f55d5d91fb0f52759842696a864217   \n",
       "4     2024-06-25  0x02e7f808990638e9e67e1f00313037ede2362361   \n",
       "...          ...                                         ...   \n",
       "1529  2024-05-28  0xd29da236dd4aac627346e1bba06a619e8c22d7c5   \n",
       "1530  2024-05-24  0x1fdd61ef9a5c31b9a2abc7d39c139c779e8412af   \n",
       "1531  2024-05-24  0x2bda9acd2e1a85a7eb7b42284de06fbcb25181fd   \n",
       "1532  2024-05-24  0x48d945d00127472f7944bde85db1c37aa4b4b489   \n",
       "1533  2024-05-24  0xc02aaa39b223fe8d0a0e5c4f27ead9083c756cc2   \n",
       "\n",
       "      unique_sandwicher_count  name  \n",
       "0                           1   NaN  \n",
       "1                           1   NaN  \n",
       "2                           1   NaN  \n",
       "3                           1   NaN  \n",
       "4                           1   NaN  \n",
       "...                       ...   ...  \n",
       "1529                        1   NaN  \n",
       "1530                        1   NaN  \n",
       "1531                        1   NaN  \n",
       "1532                        1   NaN  \n",
       "1533                        3  WETH  \n",
       "\n",
       "[1534 rows x 4 columns]"
      ]
     },
     "execution_count": 207,
     "metadata": {},
     "output_type": "execute_result"
    }
   ],
   "source": [
    "merged_df = profit_token_dynamics.merge(profit_token_hist[['address', 'name']], on='address', how='left')\n",
    "merged_df"
   ]
  },
  {
   "cell_type": "code",
   "execution_count": 210,
   "id": "35bff2d9-5852-4fb0-94b1-0b1e559de572",
   "metadata": {},
   "outputs": [
    {
     "data": {
      "text/html": [
       "<div>\n",
       "<style scoped>\n",
       "    .dataframe tbody tr th:only-of-type {\n",
       "        vertical-align: middle;\n",
       "    }\n",
       "\n",
       "    .dataframe tbody tr th {\n",
       "        vertical-align: top;\n",
       "    }\n",
       "\n",
       "    .dataframe thead th {\n",
       "        text-align: right;\n",
       "    }\n",
       "</style>\n",
       "<table border=\"1\" class=\"dataframe\">\n",
       "  <thead>\n",
       "    <tr style=\"text-align: right;\">\n",
       "      <th></th>\n",
       "      <th>date</th>\n",
       "      <th>address</th>\n",
       "      <th>unique_sandwicher_count</th>\n",
       "      <th>name</th>\n",
       "    </tr>\n",
       "  </thead>\n",
       "  <tbody>\n",
       "    <tr>\n",
       "      <th>0</th>\n",
       "      <td>2024-06-25</td>\n",
       "      <td>0x00282fd551d03dc033256c4bf119532e8c735d8a</td>\n",
       "      <td>1</td>\n",
       "      <td>Other</td>\n",
       "    </tr>\n",
       "    <tr>\n",
       "      <th>1</th>\n",
       "      <td>2024-06-25</td>\n",
       "      <td>0x00c5ca160a968f47e7272a0cfcda36428f386cb6</td>\n",
       "      <td>1</td>\n",
       "      <td>Other</td>\n",
       "    </tr>\n",
       "    <tr>\n",
       "      <th>2</th>\n",
       "      <td>2024-06-25</td>\n",
       "      <td>0x01e1d7cbd3bc0eb1030485f33708421011459459</td>\n",
       "      <td>1</td>\n",
       "      <td>Other</td>\n",
       "    </tr>\n",
       "    <tr>\n",
       "      <th>3</th>\n",
       "      <td>2024-06-25</td>\n",
       "      <td>0x02d3a27ac3f55d5d91fb0f52759842696a864217</td>\n",
       "      <td>1</td>\n",
       "      <td>Other</td>\n",
       "    </tr>\n",
       "    <tr>\n",
       "      <th>4</th>\n",
       "      <td>2024-06-25</td>\n",
       "      <td>0x02e7f808990638e9e67e1f00313037ede2362361</td>\n",
       "      <td>1</td>\n",
       "      <td>Other</td>\n",
       "    </tr>\n",
       "    <tr>\n",
       "      <th>...</th>\n",
       "      <td>...</td>\n",
       "      <td>...</td>\n",
       "      <td>...</td>\n",
       "      <td>...</td>\n",
       "    </tr>\n",
       "    <tr>\n",
       "      <th>1529</th>\n",
       "      <td>2024-05-28</td>\n",
       "      <td>0xd29da236dd4aac627346e1bba06a619e8c22d7c5</td>\n",
       "      <td>1</td>\n",
       "      <td>Other</td>\n",
       "    </tr>\n",
       "    <tr>\n",
       "      <th>1530</th>\n",
       "      <td>2024-05-24</td>\n",
       "      <td>0x1fdd61ef9a5c31b9a2abc7d39c139c779e8412af</td>\n",
       "      <td>1</td>\n",
       "      <td>Other</td>\n",
       "    </tr>\n",
       "    <tr>\n",
       "      <th>1531</th>\n",
       "      <td>2024-05-24</td>\n",
       "      <td>0x2bda9acd2e1a85a7eb7b42284de06fbcb25181fd</td>\n",
       "      <td>1</td>\n",
       "      <td>Other</td>\n",
       "    </tr>\n",
       "    <tr>\n",
       "      <th>1532</th>\n",
       "      <td>2024-05-24</td>\n",
       "      <td>0x48d945d00127472f7944bde85db1c37aa4b4b489</td>\n",
       "      <td>1</td>\n",
       "      <td>Other</td>\n",
       "    </tr>\n",
       "    <tr>\n",
       "      <th>1533</th>\n",
       "      <td>2024-05-24</td>\n",
       "      <td>0xc02aaa39b223fe8d0a0e5c4f27ead9083c756cc2</td>\n",
       "      <td>3</td>\n",
       "      <td>WETH</td>\n",
       "    </tr>\n",
       "  </tbody>\n",
       "</table>\n",
       "<p>1534 rows × 4 columns</p>\n",
       "</div>"
      ],
      "text/plain": [
       "            date                                     address  \\\n",
       "0     2024-06-25  0x00282fd551d03dc033256c4bf119532e8c735d8a   \n",
       "1     2024-06-25  0x00c5ca160a968f47e7272a0cfcda36428f386cb6   \n",
       "2     2024-06-25  0x01e1d7cbd3bc0eb1030485f33708421011459459   \n",
       "3     2024-06-25  0x02d3a27ac3f55d5d91fb0f52759842696a864217   \n",
       "4     2024-06-25  0x02e7f808990638e9e67e1f00313037ede2362361   \n",
       "...          ...                                         ...   \n",
       "1529  2024-05-28  0xd29da236dd4aac627346e1bba06a619e8c22d7c5   \n",
       "1530  2024-05-24  0x1fdd61ef9a5c31b9a2abc7d39c139c779e8412af   \n",
       "1531  2024-05-24  0x2bda9acd2e1a85a7eb7b42284de06fbcb25181fd   \n",
       "1532  2024-05-24  0x48d945d00127472f7944bde85db1c37aa4b4b489   \n",
       "1533  2024-05-24  0xc02aaa39b223fe8d0a0e5c4f27ead9083c756cc2   \n",
       "\n",
       "      unique_sandwicher_count   name  \n",
       "0                           1  Other  \n",
       "1                           1  Other  \n",
       "2                           1  Other  \n",
       "3                           1  Other  \n",
       "4                           1  Other  \n",
       "...                       ...    ...  \n",
       "1529                        1  Other  \n",
       "1530                        1  Other  \n",
       "1531                        1  Other  \n",
       "1532                        1  Other  \n",
       "1533                        3   WETH  \n",
       "\n",
       "[1534 rows x 4 columns]"
      ]
     },
     "execution_count": 210,
     "metadata": {},
     "output_type": "execute_result"
    }
   ],
   "source": [
    "merged_df.fillna('Other')"
   ]
  },
  {
   "cell_type": "code",
   "execution_count": 246,
   "id": "ec4713f4-7300-4046-8731-bb6103a64eaf",
   "metadata": {},
   "outputs": [],
   "source": [
    "merged_df['date'] = pd.to_datetime(merged_df['date'])"
   ]
  },
  {
   "cell_type": "markdown",
   "id": "19649a16-e564-45d6-ae67-9436f09c7a97",
   "metadata": {},
   "source": [
    "#### plot"
   ]
  },
  {
   "cell_type": "code",
   "execution_count": 254,
   "id": "16def865-07f6-445f-a9cc-3048c29d833c",
   "metadata": {},
   "outputs": [
    {
     "name": "stderr",
     "output_type": "stream",
     "text": [
      "/opt/anaconda3/lib/python3.11/site-packages/_plotly_utils/basevalidators.py:106: FutureWarning:\n",
      "\n",
      "The behavior of DatetimeProperties.to_pydatetime is deprecated, in a future version this will return a Series containing python datetime objects instead of an ndarray. To retain the old behavior, call `np.array` on the result\n",
      "\n"
     ]
    },
    {
     "data": {
      "application/vnd.plotly.v1+json": {
       "config": {
        "plotlyServerURL": "https://plot.ly"
       },
       "data": [
        {
         "alignmentgroup": "True",
         "bingroup": "x",
         "hovertemplate": "Token Name=SAVM<br>Date=%{x}<br>count=%{y}<extra></extra>",
         "legendgroup": "SAVM",
         "marker": {
          "color": "#EF553B",
          "pattern": {
           "shape": ""
          }
         },
         "name": "SAVM",
         "nbinsx": 20,
         "offsetgroup": "SAVM",
         "orientation": "v",
         "showlegend": true,
         "type": "histogram",
         "x": [
          "2024-06-25T00:00:00",
          "2024-06-24T00:00:00"
         ],
         "xaxis": "x",
         "yaxis": "y"
        },
        {
         "alignmentgroup": "True",
         "bingroup": "x",
         "hovertemplate": "Token Name=Wrapped BTC (WBTC)<br>Date=%{x}<br>count=%{y}<extra></extra>",
         "legendgroup": "Wrapped BTC (WBTC)",
         "marker": {
          "color": "#00cc96",
          "pattern": {
           "shape": ""
          }
         },
         "name": "Wrapped BTC (WBTC)",
         "nbinsx": 20,
         "offsetgroup": "Wrapped BTC (WBTC)",
         "orientation": "v",
         "showlegend": true,
         "type": "histogram",
         "x": [
          "2024-06-25T00:00:00",
          "2024-06-24T00:00:00",
          "2024-06-23T00:00:00",
          "2024-06-22T00:00:00"
         ],
         "xaxis": "x",
         "yaxis": "y"
        },
        {
         "alignmentgroup": "True",
         "bingroup": "x",
         "hovertemplate": "Token Name=bci/acc (bci/acc)<br>Date=%{x}<br>count=%{y}<extra></extra>",
         "legendgroup": "bci/acc (bci/acc)",
         "marker": {
          "color": "#ab63fa",
          "pattern": {
           "shape": ""
          }
         },
         "name": "bci/acc (bci/acc)",
         "nbinsx": 20,
         "offsetgroup": "bci/acc (bci/acc)",
         "orientation": "v",
         "showlegend": true,
         "type": "histogram",
         "x": [
          "2024-06-25T00:00:00",
          "2024-06-24T00:00:00"
         ],
         "xaxis": "x",
         "yaxis": "y"
        },
        {
         "alignmentgroup": "True",
         "bingroup": "x",
         "hovertemplate": "Token Name=CHOW CHOW (CHOW)<br>Date=%{x}<br>count=%{y}<extra></extra>",
         "legendgroup": "CHOW CHOW (CHOW)",
         "marker": {
          "color": "#FFA15A",
          "pattern": {
           "shape": ""
          }
         },
         "name": "CHOW CHOW (CHOW)",
         "nbinsx": 20,
         "offsetgroup": "CHOW CHOW (CHOW)",
         "orientation": "v",
         "showlegend": true,
         "type": "histogram",
         "x": [
          "2024-06-25T00:00:00",
          "2024-06-24T00:00:00"
         ],
         "xaxis": "x",
         "yaxis": "y"
        },
        {
         "alignmentgroup": "True",
         "bingroup": "x",
         "hovertemplate": "Token Name=Pond Coin (PNDC)<br>Date=%{x}<br>count=%{y}<extra></extra>",
         "legendgroup": "Pond Coin (PNDC)",
         "marker": {
          "color": "#19d3f3",
          "pattern": {
           "shape": ""
          }
         },
         "name": "Pond Coin (PNDC)",
         "nbinsx": 20,
         "offsetgroup": "Pond Coin (PNDC)",
         "orientation": "v",
         "showlegend": true,
         "type": "histogram",
         "x": [
          "2024-06-25T00:00:00",
          "2024-06-24T00:00:00"
         ],
         "xaxis": "x",
         "yaxis": "y"
        },
        {
         "alignmentgroup": "True",
         "bingroup": "x",
         "hovertemplate": "Token Name=Grok 1.5<br>Date=%{x}<br>count=%{y}<extra></extra>",
         "legendgroup": "Grok 1.5",
         "marker": {
          "color": "#FF6692",
          "pattern": {
           "shape": ""
          }
         },
         "name": "Grok 1.5",
         "nbinsx": 20,
         "offsetgroup": "Grok 1.5",
         "orientation": "v",
         "showlegend": true,
         "type": "histogram",
         "x": [
          "2024-06-25T00:00:00",
          "2024-06-24T00:00:00"
         ],
         "xaxis": "x",
         "yaxis": "y"
        },
        {
         "alignmentgroup": "True",
         "bingroup": "x",
         "hovertemplate": "Token Name=MACHINA<br>Date=%{x}<br>count=%{y}<extra></extra>",
         "legendgroup": "MACHINA",
         "marker": {
          "color": "#B6E880",
          "pattern": {
           "shape": ""
          }
         },
         "name": "MACHINA",
         "nbinsx": 20,
         "offsetgroup": "MACHINA",
         "orientation": "v",
         "showlegend": true,
         "type": "histogram",
         "x": [
          "2024-06-25T00:00:00",
          "2024-06-24T00:00:00"
         ],
         "xaxis": "x",
         "yaxis": "y"
        },
        {
         "alignmentgroup": "True",
         "bingroup": "x",
         "hovertemplate": "Token Name=DAI<br>Date=%{x}<br>count=%{y}<extra></extra>",
         "legendgroup": "DAI",
         "marker": {
          "color": "#FF97FF",
          "pattern": {
           "shape": ""
          }
         },
         "name": "DAI",
         "nbinsx": 20,
         "offsetgroup": "DAI",
         "orientation": "v",
         "showlegend": true,
         "type": "histogram",
         "x": [
          "2024-06-25T00:00:00",
          "2024-06-24T00:00:00"
         ],
         "xaxis": "x",
         "yaxis": "y"
        },
        {
         "alignmentgroup": "True",
         "bingroup": "x",
         "hovertemplate": "Token Name=wstETH<br>Date=%{x}<br>count=%{y}<extra></extra>",
         "legendgroup": "wstETH",
         "marker": {
          "color": "#FECB52",
          "pattern": {
           "shape": ""
          }
         },
         "name": "wstETH",
         "nbinsx": 20,
         "offsetgroup": "wstETH",
         "orientation": "v",
         "showlegend": true,
         "type": "histogram",
         "x": [
          "2024-06-25T00:00:00",
          "2024-06-24T00:00:00",
          "2024-06-23T00:00:00"
         ],
         "xaxis": "x",
         "yaxis": "y"
        },
        {
         "alignmentgroup": "True",
         "bingroup": "x",
         "hovertemplate": "Token Name=Ordiswap (ORDS)<br>Date=%{x}<br>count=%{y}<extra></extra>",
         "legendgroup": "Ordiswap (ORDS)",
         "marker": {
          "color": "#636efa",
          "pattern": {
           "shape": ""
          }
         },
         "name": "Ordiswap (ORDS)",
         "nbinsx": 20,
         "offsetgroup": "Ordiswap (ORDS)",
         "orientation": "v",
         "showlegend": true,
         "type": "histogram",
         "x": [
          "2024-06-25T00:00:00",
          "2024-06-24T00:00:00"
         ],
         "xaxis": "x",
         "yaxis": "y"
        },
        {
         "alignmentgroup": "True",
         "bingroup": "x",
         "hovertemplate": "Token Name=Snowman2.0 (SNOW2.0)<br>Date=%{x}<br>count=%{y}<extra></extra>",
         "legendgroup": "Snowman2.0 (SNOW2.0)",
         "marker": {
          "color": "#EF553B",
          "pattern": {
           "shape": ""
          }
         },
         "name": "Snowman2.0 (SNOW2.0)",
         "nbinsx": 20,
         "offsetgroup": "Snowman2.0 (SNOW2.0)",
         "orientation": "v",
         "showlegend": true,
         "type": "histogram",
         "x": [
          "2024-06-25T00:00:00"
         ],
         "xaxis": "x",
         "yaxis": "y"
        },
        {
         "alignmentgroup": "True",
         "bingroup": "x",
         "hovertemplate": "Token Name=MXH<br>Date=%{x}<br>count=%{y}<extra></extra>",
         "legendgroup": "MXH",
         "marker": {
          "color": "#00cc96",
          "pattern": {
           "shape": ""
          }
         },
         "name": "MXH",
         "nbinsx": 20,
         "offsetgroup": "MXH",
         "orientation": "v",
         "showlegend": true,
         "type": "histogram",
         "x": [
          "2024-06-25T00:00:00",
          "2024-06-24T00:00:00"
         ],
         "xaxis": "x",
         "yaxis": "y"
        },
        {
         "alignmentgroup": "True",
         "bingroup": "x",
         "hovertemplate": "Token Name=USDC<br>Date=%{x}<br>count=%{y}<extra></extra>",
         "legendgroup": "USDC",
         "marker": {
          "color": "#ab63fa",
          "pattern": {
           "shape": ""
          }
         },
         "name": "USDC",
         "nbinsx": 20,
         "offsetgroup": "USDC",
         "orientation": "v",
         "showlegend": true,
         "type": "histogram",
         "x": [
          "2024-06-25T00:00:00",
          "2024-06-24T00:00:00",
          "2024-06-22T00:00:00"
         ],
         "xaxis": "x",
         "yaxis": "y"
        },
        {
         "alignmentgroup": "True",
         "bingroup": "x",
         "hovertemplate": "Token Name=YFII.finance (YFII)<br>Date=%{x}<br>count=%{y}<extra></extra>",
         "legendgroup": "YFII.finance (YFII)",
         "marker": {
          "color": "#FFA15A",
          "pattern": {
           "shape": ""
          }
         },
         "name": "YFII.finance (YFII)",
         "nbinsx": 20,
         "offsetgroup": "YFII.finance (YFII)",
         "orientation": "v",
         "showlegend": true,
         "type": "histogram",
         "x": [
          "2024-06-25T00:00:00",
          "2024-06-24T00:00:00",
          "2024-06-20T00:00:00"
         ],
         "xaxis": "x",
         "yaxis": "y"
        },
        {
         "alignmentgroup": "True",
         "bingroup": "x",
         "hovertemplate": "Token Name=Grok 1.5 (GROK1.5)<br>Date=%{x}<br>count=%{y}<extra></extra>",
         "legendgroup": "Grok 1.5 (GROK1.5)",
         "marker": {
          "color": "#19d3f3",
          "pattern": {
           "shape": ""
          }
         },
         "name": "Grok 1.5 (GROK1.5)",
         "nbinsx": 20,
         "offsetgroup": "Grok 1.5 (GROK1.5)",
         "orientation": "v",
         "showlegend": true,
         "type": "histogram",
         "x": [
          "2024-06-25T00:00:00",
          "2024-06-24T00:00:00"
         ],
         "xaxis": "x",
         "yaxis": "y"
        },
        {
         "alignmentgroup": "True",
         "bingroup": "x",
         "hovertemplate": "Token Name=WSM<br>Date=%{x}<br>count=%{y}<extra></extra>",
         "legendgroup": "WSM",
         "marker": {
          "color": "#FF6692",
          "pattern": {
           "shape": ""
          }
         },
         "name": "WSM",
         "nbinsx": 20,
         "offsetgroup": "WSM",
         "orientation": "v",
         "showlegend": true,
         "type": "histogram",
         "x": [
          "2024-06-25T00:00:00"
         ],
         "xaxis": "x",
         "yaxis": "y"
        },
        {
         "alignmentgroup": "True",
         "bingroup": "x",
         "hovertemplate": "Token Name=Joe Biden (BIDEN2024)<br>Date=%{x}<br>count=%{y}<extra></extra>",
         "legendgroup": "Joe Biden (BIDEN2024)",
         "marker": {
          "color": "#B6E880",
          "pattern": {
           "shape": ""
          }
         },
         "name": "Joe Biden (BIDEN2024)",
         "nbinsx": 20,
         "offsetgroup": "Joe Biden (BIDEN2024)",
         "orientation": "v",
         "showlegend": true,
         "type": "histogram",
         "x": [
          "2024-06-25T00:00:00"
         ],
         "xaxis": "x",
         "yaxis": "y"
        },
        {
         "alignmentgroup": "True",
         "bingroup": "x",
         "hovertemplate": "Token Name=WETH<br>Date=%{x}<br>count=%{y}<extra></extra>",
         "legendgroup": "WETH",
         "marker": {
          "color": "#FF97FF",
          "pattern": {
           "shape": ""
          }
         },
         "name": "WETH",
         "nbinsx": 20,
         "offsetgroup": "WETH",
         "orientation": "v",
         "showlegend": true,
         "type": "histogram",
         "x": [
          "2024-06-25T00:00:00",
          "2024-06-24T00:00:00",
          "2024-06-23T00:00:00",
          "2024-06-22T00:00:00",
          "2024-06-21T00:00:00",
          "2024-06-20T00:00:00",
          "2024-06-11T00:00:00",
          "2024-05-28T00:00:00",
          "2024-05-24T00:00:00"
         ],
         "xaxis": "x",
         "yaxis": "y"
        },
        {
         "alignmentgroup": "True",
         "bingroup": "x",
         "hovertemplate": "Token Name=Trump Media Technology Group (TMTG)<br>Date=%{x}<br>count=%{y}<extra></extra>",
         "legendgroup": "Trump Media Technology Group (TMTG)",
         "marker": {
          "color": "#FECB52",
          "pattern": {
           "shape": ""
          }
         },
         "name": "Trump Media Technology Group (TMTG)",
         "nbinsx": 20,
         "offsetgroup": "Trump Media Technology Group (TMTG)",
         "orientation": "v",
         "showlegend": true,
         "type": "histogram",
         "x": [
          "2024-06-25T00:00:00"
         ],
         "xaxis": "x",
         "yaxis": "y"
        },
        {
         "alignmentgroup": "True",
         "bingroup": "x",
         "hovertemplate": "Token Name=SNOW<br>Date=%{x}<br>count=%{y}<extra></extra>",
         "legendgroup": "SNOW",
         "marker": {
          "color": "#636efa",
          "pattern": {
           "shape": ""
          }
         },
         "name": "SNOW",
         "nbinsx": 20,
         "offsetgroup": "SNOW",
         "orientation": "v",
         "showlegend": true,
         "type": "histogram",
         "x": [
          "2024-06-25T00:00:00"
         ],
         "xaxis": "x",
         "yaxis": "y"
        },
        {
         "alignmentgroup": "True",
         "bingroup": "x",
         "hovertemplate": "Token Name=GAMEE (GMEE)<br>Date=%{x}<br>count=%{y}<extra></extra>",
         "legendgroup": "GAMEE (GMEE)",
         "marker": {
          "color": "#EF553B",
          "pattern": {
           "shape": ""
          }
         },
         "name": "GAMEE (GMEE)",
         "nbinsx": 20,
         "offsetgroup": "GAMEE (GMEE)",
         "orientation": "v",
         "showlegend": true,
         "type": "histogram",
         "x": [
          "2024-06-25T00:00:00",
          "2024-06-24T00:00:00"
         ],
         "xaxis": "x",
         "yaxis": "y"
        },
        {
         "alignmentgroup": "True",
         "bingroup": "x",
         "hovertemplate": "Token Name=USDT<br>Date=%{x}<br>count=%{y}<extra></extra>",
         "legendgroup": "USDT",
         "marker": {
          "color": "#00cc96",
          "pattern": {
           "shape": ""
          }
         },
         "name": "USDT",
         "nbinsx": 20,
         "offsetgroup": "USDT",
         "orientation": "v",
         "showlegend": true,
         "type": "histogram",
         "x": [
          "2024-06-25T00:00:00",
          "2024-06-24T00:00:00",
          "2024-06-23T00:00:00",
          "2024-06-22T00:00:00",
          "2024-06-20T00:00:00"
         ],
         "xaxis": "x",
         "yaxis": "y"
        },
        {
         "alignmentgroup": "True",
         "bingroup": "x",
         "hovertemplate": "Token Name=&#120143; Payments <br>Date=%{x}<br>count=%{y}<extra></extra>",
         "legendgroup": "&#120143; Payments ",
         "marker": {
          "color": "#ab63fa",
          "pattern": {
           "shape": ""
          }
         },
         "name": "&#120143; Payments ",
         "nbinsx": 20,
         "offsetgroup": "&#120143; Payments ",
         "orientation": "v",
         "showlegend": true,
         "type": "histogram",
         "x": [
          "2024-06-25T00:00:00",
          "2024-06-24T00:00:00"
         ],
         "xaxis": "x",
         "yaxis": "y"
        },
        {
         "alignmentgroup": "True",
         "bingroup": "x",
         "hovertemplate": "Token Name=TROLL<br>Date=%{x}<br>count=%{y}<extra></extra>",
         "legendgroup": "TROLL",
         "marker": {
          "color": "#FFA15A",
          "pattern": {
           "shape": ""
          }
         },
         "name": "TROLL",
         "nbinsx": 20,
         "offsetgroup": "TROLL",
         "orientation": "v",
         "showlegend": true,
         "type": "histogram",
         "x": [
          "2024-06-25T00:00:00",
          "2024-06-24T00:00:00"
         ],
         "xaxis": "x",
         "yaxis": "y"
        },
        {
         "alignmentgroup": "True",
         "bingroup": "x",
         "hovertemplate": "Token Name=Xpayments<br>Date=%{x}<br>count=%{y}<extra></extra>",
         "legendgroup": "Xpayments",
         "marker": {
          "color": "#19d3f3",
          "pattern": {
           "shape": ""
          }
         },
         "name": "Xpayments",
         "nbinsx": 20,
         "offsetgroup": "Xpayments",
         "orientation": "v",
         "showlegend": true,
         "type": "histogram",
         "x": [
          "2024-06-25T00:00:00",
          "2024-06-24T00:00:00"
         ],
         "xaxis": "x",
         "yaxis": "y"
        },
        {
         "alignmentgroup": "True",
         "bingroup": "x",
         "hovertemplate": "Token Name=Moka (MOKA)<br>Date=%{x}<br>count=%{y}<extra></extra>",
         "legendgroup": "Moka (MOKA)",
         "marker": {
          "color": "#FF6692",
          "pattern": {
           "shape": ""
          }
         },
         "name": "Moka (MOKA)",
         "nbinsx": 20,
         "offsetgroup": "Moka (MOKA)",
         "orientation": "v",
         "showlegend": true,
         "type": "histogram",
         "x": [
          "2024-06-24T00:00:00",
          "2024-06-23T00:00:00",
          "2024-06-22T00:00:00",
          "2024-06-21T00:00:00",
          "2024-06-20T00:00:00"
         ],
         "xaxis": "x",
         "yaxis": "y"
        },
        {
         "alignmentgroup": "True",
         "bingroup": "x",
         "hovertemplate": "Token Name=NCAT<br>Date=%{x}<br>count=%{y}<extra></extra>",
         "legendgroup": "NCAT",
         "marker": {
          "color": "#B6E880",
          "pattern": {
           "shape": ""
          }
         },
         "name": "NCAT",
         "nbinsx": 20,
         "offsetgroup": "NCAT",
         "orientation": "v",
         "showlegend": true,
         "type": "histogram",
         "x": [
          "2024-06-24T00:00:00",
          "2024-06-23T00:00:00",
          "2024-06-22T00:00:00",
          "2024-06-21T00:00:00",
          "2024-06-20T00:00:00"
         ],
         "xaxis": "x",
         "yaxis": "y"
        },
        {
         "alignmentgroup": "True",
         "bingroup": "x",
         "hovertemplate": "Token Name=Dope (DOPE)<br>Date=%{x}<br>count=%{y}<extra></extra>",
         "legendgroup": "Dope (DOPE)",
         "marker": {
          "color": "#FF97FF",
          "pattern": {
           "shape": ""
          }
         },
         "name": "Dope (DOPE)",
         "nbinsx": 20,
         "offsetgroup": "Dope (DOPE)",
         "orientation": "v",
         "showlegend": true,
         "type": "histogram",
         "x": [
          "2024-06-23T00:00:00",
          "2024-06-22T00:00:00",
          "2024-06-20T00:00:00"
         ],
         "xaxis": "x",
         "yaxis": "y"
        }
       ],
       "layout": {
        "autosize": true,
        "bargap": 0.1,
        "barmode": "stack",
        "legend": {
         "title": {
          "text": "Token Name"
         },
         "tracegroupgap": 0
        },
        "template": {
         "data": {
          "bar": [
           {
            "error_x": {
             "color": "#f2f5fa"
            },
            "error_y": {
             "color": "#f2f5fa"
            },
            "marker": {
             "line": {
              "color": "rgb(17,17,17)",
              "width": 0.5
             },
             "pattern": {
              "fillmode": "overlay",
              "size": 10,
              "solidity": 0.2
             }
            },
            "type": "bar"
           }
          ],
          "barpolar": [
           {
            "marker": {
             "line": {
              "color": "rgb(17,17,17)",
              "width": 0.5
             },
             "pattern": {
              "fillmode": "overlay",
              "size": 10,
              "solidity": 0.2
             }
            },
            "type": "barpolar"
           }
          ],
          "carpet": [
           {
            "aaxis": {
             "endlinecolor": "#A2B1C6",
             "gridcolor": "#506784",
             "linecolor": "#506784",
             "minorgridcolor": "#506784",
             "startlinecolor": "#A2B1C6"
            },
            "baxis": {
             "endlinecolor": "#A2B1C6",
             "gridcolor": "#506784",
             "linecolor": "#506784",
             "minorgridcolor": "#506784",
             "startlinecolor": "#A2B1C6"
            },
            "type": "carpet"
           }
          ],
          "choropleth": [
           {
            "colorbar": {
             "outlinewidth": 0,
             "ticks": ""
            },
            "type": "choropleth"
           }
          ],
          "contour": [
           {
            "colorbar": {
             "outlinewidth": 0,
             "ticks": ""
            },
            "colorscale": [
             [
              0,
              "#0d0887"
             ],
             [
              0.1111111111111111,
              "#46039f"
             ],
             [
              0.2222222222222222,
              "#7201a8"
             ],
             [
              0.3333333333333333,
              "#9c179e"
             ],
             [
              0.4444444444444444,
              "#bd3786"
             ],
             [
              0.5555555555555556,
              "#d8576b"
             ],
             [
              0.6666666666666666,
              "#ed7953"
             ],
             [
              0.7777777777777778,
              "#fb9f3a"
             ],
             [
              0.8888888888888888,
              "#fdca26"
             ],
             [
              1,
              "#f0f921"
             ]
            ],
            "type": "contour"
           }
          ],
          "contourcarpet": [
           {
            "colorbar": {
             "outlinewidth": 0,
             "ticks": ""
            },
            "type": "contourcarpet"
           }
          ],
          "heatmap": [
           {
            "colorbar": {
             "outlinewidth": 0,
             "ticks": ""
            },
            "colorscale": [
             [
              0,
              "#0d0887"
             ],
             [
              0.1111111111111111,
              "#46039f"
             ],
             [
              0.2222222222222222,
              "#7201a8"
             ],
             [
              0.3333333333333333,
              "#9c179e"
             ],
             [
              0.4444444444444444,
              "#bd3786"
             ],
             [
              0.5555555555555556,
              "#d8576b"
             ],
             [
              0.6666666666666666,
              "#ed7953"
             ],
             [
              0.7777777777777778,
              "#fb9f3a"
             ],
             [
              0.8888888888888888,
              "#fdca26"
             ],
             [
              1,
              "#f0f921"
             ]
            ],
            "type": "heatmap"
           }
          ],
          "heatmapgl": [
           {
            "colorbar": {
             "outlinewidth": 0,
             "ticks": ""
            },
            "colorscale": [
             [
              0,
              "#0d0887"
             ],
             [
              0.1111111111111111,
              "#46039f"
             ],
             [
              0.2222222222222222,
              "#7201a8"
             ],
             [
              0.3333333333333333,
              "#9c179e"
             ],
             [
              0.4444444444444444,
              "#bd3786"
             ],
             [
              0.5555555555555556,
              "#d8576b"
             ],
             [
              0.6666666666666666,
              "#ed7953"
             ],
             [
              0.7777777777777778,
              "#fb9f3a"
             ],
             [
              0.8888888888888888,
              "#fdca26"
             ],
             [
              1,
              "#f0f921"
             ]
            ],
            "type": "heatmapgl"
           }
          ],
          "histogram": [
           {
            "marker": {
             "pattern": {
              "fillmode": "overlay",
              "size": 10,
              "solidity": 0.2
             }
            },
            "type": "histogram"
           }
          ],
          "histogram2d": [
           {
            "colorbar": {
             "outlinewidth": 0,
             "ticks": ""
            },
            "colorscale": [
             [
              0,
              "#0d0887"
             ],
             [
              0.1111111111111111,
              "#46039f"
             ],
             [
              0.2222222222222222,
              "#7201a8"
             ],
             [
              0.3333333333333333,
              "#9c179e"
             ],
             [
              0.4444444444444444,
              "#bd3786"
             ],
             [
              0.5555555555555556,
              "#d8576b"
             ],
             [
              0.6666666666666666,
              "#ed7953"
             ],
             [
              0.7777777777777778,
              "#fb9f3a"
             ],
             [
              0.8888888888888888,
              "#fdca26"
             ],
             [
              1,
              "#f0f921"
             ]
            ],
            "type": "histogram2d"
           }
          ],
          "histogram2dcontour": [
           {
            "colorbar": {
             "outlinewidth": 0,
             "ticks": ""
            },
            "colorscale": [
             [
              0,
              "#0d0887"
             ],
             [
              0.1111111111111111,
              "#46039f"
             ],
             [
              0.2222222222222222,
              "#7201a8"
             ],
             [
              0.3333333333333333,
              "#9c179e"
             ],
             [
              0.4444444444444444,
              "#bd3786"
             ],
             [
              0.5555555555555556,
              "#d8576b"
             ],
             [
              0.6666666666666666,
              "#ed7953"
             ],
             [
              0.7777777777777778,
              "#fb9f3a"
             ],
             [
              0.8888888888888888,
              "#fdca26"
             ],
             [
              1,
              "#f0f921"
             ]
            ],
            "type": "histogram2dcontour"
           }
          ],
          "mesh3d": [
           {
            "colorbar": {
             "outlinewidth": 0,
             "ticks": ""
            },
            "type": "mesh3d"
           }
          ],
          "parcoords": [
           {
            "line": {
             "colorbar": {
              "outlinewidth": 0,
              "ticks": ""
             }
            },
            "type": "parcoords"
           }
          ],
          "pie": [
           {
            "automargin": true,
            "type": "pie"
           }
          ],
          "scatter": [
           {
            "marker": {
             "line": {
              "color": "#283442"
             }
            },
            "type": "scatter"
           }
          ],
          "scatter3d": [
           {
            "line": {
             "colorbar": {
              "outlinewidth": 0,
              "ticks": ""
             }
            },
            "marker": {
             "colorbar": {
              "outlinewidth": 0,
              "ticks": ""
             }
            },
            "type": "scatter3d"
           }
          ],
          "scattercarpet": [
           {
            "marker": {
             "colorbar": {
              "outlinewidth": 0,
              "ticks": ""
             }
            },
            "type": "scattercarpet"
           }
          ],
          "scattergeo": [
           {
            "marker": {
             "colorbar": {
              "outlinewidth": 0,
              "ticks": ""
             }
            },
            "type": "scattergeo"
           }
          ],
          "scattergl": [
           {
            "marker": {
             "line": {
              "color": "#283442"
             }
            },
            "type": "scattergl"
           }
          ],
          "scattermapbox": [
           {
            "marker": {
             "colorbar": {
              "outlinewidth": 0,
              "ticks": ""
             }
            },
            "type": "scattermapbox"
           }
          ],
          "scatterpolar": [
           {
            "marker": {
             "colorbar": {
              "outlinewidth": 0,
              "ticks": ""
             }
            },
            "type": "scatterpolar"
           }
          ],
          "scatterpolargl": [
           {
            "marker": {
             "colorbar": {
              "outlinewidth": 0,
              "ticks": ""
             }
            },
            "type": "scatterpolargl"
           }
          ],
          "scatterternary": [
           {
            "marker": {
             "colorbar": {
              "outlinewidth": 0,
              "ticks": ""
             }
            },
            "type": "scatterternary"
           }
          ],
          "surface": [
           {
            "colorbar": {
             "outlinewidth": 0,
             "ticks": ""
            },
            "colorscale": [
             [
              0,
              "#0d0887"
             ],
             [
              0.1111111111111111,
              "#46039f"
             ],
             [
              0.2222222222222222,
              "#7201a8"
             ],
             [
              0.3333333333333333,
              "#9c179e"
             ],
             [
              0.4444444444444444,
              "#bd3786"
             ],
             [
              0.5555555555555556,
              "#d8576b"
             ],
             [
              0.6666666666666666,
              "#ed7953"
             ],
             [
              0.7777777777777778,
              "#fb9f3a"
             ],
             [
              0.8888888888888888,
              "#fdca26"
             ],
             [
              1,
              "#f0f921"
             ]
            ],
            "type": "surface"
           }
          ],
          "table": [
           {
            "cells": {
             "fill": {
              "color": "#506784"
             },
             "line": {
              "color": "rgb(17,17,17)"
             }
            },
            "header": {
             "fill": {
              "color": "#2a3f5f"
             },
             "line": {
              "color": "rgb(17,17,17)"
             }
            },
            "type": "table"
           }
          ]
         },
         "layout": {
          "annotationdefaults": {
           "arrowcolor": "#f2f5fa",
           "arrowhead": 0,
           "arrowwidth": 1
          },
          "autotypenumbers": "strict",
          "coloraxis": {
           "colorbar": {
            "outlinewidth": 0,
            "ticks": ""
           }
          },
          "colorscale": {
           "diverging": [
            [
             0,
             "#8e0152"
            ],
            [
             0.1,
             "#c51b7d"
            ],
            [
             0.2,
             "#de77ae"
            ],
            [
             0.3,
             "#f1b6da"
            ],
            [
             0.4,
             "#fde0ef"
            ],
            [
             0.5,
             "#f7f7f7"
            ],
            [
             0.6,
             "#e6f5d0"
            ],
            [
             0.7,
             "#b8e186"
            ],
            [
             0.8,
             "#7fbc41"
            ],
            [
             0.9,
             "#4d9221"
            ],
            [
             1,
             "#276419"
            ]
           ],
           "sequential": [
            [
             0,
             "#0d0887"
            ],
            [
             0.1111111111111111,
             "#46039f"
            ],
            [
             0.2222222222222222,
             "#7201a8"
            ],
            [
             0.3333333333333333,
             "#9c179e"
            ],
            [
             0.4444444444444444,
             "#bd3786"
            ],
            [
             0.5555555555555556,
             "#d8576b"
            ],
            [
             0.6666666666666666,
             "#ed7953"
            ],
            [
             0.7777777777777778,
             "#fb9f3a"
            ],
            [
             0.8888888888888888,
             "#fdca26"
            ],
            [
             1,
             "#f0f921"
            ]
           ],
           "sequentialminus": [
            [
             0,
             "#0d0887"
            ],
            [
             0.1111111111111111,
             "#46039f"
            ],
            [
             0.2222222222222222,
             "#7201a8"
            ],
            [
             0.3333333333333333,
             "#9c179e"
            ],
            [
             0.4444444444444444,
             "#bd3786"
            ],
            [
             0.5555555555555556,
             "#d8576b"
            ],
            [
             0.6666666666666666,
             "#ed7953"
            ],
            [
             0.7777777777777778,
             "#fb9f3a"
            ],
            [
             0.8888888888888888,
             "#fdca26"
            ],
            [
             1,
             "#f0f921"
            ]
           ]
          },
          "colorway": [
           "#636efa",
           "#EF553B",
           "#00cc96",
           "#ab63fa",
           "#FFA15A",
           "#19d3f3",
           "#FF6692",
           "#B6E880",
           "#FF97FF",
           "#FECB52"
          ],
          "font": {
           "color": "#f2f5fa"
          },
          "geo": {
           "bgcolor": "rgb(17,17,17)",
           "lakecolor": "rgb(17,17,17)",
           "landcolor": "rgb(17,17,17)",
           "showlakes": true,
           "showland": true,
           "subunitcolor": "#506784"
          },
          "hoverlabel": {
           "align": "left"
          },
          "hovermode": "closest",
          "mapbox": {
           "style": "dark"
          },
          "paper_bgcolor": "rgb(17,17,17)",
          "plot_bgcolor": "rgb(17,17,17)",
          "polar": {
           "angularaxis": {
            "gridcolor": "#506784",
            "linecolor": "#506784",
            "ticks": ""
           },
           "bgcolor": "rgb(17,17,17)",
           "radialaxis": {
            "gridcolor": "#506784",
            "linecolor": "#506784",
            "ticks": ""
           }
          },
          "scene": {
           "xaxis": {
            "backgroundcolor": "rgb(17,17,17)",
            "gridcolor": "#506784",
            "gridwidth": 2,
            "linecolor": "#506784",
            "showbackground": true,
            "ticks": "",
            "zerolinecolor": "#C8D4E3"
           },
           "yaxis": {
            "backgroundcolor": "rgb(17,17,17)",
            "gridcolor": "#506784",
            "gridwidth": 2,
            "linecolor": "#506784",
            "showbackground": true,
            "ticks": "",
            "zerolinecolor": "#C8D4E3"
           },
           "zaxis": {
            "backgroundcolor": "rgb(17,17,17)",
            "gridcolor": "#506784",
            "gridwidth": 2,
            "linecolor": "#506784",
            "showbackground": true,
            "ticks": "",
            "zerolinecolor": "#C8D4E3"
           }
          },
          "shapedefaults": {
           "line": {
            "color": "#f2f5fa"
           }
          },
          "sliderdefaults": {
           "bgcolor": "#C8D4E3",
           "bordercolor": "rgb(17,17,17)",
           "borderwidth": 1,
           "tickwidth": 0
          },
          "ternary": {
           "aaxis": {
            "gridcolor": "#506784",
            "linecolor": "#506784",
            "ticks": ""
           },
           "baxis": {
            "gridcolor": "#506784",
            "linecolor": "#506784",
            "ticks": ""
           },
           "bgcolor": "rgb(17,17,17)",
           "caxis": {
            "gridcolor": "#506784",
            "linecolor": "#506784",
            "ticks": ""
           }
          },
          "title": {
           "x": 0.05
          },
          "updatemenudefaults": {
           "bgcolor": "#506784",
           "borderwidth": 0
          },
          "xaxis": {
           "automargin": true,
           "gridcolor": "#283442",
           "linecolor": "#506784",
           "ticks": "",
           "title": {
            "standoff": 15
           },
           "zerolinecolor": "#283442",
           "zerolinewidth": 2
          },
          "yaxis": {
           "automargin": true,
           "gridcolor": "#283442",
           "linecolor": "#506784",
           "ticks": "",
           "title": {
            "standoff": 15
           },
           "zerolinecolor": "#283442",
           "zerolinewidth": 2
          }
         }
        },
        "title": {
         "text": "Stacked Histogram of Unique Sandwicher Count by Date and Token Name"
        },
        "xaxis": {
         "anchor": "y",
         "autorange": true,
         "domain": [
          0,
          1
         ],
         "range": [
          "2024-05-23",
          "2024-06-26"
         ],
         "title": {
          "text": "Date"
         },
         "type": "date"
        },
        "yaxis": {
         "anchor": "x",
         "autorange": true,
         "domain": [
          0,
          1
         ],
         "range": [
          0,
          49.473684210526315
         ],
         "title": {
          "text": "Count"
         }
        }
       }
      },
      "image/png": "[encoded data removed]",
      "text/html": [
       "<div>                            <div id=\"126f20cc-13ae-4304-9370-10e548f4f92a\" class=\"plotly-graph-div\" style=\"height:525px; width:100%;\"></div>            <script type=\"text/javascript\">                require([\"plotly\"], function(Plotly) {                    window.PLOTLYENV=window.PLOTLYENV || {};                                    if (document.getElementById(\"126f20cc-13ae-4304-9370-10e548f4f92a\")) {                    Plotly.newPlot(                        \"126f20cc-13ae-4304-9370-10e548f4f92a\",                        [{\"alignmentgroup\":\"True\",\"bingroup\":\"x\",\"hovertemplate\":\"Token Name=SAVM<br>Date=%{x}<br>count=%{y}<extra></extra>\",\"legendgroup\":\"SAVM\",\"marker\":{\"color\":\"#EF553B\",\"pattern\":{\"shape\":\"\"}},\"name\":\"SAVM\",\"nbinsx\":20,\"offsetgroup\":\"SAVM\",\"orientation\":\"v\",\"showlegend\":true,\"x\":[\"2024-06-25T00:00:00\",\"2024-06-24T00:00:00\"],\"xaxis\":\"x\",\"yaxis\":\"y\",\"type\":\"histogram\"},{\"alignmentgroup\":\"True\",\"bingroup\":\"x\",\"hovertemplate\":\"Token Name=Wrapped BTC (WBTC)<br>Date=%{x}<br>count=%{y}<extra></extra>\",\"legendgroup\":\"Wrapped BTC (WBTC)\",\"marker\":{\"color\":\"#00cc96\",\"pattern\":{\"shape\":\"\"}},\"name\":\"Wrapped BTC (WBTC)\",\"nbinsx\":20,\"offsetgroup\":\"Wrapped BTC (WBTC)\",\"orientation\":\"v\",\"showlegend\":true,\"x\":[\"2024-06-25T00:00:00\",\"2024-06-24T00:00:00\",\"2024-06-23T00:00:00\",\"2024-06-22T00:00:00\"],\"xaxis\":\"x\",\"yaxis\":\"y\",\"type\":\"histogram\"},{\"alignmentgroup\":\"True\",\"bingroup\":\"x\",\"hovertemplate\":\"Token Name=bci/acc (bci/acc)<br>Date=%{x}<br>count=%{y}<extra></extra>\",\"legendgroup\":\"bci/acc (bci/acc)\",\"marker\":{\"color\":\"#ab63fa\",\"pattern\":{\"shape\":\"\"}},\"name\":\"bci/acc (bci/acc)\",\"nbinsx\":20,\"offsetgroup\":\"bci/acc (bci/acc)\",\"orientation\":\"v\",\"showlegend\":true,\"x\":[\"2024-06-25T00:00:00\",\"2024-06-24T00:00:00\"],\"xaxis\":\"x\",\"yaxis\":\"y\",\"type\":\"histogram\"},{\"alignmentgroup\":\"True\",\"bingroup\":\"x\",\"hovertemplate\":\"Token Name=CHOW CHOW (CHOW)<br>Date=%{x}<br>count=%{y}<extra></extra>\",\"legendgroup\":\"CHOW CHOW (CHOW)\",\"marker\":{\"color\":\"#FFA15A\",\"pattern\":{\"shape\":\"\"}},\"name\":\"CHOW CHOW (CHOW)\",\"nbinsx\":20,\"offsetgroup\":\"CHOW CHOW (CHOW)\",\"orientation\":\"v\",\"showlegend\":true,\"x\":[\"2024-06-25T00:00:00\",\"2024-06-24T00:00:00\"],\"xaxis\":\"x\",\"yaxis\":\"y\",\"type\":\"histogram\"},{\"alignmentgroup\":\"True\",\"bingroup\":\"x\",\"hovertemplate\":\"Token Name=Pond Coin (PNDC)<br>Date=%{x}<br>count=%{y}<extra></extra>\",\"legendgroup\":\"Pond Coin (PNDC)\",\"marker\":{\"color\":\"#19d3f3\",\"pattern\":{\"shape\":\"\"}},\"name\":\"Pond Coin (PNDC)\",\"nbinsx\":20,\"offsetgroup\":\"Pond Coin (PNDC)\",\"orientation\":\"v\",\"showlegend\":true,\"x\":[\"2024-06-25T00:00:00\",\"2024-06-24T00:00:00\"],\"xaxis\":\"x\",\"yaxis\":\"y\",\"type\":\"histogram\"},{\"alignmentgroup\":\"True\",\"bingroup\":\"x\",\"hovertemplate\":\"Token Name=Grok 1.5<br>Date=%{x}<br>count=%{y}<extra></extra>\",\"legendgroup\":\"Grok 1.5\",\"marker\":{\"color\":\"#FF6692\",\"pattern\":{\"shape\":\"\"}},\"name\":\"Grok 1.5\",\"nbinsx\":20,\"offsetgroup\":\"Grok 1.5\",\"orientation\":\"v\",\"showlegend\":true,\"x\":[\"2024-06-25T00:00:00\",\"2024-06-24T00:00:00\"],\"xaxis\":\"x\",\"yaxis\":\"y\",\"type\":\"histogram\"},{\"alignmentgroup\":\"True\",\"bingroup\":\"x\",\"hovertemplate\":\"Token Name=MACHINA<br>Date=%{x}<br>count=%{y}<extra></extra>\",\"legendgroup\":\"MACHINA\",\"marker\":{\"color\":\"#B6E880\",\"pattern\":{\"shape\":\"\"}},\"name\":\"MACHINA\",\"nbinsx\":20,\"offsetgroup\":\"MACHINA\",\"orientation\":\"v\",\"showlegend\":true,\"x\":[\"2024-06-25T00:00:00\",\"2024-06-24T00:00:00\"],\"xaxis\":\"x\",\"yaxis\":\"y\",\"type\":\"histogram\"},{\"alignmentgroup\":\"True\",\"bingroup\":\"x\",\"hovertemplate\":\"Token Name=DAI<br>Date=%{x}<br>count=%{y}<extra></extra>\",\"legendgroup\":\"DAI\",\"marker\":{\"color\":\"#FF97FF\",\"pattern\":{\"shape\":\"\"}},\"name\":\"DAI\",\"nbinsx\":20,\"offsetgroup\":\"DAI\",\"orientation\":\"v\",\"showlegend\":true,\"x\":[\"2024-06-25T00:00:00\",\"2024-06-24T00:00:00\"],\"xaxis\":\"x\",\"yaxis\":\"y\",\"type\":\"histogram\"},{\"alignmentgroup\":\"True\",\"bingroup\":\"x\",\"hovertemplate\":\"Token Name=wstETH<br>Date=%{x}<br>count=%{y}<extra></extra>\",\"legendgroup\":\"wstETH\",\"marker\":{\"color\":\"#FECB52\",\"pattern\":{\"shape\":\"\"}},\"name\":\"wstETH\",\"nbinsx\":20,\"offsetgroup\":\"wstETH\",\"orientation\":\"v\",\"showlegend\":true,\"x\":[\"2024-06-25T00:00:00\",\"2024-06-24T00:00:00\",\"2024-06-23T00:00:00\"],\"xaxis\":\"x\",\"yaxis\":\"y\",\"type\":\"histogram\"},{\"alignmentgroup\":\"True\",\"bingroup\":\"x\",\"hovertemplate\":\"Token Name=Ordiswap (ORDS)<br>Date=%{x}<br>count=%{y}<extra></extra>\",\"legendgroup\":\"Ordiswap (ORDS)\",\"marker\":{\"color\":\"#636efa\",\"pattern\":{\"shape\":\"\"}},\"name\":\"Ordiswap (ORDS)\",\"nbinsx\":20,\"offsetgroup\":\"Ordiswap (ORDS)\",\"orientation\":\"v\",\"showlegend\":true,\"x\":[\"2024-06-25T00:00:00\",\"2024-06-24T00:00:00\"],\"xaxis\":\"x\",\"yaxis\":\"y\",\"type\":\"histogram\"},{\"alignmentgroup\":\"True\",\"bingroup\":\"x\",\"hovertemplate\":\"Token Name=Snowman2.0 (SNOW2.0)<br>Date=%{x}<br>count=%{y}<extra></extra>\",\"legendgroup\":\"Snowman2.0 (SNOW2.0)\",\"marker\":{\"color\":\"#EF553B\",\"pattern\":{\"shape\":\"\"}},\"name\":\"Snowman2.0 (SNOW2.0)\",\"nbinsx\":20,\"offsetgroup\":\"Snowman2.0 (SNOW2.0)\",\"orientation\":\"v\",\"showlegend\":true,\"x\":[\"2024-06-25T00:00:00\"],\"xaxis\":\"x\",\"yaxis\":\"y\",\"type\":\"histogram\"},{\"alignmentgroup\":\"True\",\"bingroup\":\"x\",\"hovertemplate\":\"Token Name=MXH<br>Date=%{x}<br>count=%{y}<extra></extra>\",\"legendgroup\":\"MXH\",\"marker\":{\"color\":\"#00cc96\",\"pattern\":{\"shape\":\"\"}},\"name\":\"MXH\",\"nbinsx\":20,\"offsetgroup\":\"MXH\",\"orientation\":\"v\",\"showlegend\":true,\"x\":[\"2024-06-25T00:00:00\",\"2024-06-24T00:00:00\"],\"xaxis\":\"x\",\"yaxis\":\"y\",\"type\":\"histogram\"},{\"alignmentgroup\":\"True\",\"bingroup\":\"x\",\"hovertemplate\":\"Token Name=USDC<br>Date=%{x}<br>count=%{y}<extra></extra>\",\"legendgroup\":\"USDC\",\"marker\":{\"color\":\"#ab63fa\",\"pattern\":{\"shape\":\"\"}},\"name\":\"USDC\",\"nbinsx\":20,\"offsetgroup\":\"USDC\",\"orientation\":\"v\",\"showlegend\":true,\"x\":[\"2024-06-25T00:00:00\",\"2024-06-24T00:00:00\",\"2024-06-22T00:00:00\"],\"xaxis\":\"x\",\"yaxis\":\"y\",\"type\":\"histogram\"},{\"alignmentgroup\":\"True\",\"bingroup\":\"x\",\"hovertemplate\":\"Token Name=YFII.finance (YFII)<br>Date=%{x}<br>count=%{y}<extra></extra>\",\"legendgroup\":\"YFII.finance (YFII)\",\"marker\":{\"color\":\"#FFA15A\",\"pattern\":{\"shape\":\"\"}},\"name\":\"YFII.finance (YFII)\",\"nbinsx\":20,\"offsetgroup\":\"YFII.finance (YFII)\",\"orientation\":\"v\",\"showlegend\":true,\"x\":[\"2024-06-25T00:00:00\",\"2024-06-24T00:00:00\",\"2024-06-20T00:00:00\"],\"xaxis\":\"x\",\"yaxis\":\"y\",\"type\":\"histogram\"},{\"alignmentgroup\":\"True\",\"bingroup\":\"x\",\"hovertemplate\":\"Token Name=Grok 1.5 (GROK1.5)<br>Date=%{x}<br>count=%{y}<extra></extra>\",\"legendgroup\":\"Grok 1.5 (GROK1.5)\",\"marker\":{\"color\":\"#19d3f3\",\"pattern\":{\"shape\":\"\"}},\"name\":\"Grok 1.5 (GROK1.5)\",\"nbinsx\":20,\"offsetgroup\":\"Grok 1.5 (GROK1.5)\",\"orientation\":\"v\",\"showlegend\":true,\"x\":[\"2024-06-25T00:00:00\",\"2024-06-24T00:00:00\"],\"xaxis\":\"x\",\"yaxis\":\"y\",\"type\":\"histogram\"},{\"alignmentgroup\":\"True\",\"bingroup\":\"x\",\"hovertemplate\":\"Token Name=WSM<br>Date=%{x}<br>count=%{y}<extra></extra>\",\"legendgroup\":\"WSM\",\"marker\":{\"color\":\"#FF6692\",\"pattern\":{\"shape\":\"\"}},\"name\":\"WSM\",\"nbinsx\":20,\"offsetgroup\":\"WSM\",\"orientation\":\"v\",\"showlegend\":true,\"x\":[\"2024-06-25T00:00:00\"],\"xaxis\":\"x\",\"yaxis\":\"y\",\"type\":\"histogram\"},{\"alignmentgroup\":\"True\",\"bingroup\":\"x\",\"hovertemplate\":\"Token Name=Joe Biden (BIDEN2024)<br>Date=%{x}<br>count=%{y}<extra></extra>\",\"legendgroup\":\"Joe Biden (BIDEN2024)\",\"marker\":{\"color\":\"#B6E880\",\"pattern\":{\"shape\":\"\"}},\"name\":\"Joe Biden (BIDEN2024)\",\"nbinsx\":20,\"offsetgroup\":\"Joe Biden (BIDEN2024)\",\"orientation\":\"v\",\"showlegend\":true,\"x\":[\"2024-06-25T00:00:00\"],\"xaxis\":\"x\",\"yaxis\":\"y\",\"type\":\"histogram\"},{\"alignmentgroup\":\"True\",\"bingroup\":\"x\",\"hovertemplate\":\"Token Name=WETH<br>Date=%{x}<br>count=%{y}<extra></extra>\",\"legendgroup\":\"WETH\",\"marker\":{\"color\":\"#FF97FF\",\"pattern\":{\"shape\":\"\"}},\"name\":\"WETH\",\"nbinsx\":20,\"offsetgroup\":\"WETH\",\"orientation\":\"v\",\"showlegend\":true,\"x\":[\"2024-06-25T00:00:00\",\"2024-06-24T00:00:00\",\"2024-06-23T00:00:00\",\"2024-06-22T00:00:00\",\"2024-06-21T00:00:00\",\"2024-06-20T00:00:00\",\"2024-06-11T00:00:00\",\"2024-05-28T00:00:00\",\"2024-05-24T00:00:00\"],\"xaxis\":\"x\",\"yaxis\":\"y\",\"type\":\"histogram\"},{\"alignmentgroup\":\"True\",\"bingroup\":\"x\",\"hovertemplate\":\"Token Name=Trump Media Technology Group (TMTG)<br>Date=%{x}<br>count=%{y}<extra></extra>\",\"legendgroup\":\"Trump Media Technology Group (TMTG)\",\"marker\":{\"color\":\"#FECB52\",\"pattern\":{\"shape\":\"\"}},\"name\":\"Trump Media Technology Group (TMTG)\",\"nbinsx\":20,\"offsetgroup\":\"Trump Media Technology Group (TMTG)\",\"orientation\":\"v\",\"showlegend\":true,\"x\":[\"2024-06-25T00:00:00\"],\"xaxis\":\"x\",\"yaxis\":\"y\",\"type\":\"histogram\"},{\"alignmentgroup\":\"True\",\"bingroup\":\"x\",\"hovertemplate\":\"Token Name=SNOW<br>Date=%{x}<br>count=%{y}<extra></extra>\",\"legendgroup\":\"SNOW\",\"marker\":{\"color\":\"#636efa\",\"pattern\":{\"shape\":\"\"}},\"name\":\"SNOW\",\"nbinsx\":20,\"offsetgroup\":\"SNOW\",\"orientation\":\"v\",\"showlegend\":true,\"x\":[\"2024-06-25T00:00:00\"],\"xaxis\":\"x\",\"yaxis\":\"y\",\"type\":\"histogram\"},{\"alignmentgroup\":\"True\",\"bingroup\":\"x\",\"hovertemplate\":\"Token Name=GAMEE (GMEE)<br>Date=%{x}<br>count=%{y}<extra></extra>\",\"legendgroup\":\"GAMEE (GMEE)\",\"marker\":{\"color\":\"#EF553B\",\"pattern\":{\"shape\":\"\"}},\"name\":\"GAMEE (GMEE)\",\"nbinsx\":20,\"offsetgroup\":\"GAMEE (GMEE)\",\"orientation\":\"v\",\"showlegend\":true,\"x\":[\"2024-06-25T00:00:00\",\"2024-06-24T00:00:00\"],\"xaxis\":\"x\",\"yaxis\":\"y\",\"type\":\"histogram\"},{\"alignmentgroup\":\"True\",\"bingroup\":\"x\",\"hovertemplate\":\"Token Name=USDT<br>Date=%{x}<br>count=%{y}<extra></extra>\",\"legendgroup\":\"USDT\",\"marker\":{\"color\":\"#00cc96\",\"pattern\":{\"shape\":\"\"}},\"name\":\"USDT\",\"nbinsx\":20,\"offsetgroup\":\"USDT\",\"orientation\":\"v\",\"showlegend\":true,\"x\":[\"2024-06-25T00:00:00\",\"2024-06-24T00:00:00\",\"2024-06-23T00:00:00\",\"2024-06-22T00:00:00\",\"2024-06-20T00:00:00\"],\"xaxis\":\"x\",\"yaxis\":\"y\",\"type\":\"histogram\"},{\"alignmentgroup\":\"True\",\"bingroup\":\"x\",\"hovertemplate\":\"Token Name=&#120143; Payments <br>Date=%{x}<br>count=%{y}<extra></extra>\",\"legendgroup\":\"&#120143; Payments \",\"marker\":{\"color\":\"#ab63fa\",\"pattern\":{\"shape\":\"\"}},\"name\":\"&#120143; Payments \",\"nbinsx\":20,\"offsetgroup\":\"&#120143; Payments \",\"orientation\":\"v\",\"showlegend\":true,\"x\":[\"2024-06-25T00:00:00\",\"2024-06-24T00:00:00\"],\"xaxis\":\"x\",\"yaxis\":\"y\",\"type\":\"histogram\"},{\"alignmentgroup\":\"True\",\"bingroup\":\"x\",\"hovertemplate\":\"Token Name=TROLL<br>Date=%{x}<br>count=%{y}<extra></extra>\",\"legendgroup\":\"TROLL\",\"marker\":{\"color\":\"#FFA15A\",\"pattern\":{\"shape\":\"\"}},\"name\":\"TROLL\",\"nbinsx\":20,\"offsetgroup\":\"TROLL\",\"orientation\":\"v\",\"showlegend\":true,\"x\":[\"2024-06-25T00:00:00\",\"2024-06-24T00:00:00\"],\"xaxis\":\"x\",\"yaxis\":\"y\",\"type\":\"histogram\"},{\"alignmentgroup\":\"True\",\"bingroup\":\"x\",\"hovertemplate\":\"Token Name=Xpayments<br>Date=%{x}<br>count=%{y}<extra></extra>\",\"legendgroup\":\"Xpayments\",\"marker\":{\"color\":\"#19d3f3\",\"pattern\":{\"shape\":\"\"}},\"name\":\"Xpayments\",\"nbinsx\":20,\"offsetgroup\":\"Xpayments\",\"orientation\":\"v\",\"showlegend\":true,\"x\":[\"2024-06-25T00:00:00\",\"2024-06-24T00:00:00\"],\"xaxis\":\"x\",\"yaxis\":\"y\",\"type\":\"histogram\"},{\"alignmentgroup\":\"True\",\"bingroup\":\"x\",\"hovertemplate\":\"Token Name=Moka (MOKA)<br>Date=%{x}<br>count=%{y}<extra></extra>\",\"legendgroup\":\"Moka (MOKA)\",\"marker\":{\"color\":\"#FF6692\",\"pattern\":{\"shape\":\"\"}},\"name\":\"Moka (MOKA)\",\"nbinsx\":20,\"offsetgroup\":\"Moka (MOKA)\",\"orientation\":\"v\",\"showlegend\":true,\"x\":[\"2024-06-24T00:00:00\",\"2024-06-23T00:00:00\",\"2024-06-22T00:00:00\",\"2024-06-21T00:00:00\",\"2024-06-20T00:00:00\"],\"xaxis\":\"x\",\"yaxis\":\"y\",\"type\":\"histogram\"},{\"alignmentgroup\":\"True\",\"bingroup\":\"x\",\"hovertemplate\":\"Token Name=NCAT<br>Date=%{x}<br>count=%{y}<extra></extra>\",\"legendgroup\":\"NCAT\",\"marker\":{\"color\":\"#B6E880\",\"pattern\":{\"shape\":\"\"}},\"name\":\"NCAT\",\"nbinsx\":20,\"offsetgroup\":\"NCAT\",\"orientation\":\"v\",\"showlegend\":true,\"x\":[\"2024-06-24T00:00:00\",\"2024-06-23T00:00:00\",\"2024-06-22T00:00:00\",\"2024-06-21T00:00:00\",\"2024-06-20T00:00:00\"],\"xaxis\":\"x\",\"yaxis\":\"y\",\"type\":\"histogram\"},{\"alignmentgroup\":\"True\",\"bingroup\":\"x\",\"hovertemplate\":\"Token Name=Dope (DOPE)<br>Date=%{x}<br>count=%{y}<extra></extra>\",\"legendgroup\":\"Dope (DOPE)\",\"marker\":{\"color\":\"#FF97FF\",\"pattern\":{\"shape\":\"\"}},\"name\":\"Dope (DOPE)\",\"nbinsx\":20,\"offsetgroup\":\"Dope (DOPE)\",\"orientation\":\"v\",\"showlegend\":true,\"x\":[\"2024-06-23T00:00:00\",\"2024-06-22T00:00:00\",\"2024-06-20T00:00:00\"],\"xaxis\":\"x\",\"yaxis\":\"y\",\"type\":\"histogram\"}],                        {\"template\":{\"data\":{\"barpolar\":[{\"marker\":{\"line\":{\"color\":\"rgb(17,17,17)\",\"width\":0.5},\"pattern\":{\"fillmode\":\"overlay\",\"size\":10,\"solidity\":0.2}},\"type\":\"barpolar\"}],\"bar\":[{\"error_x\":{\"color\":\"#f2f5fa\"},\"error_y\":{\"color\":\"#f2f5fa\"},\"marker\":{\"line\":{\"color\":\"rgb(17,17,17)\",\"width\":0.5},\"pattern\":{\"fillmode\":\"overlay\",\"size\":10,\"solidity\":0.2}},\"type\":\"bar\"}],\"carpet\":[{\"aaxis\":{\"endlinecolor\":\"#A2B1C6\",\"gridcolor\":\"#506784\",\"linecolor\":\"#506784\",\"minorgridcolor\":\"#506784\",\"startlinecolor\":\"#A2B1C6\"},\"baxis\":{\"endlinecolor\":\"#A2B1C6\",\"gridcolor\":\"#506784\",\"linecolor\":\"#506784\",\"minorgridcolor\":\"#506784\",\"startlinecolor\":\"#A2B1C6\"},\"type\":\"carpet\"}],\"choropleth\":[{\"colorbar\":{\"outlinewidth\":0,\"ticks\":\"\"},\"type\":\"choropleth\"}],\"contourcarpet\":[{\"colorbar\":{\"outlinewidth\":0,\"ticks\":\"\"},\"type\":\"contourcarpet\"}],\"contour\":[{\"colorbar\":{\"outlinewidth\":0,\"ticks\":\"\"},\"colorscale\":[[0.0,\"#0d0887\"],[0.1111111111111111,\"#46039f\"],[0.2222222222222222,\"#7201a8\"],[0.3333333333333333,\"#9c179e\"],[0.4444444444444444,\"#bd3786\"],[0.5555555555555556,\"#d8576b\"],[0.6666666666666666,\"#ed7953\"],[0.7777777777777778,\"#fb9f3a\"],[0.8888888888888888,\"#fdca26\"],[1.0,\"#f0f921\"]],\"type\":\"contour\"}],\"heatmapgl\":[{\"colorbar\":{\"outlinewidth\":0,\"ticks\":\"\"},\"colorscale\":[[0.0,\"#0d0887\"],[0.1111111111111111,\"#46039f\"],[0.2222222222222222,\"#7201a8\"],[0.3333333333333333,\"#9c179e\"],[0.4444444444444444,\"#bd3786\"],[0.5555555555555556,\"#d8576b\"],[0.6666666666666666,\"#ed7953\"],[0.7777777777777778,\"#fb9f3a\"],[0.8888888888888888,\"#fdca26\"],[1.0,\"#f0f921\"]],\"type\":\"heatmapgl\"}],\"heatmap\":[{\"colorbar\":{\"outlinewidth\":0,\"ticks\":\"\"},\"colorscale\":[[0.0,\"#0d0887\"],[0.1111111111111111,\"#46039f\"],[0.2222222222222222,\"#7201a8\"],[0.3333333333333333,\"#9c179e\"],[0.4444444444444444,\"#bd3786\"],[0.5555555555555556,\"#d8576b\"],[0.6666666666666666,\"#ed7953\"],[0.7777777777777778,\"#fb9f3a\"],[0.8888888888888888,\"#fdca26\"],[1.0,\"#f0f921\"]],\"type\":\"heatmap\"}],\"histogram2dcontour\":[{\"colorbar\":{\"outlinewidth\":0,\"ticks\":\"\"},\"colorscale\":[[0.0,\"#0d0887\"],[0.1111111111111111,\"#46039f\"],[0.2222222222222222,\"#7201a8\"],[0.3333333333333333,\"#9c179e\"],[0.4444444444444444,\"#bd3786\"],[0.5555555555555556,\"#d8576b\"],[0.6666666666666666,\"#ed7953\"],[0.7777777777777778,\"#fb9f3a\"],[0.8888888888888888,\"#fdca26\"],[1.0,\"#f0f921\"]],\"type\":\"histogram2dcontour\"}],\"histogram2d\":[{\"colorbar\":{\"outlinewidth\":0,\"ticks\":\"\"},\"colorscale\":[[0.0,\"#0d0887\"],[0.1111111111111111,\"#46039f\"],[0.2222222222222222,\"#7201a8\"],[0.3333333333333333,\"#9c179e\"],[0.4444444444444444,\"#bd3786\"],[0.5555555555555556,\"#d8576b\"],[0.6666666666666666,\"#ed7953\"],[0.7777777777777778,\"#fb9f3a\"],[0.8888888888888888,\"#fdca26\"],[1.0,\"#f0f921\"]],\"type\":\"histogram2d\"}],\"histogram\":[{\"marker\":{\"pattern\":{\"fillmode\":\"overlay\",\"size\":10,\"solidity\":0.2}},\"type\":\"histogram\"}],\"mesh3d\":[{\"colorbar\":{\"outlinewidth\":0,\"ticks\":\"\"},\"type\":\"mesh3d\"}],\"parcoords\":[{\"line\":{\"colorbar\":{\"outlinewidth\":0,\"ticks\":\"\"}},\"type\":\"parcoords\"}],\"pie\":[{\"automargin\":true,\"type\":\"pie\"}],\"scatter3d\":[{\"line\":{\"colorbar\":{\"outlinewidth\":0,\"ticks\":\"\"}},\"marker\":{\"colorbar\":{\"outlinewidth\":0,\"ticks\":\"\"}},\"type\":\"scatter3d\"}],\"scattercarpet\":[{\"marker\":{\"colorbar\":{\"outlinewidth\":0,\"ticks\":\"\"}},\"type\":\"scattercarpet\"}],\"scattergeo\":[{\"marker\":{\"colorbar\":{\"outlinewidth\":0,\"ticks\":\"\"}},\"type\":\"scattergeo\"}],\"scattergl\":[{\"marker\":{\"line\":{\"color\":\"#283442\"}},\"type\":\"scattergl\"}],\"scattermapbox\":[{\"marker\":{\"colorbar\":{\"outlinewidth\":0,\"ticks\":\"\"}},\"type\":\"scattermapbox\"}],\"scatterpolargl\":[{\"marker\":{\"colorbar\":{\"outlinewidth\":0,\"ticks\":\"\"}},\"type\":\"scatterpolargl\"}],\"scatterpolar\":[{\"marker\":{\"colorbar\":{\"outlinewidth\":0,\"ticks\":\"\"}},\"type\":\"scatterpolar\"}],\"scatter\":[{\"marker\":{\"line\":{\"color\":\"#283442\"}},\"type\":\"scatter\"}],\"scatterternary\":[{\"marker\":{\"colorbar\":{\"outlinewidth\":0,\"ticks\":\"\"}},\"type\":\"scatterternary\"}],\"surface\":[{\"colorbar\":{\"outlinewidth\":0,\"ticks\":\"\"},\"colorscale\":[[0.0,\"#0d0887\"],[0.1111111111111111,\"#46039f\"],[0.2222222222222222,\"#7201a8\"],[0.3333333333333333,\"#9c179e\"],[0.4444444444444444,\"#bd3786\"],[0.5555555555555556,\"#d8576b\"],[0.6666666666666666,\"#ed7953\"],[0.7777777777777778,\"#fb9f3a\"],[0.8888888888888888,\"#fdca26\"],[1.0,\"#f0f921\"]],\"type\":\"surface\"}],\"table\":[{\"cells\":{\"fill\":{\"color\":\"#506784\"},\"line\":{\"color\":\"rgb(17,17,17)\"}},\"header\":{\"fill\":{\"color\":\"#2a3f5f\"},\"line\":{\"color\":\"rgb(17,17,17)\"}},\"type\":\"table\"}]},\"layout\":{\"annotationdefaults\":{\"arrowcolor\":\"#f2f5fa\",\"arrowhead\":0,\"arrowwidth\":1},\"autotypenumbers\":\"strict\",\"coloraxis\":{\"colorbar\":{\"outlinewidth\":0,\"ticks\":\"\"}},\"colorscale\":{\"diverging\":[[0,\"#8e0152\"],[0.1,\"#c51b7d\"],[0.2,\"#de77ae\"],[0.3,\"#f1b6da\"],[0.4,\"#fde0ef\"],[0.5,\"#f7f7f7\"],[0.6,\"#e6f5d0\"],[0.7,\"#b8e186\"],[0.8,\"#7fbc41\"],[0.9,\"#4d9221\"],[1,\"#276419\"]],\"sequential\":[[0.0,\"#0d0887\"],[0.1111111111111111,\"#46039f\"],[0.2222222222222222,\"#7201a8\"],[0.3333333333333333,\"#9c179e\"],[0.4444444444444444,\"#bd3786\"],[0.5555555555555556,\"#d8576b\"],[0.6666666666666666,\"#ed7953\"],[0.7777777777777778,\"#fb9f3a\"],[0.8888888888888888,\"#fdca26\"],[1.0,\"#f0f921\"]],\"sequentialminus\":[[0.0,\"#0d0887\"],[0.1111111111111111,\"#46039f\"],[0.2222222222222222,\"#7201a8\"],[0.3333333333333333,\"#9c179e\"],[0.4444444444444444,\"#bd3786\"],[0.5555555555555556,\"#d8576b\"],[0.6666666666666666,\"#ed7953\"],[0.7777777777777778,\"#fb9f3a\"],[0.8888888888888888,\"#fdca26\"],[1.0,\"#f0f921\"]]},\"colorway\":[\"#636efa\",\"#EF553B\",\"#00cc96\",\"#ab63fa\",\"#FFA15A\",\"#19d3f3\",\"#FF6692\",\"#B6E880\",\"#FF97FF\",\"#FECB52\"],\"font\":{\"color\":\"#f2f5fa\"},\"geo\":{\"bgcolor\":\"rgb(17,17,17)\",\"lakecolor\":\"rgb(17,17,17)\",\"landcolor\":\"rgb(17,17,17)\",\"showlakes\":true,\"showland\":true,\"subunitcolor\":\"#506784\"},\"hoverlabel\":{\"align\":\"left\"},\"hovermode\":\"closest\",\"mapbox\":{\"style\":\"dark\"},\"paper_bgcolor\":\"rgb(17,17,17)\",\"plot_bgcolor\":\"rgb(17,17,17)\",\"polar\":{\"angularaxis\":{\"gridcolor\":\"#506784\",\"linecolor\":\"#506784\",\"ticks\":\"\"},\"bgcolor\":\"rgb(17,17,17)\",\"radialaxis\":{\"gridcolor\":\"#506784\",\"linecolor\":\"#506784\",\"ticks\":\"\"}},\"scene\":{\"xaxis\":{\"backgroundcolor\":\"rgb(17,17,17)\",\"gridcolor\":\"#506784\",\"gridwidth\":2,\"linecolor\":\"#506784\",\"showbackground\":true,\"ticks\":\"\",\"zerolinecolor\":\"#C8D4E3\"},\"yaxis\":{\"backgroundcolor\":\"rgb(17,17,17)\",\"gridcolor\":\"#506784\",\"gridwidth\":2,\"linecolor\":\"#506784\",\"showbackground\":true,\"ticks\":\"\",\"zerolinecolor\":\"#C8D4E3\"},\"zaxis\":{\"backgroundcolor\":\"rgb(17,17,17)\",\"gridcolor\":\"#506784\",\"gridwidth\":2,\"linecolor\":\"#506784\",\"showbackground\":true,\"ticks\":\"\",\"zerolinecolor\":\"#C8D4E3\"}},\"shapedefaults\":{\"line\":{\"color\":\"#f2f5fa\"}},\"sliderdefaults\":{\"bgcolor\":\"#C8D4E3\",\"bordercolor\":\"rgb(17,17,17)\",\"borderwidth\":1,\"tickwidth\":0},\"ternary\":{\"aaxis\":{\"gridcolor\":\"#506784\",\"linecolor\":\"#506784\",\"ticks\":\"\"},\"baxis\":{\"gridcolor\":\"#506784\",\"linecolor\":\"#506784\",\"ticks\":\"\"},\"bgcolor\":\"rgb(17,17,17)\",\"caxis\":{\"gridcolor\":\"#506784\",\"linecolor\":\"#506784\",\"ticks\":\"\"}},\"title\":{\"x\":0.05},\"updatemenudefaults\":{\"bgcolor\":\"#506784\",\"borderwidth\":0},\"xaxis\":{\"automargin\":true,\"gridcolor\":\"#283442\",\"linecolor\":\"#506784\",\"ticks\":\"\",\"title\":{\"standoff\":15},\"zerolinecolor\":\"#283442\",\"zerolinewidth\":2},\"yaxis\":{\"automargin\":true,\"gridcolor\":\"#283442\",\"linecolor\":\"#506784\",\"ticks\":\"\",\"title\":{\"standoff\":15},\"zerolinecolor\":\"#283442\",\"zerolinewidth\":2}}},\"xaxis\":{\"anchor\":\"y\",\"domain\":[0.0,1.0],\"title\":{\"text\":\"Date\"}},\"yaxis\":{\"anchor\":\"x\",\"domain\":[0.0,1.0],\"title\":{\"text\":\"Count\"}},\"legend\":{\"title\":{\"text\":\"Token Name\"},\"tracegroupgap\":0},\"title\":{\"text\":\"Stacked Histogram of Unique Sandwicher Count by Date and Token Name\"},\"barmode\":\"stack\",\"bargap\":0.1},                        {\"responsive\": true}                    ).then(function(){\n",
       "                            \n",
       "var gd = document.getElementById('126f20cc-13ae-4304-9370-10e548f4f92a');\n",
       "var x = new MutationObserver(function (mutations, observer) {{\n",
       "        var display = window.getComputedStyle(gd).display;\n",
       "        if (!display || display === 'none') {{\n",
       "            console.log([gd, 'removed!']);\n",
       "            Plotly.purge(gd);\n",
       "            observer.disconnect();\n",
       "        }}\n",
       "}});\n",
       "\n",
       "// Listen for the removal of the full notebook cells\n",
       "var notebookContainer = gd.closest('#notebook-container');\n",
       "if (notebookContainer) {{\n",
       "    x.observe(notebookContainer, {childList: true});\n",
       "}}\n",
       "\n",
       "// Listen for the clearing of the current output cell\n",
       "var outputEl = gd.closest('.output');\n",
       "if (outputEl) {{\n",
       "    x.observe(outputEl, {childList: true});\n",
       "}}\n",
       "\n",
       "                        })                };                });            </script>        </div>"
      ]
     },
     "metadata": {},
     "output_type": "display_data"
    }
   ],
   "source": [
    "import plotly.express as px\n",
    "import warnings\n",
    "\n",
    "with warnings.catch_warnings(record=True) as w:\n",
    "    warnings.simplefilter(\"always\") \n",
    "\n",
    "fig = px.histogram(\n",
    "    merged_df,\n",
    "    x=\"date\",\n",
    "    color=\"name\",\n",
    "    barmode=\"stack\",\n",
    "    nbins=20,\n",
    "    title='Stacked Histogram of Unique Sandwicher Count by Date and Token Name',\n",
    "    labels={\n",
    "        'date': 'Date',\n",
    "        'unique_sandwicher_count': 'Count',\n",
    "        'name': 'Token Name'\n",
    "    }\n",
    ")\n",
    "\n",
    "fig.update_layout(\n",
    "    xaxis_title='Date',\n",
    "    yaxis_title='Count',\n",
    "    legend_title='Token Name',\n",
    "    bargap=0.1,\n",
    "    template='plotly_dark'\n",
    ")\n",
    "\n",
    "fig.show()"
   ]
  },
  {
   "cell_type": "markdown",
   "id": "5eff8d35-880f-440d-a846-3a4fb2edf3e3",
   "metadata": {},
   "source": [
    "### 3. Кількість cендвічів за конкурентом"
   ]
  },
  {
   "cell_type": "markdown",
   "id": "f321fffb-82f3-44c4-9032-946e6eed3787",
   "metadata": {
    "jp-MarkdownHeadingCollapsed": true
   },
   "source": [
    "#### code"
   ]
  },
  {
   "cell_type": "code",
   "execution_count": 278,
   "id": "e70fb1c9-bb4e-4a98-a3d5-d7caf6212f3b",
   "metadata": {},
   "outputs": [],
   "source": [
    "sandwichers_all = pd.read_csv('Кількість сендвічів по конкуренту (combined).csv')"
   ]
  },
  {
   "cell_type": "code",
   "execution_count": 280,
   "id": "22d92cb0-56dd-4a68-a9de-420dd75dd7f3",
   "metadata": {},
   "outputs": [
    {
     "data": {
      "text/html": [
       "<div>\n",
       "<style scoped>\n",
       "    .dataframe tbody tr th:only-of-type {\n",
       "        vertical-align: middle;\n",
       "    }\n",
       "\n",
       "    .dataframe tbody tr th {\n",
       "        vertical-align: top;\n",
       "    }\n",
       "\n",
       "    .dataframe thead th {\n",
       "        text-align: right;\n",
       "    }\n",
       "</style>\n",
       "<table border=\"1\" class=\"dataframe\">\n",
       "  <thead>\n",
       "    <tr style=\"text-align: right;\">\n",
       "      <th></th>\n",
       "      <th>sandwicher_address</th>\n",
       "      <th>sandwich_count</th>\n",
       "      <th>sandwich_count_weth</th>\n",
       "    </tr>\n",
       "  </thead>\n",
       "  <tbody>\n",
       "    <tr>\n",
       "      <th>0</th>\n",
       "      <td>0x6b75d8af000000e20b7a7ddf000ba900b4009a80</td>\n",
       "      <td>33902</td>\n",
       "      <td>18895.0</td>\n",
       "    </tr>\n",
       "    <tr>\n",
       "      <th>1</th>\n",
       "      <td>0x00000000a991c429ee2ec6df19d40fe0c80088b8</td>\n",
       "      <td>3408</td>\n",
       "      <td>3104.0</td>\n",
       "    </tr>\n",
       "    <tr>\n",
       "      <th>2</th>\n",
       "      <td>0x000000d40b595b94918a28b27d1e2c66f43a51d3</td>\n",
       "      <td>2957</td>\n",
       "      <td>666.0</td>\n",
       "    </tr>\n",
       "    <tr>\n",
       "      <th>3</th>\n",
       "      <td>0x0096913d68a000311266250f0000000000e04c00</td>\n",
       "      <td>1621</td>\n",
       "      <td>1497.0</td>\n",
       "    </tr>\n",
       "    <tr>\n",
       "      <th>4</th>\n",
       "      <td>0x0000001d0000f38cc10d0028474a9c180058b091</td>\n",
       "      <td>1243</td>\n",
       "      <td>1211.0</td>\n",
       "    </tr>\n",
       "    <tr>\n",
       "      <th>...</th>\n",
       "      <td>...</td>\n",
       "      <td>...</td>\n",
       "      <td>...</td>\n",
       "    </tr>\n",
       "    <tr>\n",
       "      <th>143</th>\n",
       "      <td>0x37ef17fe040badb8b308174cfb3c9d948d17dc48</td>\n",
       "      <td>1</td>\n",
       "      <td>NaN</td>\n",
       "    </tr>\n",
       "    <tr>\n",
       "      <th>144</th>\n",
       "      <td>0x5dda1dad9f282369521813e7313947c0eca33420</td>\n",
       "      <td>1</td>\n",
       "      <td>NaN</td>\n",
       "    </tr>\n",
       "    <tr>\n",
       "      <th>145</th>\n",
       "      <td>0xcb38104958c91e9e51ae995c3c07be4bff9f33fb</td>\n",
       "      <td>1</td>\n",
       "      <td>NaN</td>\n",
       "    </tr>\n",
       "    <tr>\n",
       "      <th>146</th>\n",
       "      <td>0xb86e490e72f050c424383d514362dc61dabb1cc3</td>\n",
       "      <td>1</td>\n",
       "      <td>NaN</td>\n",
       "    </tr>\n",
       "    <tr>\n",
       "      <th>147</th>\n",
       "      <td>0xf1b5cf831ced19136472b2b385f30384ce14a982</td>\n",
       "      <td>1</td>\n",
       "      <td>1.0</td>\n",
       "    </tr>\n",
       "  </tbody>\n",
       "</table>\n",
       "<p>148 rows × 3 columns</p>\n",
       "</div>"
      ],
      "text/plain": [
       "                             sandwicher_address  sandwich_count  \\\n",
       "0    0x6b75d8af000000e20b7a7ddf000ba900b4009a80           33902   \n",
       "1    0x00000000a991c429ee2ec6df19d40fe0c80088b8            3408   \n",
       "2    0x000000d40b595b94918a28b27d1e2c66f43a51d3            2957   \n",
       "3    0x0096913d68a000311266250f0000000000e04c00            1621   \n",
       "4    0x0000001d0000f38cc10d0028474a9c180058b091            1243   \n",
       "..                                          ...             ...   \n",
       "143  0x37ef17fe040badb8b308174cfb3c9d948d17dc48               1   \n",
       "144  0x5dda1dad9f282369521813e7313947c0eca33420               1   \n",
       "145  0xcb38104958c91e9e51ae995c3c07be4bff9f33fb               1   \n",
       "146  0xb86e490e72f050c424383d514362dc61dabb1cc3               1   \n",
       "147  0xf1b5cf831ced19136472b2b385f30384ce14a982               1   \n",
       "\n",
       "     sandwich_count_weth  \n",
       "0                18895.0  \n",
       "1                 3104.0  \n",
       "2                  666.0  \n",
       "3                 1497.0  \n",
       "4                 1211.0  \n",
       "..                   ...  \n",
       "143                  NaN  \n",
       "144                  NaN  \n",
       "145                  NaN  \n",
       "146                  NaN  \n",
       "147                  1.0  \n",
       "\n",
       "[148 rows x 3 columns]"
      ]
     },
     "execution_count": 280,
     "metadata": {},
     "output_type": "execute_result"
    }
   ],
   "source": [
    "sandwichers_all"
   ]
  },
  {
   "cell_type": "code",
   "execution_count": 284,
   "id": "5c39d4b5-ebc4-4e5b-9fb7-53bbafae86cb",
   "metadata": {},
   "outputs": [
    {
     "data": {
      "text/html": [
       "<div>\n",
       "<style scoped>\n",
       "    .dataframe tbody tr th:only-of-type {\n",
       "        vertical-align: middle;\n",
       "    }\n",
       "\n",
       "    .dataframe tbody tr th {\n",
       "        vertical-align: top;\n",
       "    }\n",
       "\n",
       "    .dataframe thead th {\n",
       "        text-align: right;\n",
       "    }\n",
       "</style>\n",
       "<table border=\"1\" class=\"dataframe\">\n",
       "  <thead>\n",
       "    <tr style=\"text-align: right;\">\n",
       "      <th></th>\n",
       "      <th>sandwicher_address</th>\n",
       "      <th>sandwich_count</th>\n",
       "      <th>sandwich_count_weth</th>\n",
       "    </tr>\n",
       "  </thead>\n",
       "  <tbody>\n",
       "    <tr>\n",
       "      <th>0</th>\n",
       "      <td>0x6b75d8af000000e20b7a7ddf000ba900b4009a80</td>\n",
       "      <td>33902</td>\n",
       "      <td>18895.0</td>\n",
       "    </tr>\n",
       "    <tr>\n",
       "      <th>1</th>\n",
       "      <td>0x00000000a991c429ee2ec6df19d40fe0c80088b8</td>\n",
       "      <td>3408</td>\n",
       "      <td>3104.0</td>\n",
       "    </tr>\n",
       "    <tr>\n",
       "      <th>2</th>\n",
       "      <td>0x000000d40b595b94918a28b27d1e2c66f43a51d3</td>\n",
       "      <td>2957</td>\n",
       "      <td>666.0</td>\n",
       "    </tr>\n",
       "    <tr>\n",
       "      <th>3</th>\n",
       "      <td>0x0096913d68a000311266250f0000000000e04c00</td>\n",
       "      <td>1621</td>\n",
       "      <td>1497.0</td>\n",
       "    </tr>\n",
       "    <tr>\n",
       "      <th>4</th>\n",
       "      <td>0x0000001d0000f38cc10d0028474a9c180058b091</td>\n",
       "      <td>1243</td>\n",
       "      <td>1211.0</td>\n",
       "    </tr>\n",
       "  </tbody>\n",
       "</table>\n",
       "</div>"
      ],
      "text/plain": [
       "                           sandwicher_address  sandwich_count  \\\n",
       "0  0x6b75d8af000000e20b7a7ddf000ba900b4009a80           33902   \n",
       "1  0x00000000a991c429ee2ec6df19d40fe0c80088b8            3408   \n",
       "2  0x000000d40b595b94918a28b27d1e2c66f43a51d3            2957   \n",
       "3  0x0096913d68a000311266250f0000000000e04c00            1621   \n",
       "4  0x0000001d0000f38cc10d0028474a9c180058b091            1243   \n",
       "\n",
       "   sandwich_count_weth  \n",
       "0              18895.0  \n",
       "1               3104.0  \n",
       "2                666.0  \n",
       "3               1497.0  \n",
       "4               1211.0  "
      ]
     },
     "execution_count": 284,
     "metadata": {},
     "output_type": "execute_result"
    }
   ],
   "source": [
    "sandwichers_all_top_5 = sandwichers_all.head(5)\n",
    "sandwichers_all_top_5"
   ]
  },
  {
   "cell_type": "markdown",
   "id": "e97a4ffb-3d13-425d-b029-0d4e18f67f88",
   "metadata": {},
   "source": [
    "#### plot and table"
   ]
  },
  {
   "cell_type": "code",
   "execution_count": 290,
   "id": "1f43ed61-f7c2-4cd9-acfd-6f8dba072e00",
   "metadata": {},
   "outputs": [
    {
     "data": {
      "text/html": [
       "<div>\n",
       "<style scoped>\n",
       "    .dataframe tbody tr th:only-of-type {\n",
       "        vertical-align: middle;\n",
       "    }\n",
       "\n",
       "    .dataframe tbody tr th {\n",
       "        vertical-align: top;\n",
       "    }\n",
       "\n",
       "    .dataframe thead th {\n",
       "        text-align: right;\n",
       "    }\n",
       "</style>\n",
       "<table border=\"1\" class=\"dataframe\">\n",
       "  <thead>\n",
       "    <tr style=\"text-align: right;\">\n",
       "      <th></th>\n",
       "      <th>sandwicher_address</th>\n",
       "      <th>sandwich_count</th>\n",
       "      <th>sandwich_count_weth</th>\n",
       "    </tr>\n",
       "  </thead>\n",
       "  <tbody>\n",
       "    <tr>\n",
       "      <th>0</th>\n",
       "      <td>0x6b75d8af000000e20b7a7ddf000ba900b4009a80</td>\n",
       "      <td>33902</td>\n",
       "      <td>18895.0</td>\n",
       "    </tr>\n",
       "    <tr>\n",
       "      <th>1</th>\n",
       "      <td>0x00000000a991c429ee2ec6df19d40fe0c80088b8</td>\n",
       "      <td>3408</td>\n",
       "      <td>3104.0</td>\n",
       "    </tr>\n",
       "    <tr>\n",
       "      <th>2</th>\n",
       "      <td>0x000000d40b595b94918a28b27d1e2c66f43a51d3</td>\n",
       "      <td>2957</td>\n",
       "      <td>666.0</td>\n",
       "    </tr>\n",
       "    <tr>\n",
       "      <th>3</th>\n",
       "      <td>0x0096913d68a000311266250f0000000000e04c00</td>\n",
       "      <td>1621</td>\n",
       "      <td>1497.0</td>\n",
       "    </tr>\n",
       "    <tr>\n",
       "      <th>4</th>\n",
       "      <td>0x0000001d0000f38cc10d0028474a9c180058b091</td>\n",
       "      <td>1243</td>\n",
       "      <td>1211.0</td>\n",
       "    </tr>\n",
       "    <tr>\n",
       "      <th>5</th>\n",
       "      <td>our address: 0xf50024f746d94f144a79003d0000000...</td>\n",
       "      <td>76</td>\n",
       "      <td>76</td>\n",
       "    </tr>\n",
       "  </tbody>\n",
       "</table>\n",
       "</div>"
      ],
      "text/plain": [
       "                                  sandwicher_address sandwich_count  \\\n",
       "0         0x6b75d8af000000e20b7a7ddf000ba900b4009a80          33902   \n",
       "1         0x00000000a991c429ee2ec6df19d40fe0c80088b8           3408   \n",
       "2         0x000000d40b595b94918a28b27d1e2c66f43a51d3           2957   \n",
       "3         0x0096913d68a000311266250f0000000000e04c00           1621   \n",
       "4         0x0000001d0000f38cc10d0028474a9c180058b091           1243   \n",
       "5  our address: 0xf50024f746d94f144a79003d0000000...             76   \n",
       "\n",
       "  sandwich_count_weth  \n",
       "0             18895.0  \n",
       "1              3104.0  \n",
       "2               666.0  \n",
       "3              1497.0  \n",
       "4              1211.0  \n",
       "5                  76  "
      ]
     },
     "execution_count": 290,
     "metadata": {},
     "output_type": "execute_result"
    }
   ],
   "source": [
    "sandwichers_all_top_5_and_we = pd.concat([sandwichers_all_top_5, pd.DataFrame({'sandwicher_address': ['our address: 0xf50024f746d94f144a79003d00000000e380a500'], \n",
    "                                  'sandwich_count': ['76'], \n",
    "                                  'sandwich_count_weth' : ['76']})], ignore_index=True)\n",
    "sandwichers_all_top_5_and_we"
   ]
  },
  {
   "cell_type": "code",
   "execution_count": 294,
   "id": "405a91c4-53fb-4fd5-8b64-856800c3bdf0",
   "metadata": {},
   "outputs": [
    {
     "data": {
      "application/vnd.plotly.v1+json": {
       "config": {
        "plotlyServerURL": "https://plot.ly"
       },
       "data": [
        {
         "marker": {
          "color": "blue"
         },
         "name": "Sandwich Count",
         "type": "bar",
         "x": [
          "0x6b75d8af000000e20b7a7ddf000ba900b4009a80",
          "0x00000000a991c429ee2ec6df19d40fe0c80088b8",
          "0x000000d40b595b94918a28b27d1e2c66f43a51d3",
          "0x0096913d68a000311266250f0000000000e04c00",
          "0x0000001d0000f38cc10d0028474a9c180058b091",
          "our address: 0xf50024f746d94f144a79003d00000000e380a500"
         ],
         "y": [
          33902,
          3408,
          2957,
          1621,
          1243,
          "76"
         ]
        },
        {
         "marker": {
          "color": "orange"
         },
         "name": "Sandwich Count WETH",
         "type": "bar",
         "x": [
          "0x6b75d8af000000e20b7a7ddf000ba900b4009a80",
          "0x00000000a991c429ee2ec6df19d40fe0c80088b8",
          "0x000000d40b595b94918a28b27d1e2c66f43a51d3",
          "0x0096913d68a000311266250f0000000000e04c00",
          "0x0000001d0000f38cc10d0028474a9c180058b091",
          "our address: 0xf50024f746d94f144a79003d00000000e380a500"
         ],
         "y": [
          18895,
          3104,
          666,
          1497,
          1211,
          "76"
         ]
        }
       ],
       "layout": {
        "autosize": true,
        "barmode": "group",
        "legend": {
         "title": {
          "text": "Counts"
         }
        },
        "template": {
         "data": {
          "bar": [
           {
            "error_x": {
             "color": "#f2f5fa"
            },
            "error_y": {
             "color": "#f2f5fa"
            },
            "marker": {
             "line": {
              "color": "rgb(17,17,17)",
              "width": 0.5
             },
             "pattern": {
              "fillmode": "overlay",
              "size": 10,
              "solidity": 0.2
             }
            },
            "type": "bar"
           }
          ],
          "barpolar": [
           {
            "marker": {
             "line": {
              "color": "rgb(17,17,17)",
              "width": 0.5
             },
             "pattern": {
              "fillmode": "overlay",
              "size": 10,
              "solidity": 0.2
             }
            },
            "type": "barpolar"
           }
          ],
          "carpet": [
           {
            "aaxis": {
             "endlinecolor": "#A2B1C6",
             "gridcolor": "#506784",
             "linecolor": "#506784",
             "minorgridcolor": "#506784",
             "startlinecolor": "#A2B1C6"
            },
            "baxis": {
             "endlinecolor": "#A2B1C6",
             "gridcolor": "#506784",
             "linecolor": "#506784",
             "minorgridcolor": "#506784",
             "startlinecolor": "#A2B1C6"
            },
            "type": "carpet"
           }
          ],
          "choropleth": [
           {
            "colorbar": {
             "outlinewidth": 0,
             "ticks": ""
            },
            "type": "choropleth"
           }
          ],
          "contour": [
           {
            "colorbar": {
             "outlinewidth": 0,
             "ticks": ""
            },
            "colorscale": [
             [
              0,
              "#0d0887"
             ],
             [
              0.1111111111111111,
              "#46039f"
             ],
             [
              0.2222222222222222,
              "#7201a8"
             ],
             [
              0.3333333333333333,
              "#9c179e"
             ],
             [
              0.4444444444444444,
              "#bd3786"
             ],
             [
              0.5555555555555556,
              "#d8576b"
             ],
             [
              0.6666666666666666,
              "#ed7953"
             ],
             [
              0.7777777777777778,
              "#fb9f3a"
             ],
             [
              0.8888888888888888,
              "#fdca26"
             ],
             [
              1,
              "#f0f921"
             ]
            ],
            "type": "contour"
           }
          ],
          "contourcarpet": [
           {
            "colorbar": {
             "outlinewidth": 0,
             "ticks": ""
            },
            "type": "contourcarpet"
           }
          ],
          "heatmap": [
           {
            "colorbar": {
             "outlinewidth": 0,
             "ticks": ""
            },
            "colorscale": [
             [
              0,
              "#0d0887"
             ],
             [
              0.1111111111111111,
              "#46039f"
             ],
             [
              0.2222222222222222,
              "#7201a8"
             ],
             [
              0.3333333333333333,
              "#9c179e"
             ],
             [
              0.4444444444444444,
              "#bd3786"
             ],
             [
              0.5555555555555556,
              "#d8576b"
             ],
             [
              0.6666666666666666,
              "#ed7953"
             ],
             [
              0.7777777777777778,
              "#fb9f3a"
             ],
             [
              0.8888888888888888,
              "#fdca26"
             ],
             [
              1,
              "#f0f921"
             ]
            ],
            "type": "heatmap"
           }
          ],
          "heatmapgl": [
           {
            "colorbar": {
             "outlinewidth": 0,
             "ticks": ""
            },
            "colorscale": [
             [
              0,
              "#0d0887"
             ],
             [
              0.1111111111111111,
              "#46039f"
             ],
             [
              0.2222222222222222,
              "#7201a8"
             ],
             [
              0.3333333333333333,
              "#9c179e"
             ],
             [
              0.4444444444444444,
              "#bd3786"
             ],
             [
              0.5555555555555556,
              "#d8576b"
             ],
             [
              0.6666666666666666,
              "#ed7953"
             ],
             [
              0.7777777777777778,
              "#fb9f3a"
             ],
             [
              0.8888888888888888,
              "#fdca26"
             ],
             [
              1,
              "#f0f921"
             ]
            ],
            "type": "heatmapgl"
           }
          ],
          "histogram": [
           {
            "marker": {
             "pattern": {
              "fillmode": "overlay",
              "size": 10,
              "solidity": 0.2
             }
            },
            "type": "histogram"
           }
          ],
          "histogram2d": [
           {
            "colorbar": {
             "outlinewidth": 0,
             "ticks": ""
            },
            "colorscale": [
             [
              0,
              "#0d0887"
             ],
             [
              0.1111111111111111,
              "#46039f"
             ],
             [
              0.2222222222222222,
              "#7201a8"
             ],
             [
              0.3333333333333333,
              "#9c179e"
             ],
             [
              0.4444444444444444,
              "#bd3786"
             ],
             [
              0.5555555555555556,
              "#d8576b"
             ],
             [
              0.6666666666666666,
              "#ed7953"
             ],
             [
              0.7777777777777778,
              "#fb9f3a"
             ],
             [
              0.8888888888888888,
              "#fdca26"
             ],
             [
              1,
              "#f0f921"
             ]
            ],
            "type": "histogram2d"
           }
          ],
          "histogram2dcontour": [
           {
            "colorbar": {
             "outlinewidth": 0,
             "ticks": ""
            },
            "colorscale": [
             [
              0,
              "#0d0887"
             ],
             [
              0.1111111111111111,
              "#46039f"
             ],
             [
              0.2222222222222222,
              "#7201a8"
             ],
             [
              0.3333333333333333,
              "#9c179e"
             ],
             [
              0.4444444444444444,
              "#bd3786"
             ],
             [
              0.5555555555555556,
              "#d8576b"
             ],
             [
              0.6666666666666666,
              "#ed7953"
             ],
             [
              0.7777777777777778,
              "#fb9f3a"
             ],
             [
              0.8888888888888888,
              "#fdca26"
             ],
             [
              1,
              "#f0f921"
             ]
            ],
            "type": "histogram2dcontour"
           }
          ],
          "mesh3d": [
           {
            "colorbar": {
             "outlinewidth": 0,
             "ticks": ""
            },
            "type": "mesh3d"
           }
          ],
          "parcoords": [
           {
            "line": {
             "colorbar": {
              "outlinewidth": 0,
              "ticks": ""
             }
            },
            "type": "parcoords"
           }
          ],
          "pie": [
           {
            "automargin": true,
            "type": "pie"
           }
          ],
          "scatter": [
           {
            "marker": {
             "line": {
              "color": "#283442"
             }
            },
            "type": "scatter"
           }
          ],
          "scatter3d": [
           {
            "line": {
             "colorbar": {
              "outlinewidth": 0,
              "ticks": ""
             }
            },
            "marker": {
             "colorbar": {
              "outlinewidth": 0,
              "ticks": ""
             }
            },
            "type": "scatter3d"
           }
          ],
          "scattercarpet": [
           {
            "marker": {
             "colorbar": {
              "outlinewidth": 0,
              "ticks": ""
             }
            },
            "type": "scattercarpet"
           }
          ],
          "scattergeo": [
           {
            "marker": {
             "colorbar": {
              "outlinewidth": 0,
              "ticks": ""
             }
            },
            "type": "scattergeo"
           }
          ],
          "scattergl": [
           {
            "marker": {
             "line": {
              "color": "#283442"
             }
            },
            "type": "scattergl"
           }
          ],
          "scattermapbox": [
           {
            "marker": {
             "colorbar": {
              "outlinewidth": 0,
              "ticks": ""
             }
            },
            "type": "scattermapbox"
           }
          ],
          "scatterpolar": [
           {
            "marker": {
             "colorbar": {
              "outlinewidth": 0,
              "ticks": ""
             }
            },
            "type": "scatterpolar"
           }
          ],
          "scatterpolargl": [
           {
            "marker": {
             "colorbar": {
              "outlinewidth": 0,
              "ticks": ""
             }
            },
            "type": "scatterpolargl"
           }
          ],
          "scatterternary": [
           {
            "marker": {
             "colorbar": {
              "outlinewidth": 0,
              "ticks": ""
             }
            },
            "type": "scatterternary"
           }
          ],
          "surface": [
           {
            "colorbar": {
             "outlinewidth": 0,
             "ticks": ""
            },
            "colorscale": [
             [
              0,
              "#0d0887"
             ],
             [
              0.1111111111111111,
              "#46039f"
             ],
             [
              0.2222222222222222,
              "#7201a8"
             ],
             [
              0.3333333333333333,
              "#9c179e"
             ],
             [
              0.4444444444444444,
              "#bd3786"
             ],
             [
              0.5555555555555556,
              "#d8576b"
             ],
             [
              0.6666666666666666,
              "#ed7953"
             ],
             [
              0.7777777777777778,
              "#fb9f3a"
             ],
             [
              0.8888888888888888,
              "#fdca26"
             ],
             [
              1,
              "#f0f921"
             ]
            ],
            "type": "surface"
           }
          ],
          "table": [
           {
            "cells": {
             "fill": {
              "color": "#506784"
             },
             "line": {
              "color": "rgb(17,17,17)"
             }
            },
            "header": {
             "fill": {
              "color": "#2a3f5f"
             },
             "line": {
              "color": "rgb(17,17,17)"
             }
            },
            "type": "table"
           }
          ]
         },
         "layout": {
          "annotationdefaults": {
           "arrowcolor": "#f2f5fa",
           "arrowhead": 0,
           "arrowwidth": 1
          },
          "autotypenumbers": "strict",
          "coloraxis": {
           "colorbar": {
            "outlinewidth": 0,
            "ticks": ""
           }
          },
          "colorscale": {
           "diverging": [
            [
             0,
             "#8e0152"
            ],
            [
             0.1,
             "#c51b7d"
            ],
            [
             0.2,
             "#de77ae"
            ],
            [
             0.3,
             "#f1b6da"
            ],
            [
             0.4,
             "#fde0ef"
            ],
            [
             0.5,
             "#f7f7f7"
            ],
            [
             0.6,
             "#e6f5d0"
            ],
            [
             0.7,
             "#b8e186"
            ],
            [
             0.8,
             "#7fbc41"
            ],
            [
             0.9,
             "#4d9221"
            ],
            [
             1,
             "#276419"
            ]
           ],
           "sequential": [
            [
             0,
             "#0d0887"
            ],
            [
             0.1111111111111111,
             "#46039f"
            ],
            [
             0.2222222222222222,
             "#7201a8"
            ],
            [
             0.3333333333333333,
             "#9c179e"
            ],
            [
             0.4444444444444444,
             "#bd3786"
            ],
            [
             0.5555555555555556,
             "#d8576b"
            ],
            [
             0.6666666666666666,
             "#ed7953"
            ],
            [
             0.7777777777777778,
             "#fb9f3a"
            ],
            [
             0.8888888888888888,
             "#fdca26"
            ],
            [
             1,
             "#f0f921"
            ]
           ],
           "sequentialminus": [
            [
             0,
             "#0d0887"
            ],
            [
             0.1111111111111111,
             "#46039f"
            ],
            [
             0.2222222222222222,
             "#7201a8"
            ],
            [
             0.3333333333333333,
             "#9c179e"
            ],
            [
             0.4444444444444444,
             "#bd3786"
            ],
            [
             0.5555555555555556,
             "#d8576b"
            ],
            [
             0.6666666666666666,
             "#ed7953"
            ],
            [
             0.7777777777777778,
             "#fb9f3a"
            ],
            [
             0.8888888888888888,
             "#fdca26"
            ],
            [
             1,
             "#f0f921"
            ]
           ]
          },
          "colorway": [
           "#636efa",
           "#EF553B",
           "#00cc96",
           "#ab63fa",
           "#FFA15A",
           "#19d3f3",
           "#FF6692",
           "#B6E880",
           "#FF97FF",
           "#FECB52"
          ],
          "font": {
           "color": "#f2f5fa"
          },
          "geo": {
           "bgcolor": "rgb(17,17,17)",
           "lakecolor": "rgb(17,17,17)",
           "landcolor": "rgb(17,17,17)",
           "showlakes": true,
           "showland": true,
           "subunitcolor": "#506784"
          },
          "hoverlabel": {
           "align": "left"
          },
          "hovermode": "closest",
          "mapbox": {
           "style": "dark"
          },
          "paper_bgcolor": "rgb(17,17,17)",
          "plot_bgcolor": "rgb(17,17,17)",
          "polar": {
           "angularaxis": {
            "gridcolor": "#506784",
            "linecolor": "#506784",
            "ticks": ""
           },
           "bgcolor": "rgb(17,17,17)",
           "radialaxis": {
            "gridcolor": "#506784",
            "linecolor": "#506784",
            "ticks": ""
           }
          },
          "scene": {
           "xaxis": {
            "backgroundcolor": "rgb(17,17,17)",
            "gridcolor": "#506784",
            "gridwidth": 2,
            "linecolor": "#506784",
            "showbackground": true,
            "ticks": "",
            "zerolinecolor": "#C8D4E3"
           },
           "yaxis": {
            "backgroundcolor": "rgb(17,17,17)",
            "gridcolor": "#506784",
            "gridwidth": 2,
            "linecolor": "#506784",
            "showbackground": true,
            "ticks": "",
            "zerolinecolor": "#C8D4E3"
           },
           "zaxis": {
            "backgroundcolor": "rgb(17,17,17)",
            "gridcolor": "#506784",
            "gridwidth": 2,
            "linecolor": "#506784",
            "showbackground": true,
            "ticks": "",
            "zerolinecolor": "#C8D4E3"
           }
          },
          "shapedefaults": {
           "line": {
            "color": "#f2f5fa"
           }
          },
          "sliderdefaults": {
           "bgcolor": "#C8D4E3",
           "bordercolor": "rgb(17,17,17)",
           "borderwidth": 1,
           "tickwidth": 0
          },
          "ternary": {
           "aaxis": {
            "gridcolor": "#506784",
            "linecolor": "#506784",
            "ticks": ""
           },
           "baxis": {
            "gridcolor": "#506784",
            "linecolor": "#506784",
            "ticks": ""
           },
           "bgcolor": "rgb(17,17,17)",
           "caxis": {
            "gridcolor": "#506784",
            "linecolor": "#506784",
            "ticks": ""
           }
          },
          "title": {
           "x": 0.05
          },
          "updatemenudefaults": {
           "bgcolor": "#506784",
           "borderwidth": 0
          },
          "xaxis": {
           "automargin": true,
           "gridcolor": "#283442",
           "linecolor": "#506784",
           "ticks": "",
           "title": {
            "standoff": 15
           },
           "zerolinecolor": "#283442",
           "zerolinewidth": 2
          },
          "yaxis": {
           "automargin": true,
           "gridcolor": "#283442",
           "linecolor": "#506784",
           "ticks": "",
           "title": {
            "standoff": 15
           },
           "zerolinecolor": "#283442",
           "zerolinewidth": 2
          }
         }
        },
        "title": {
         "text": "Comparative Bar Plot of Sandwich Counts"
        },
        "xaxis": {
         "autorange": true,
         "range": [
          -0.5,
          5.5
         ],
         "showticklabels": false,
         "tickangle": -45,
         "title": {
          "text": "Sandwicher Address"
         },
         "type": "category"
        },
        "yaxis": {
         "autorange": true,
         "range": [
          0,
          35686.31578947369
         ],
         "title": {
          "text": "Count"
         },
         "type": "linear"
        }
       }
      },
      "image/png": "[encoded data removed]",
      "text/html": [
       "<div>                            <div id=\"91150517-445d-4349-9618-1dc1c805e769\" class=\"plotly-graph-div\" style=\"height:525px; width:100%;\"></div>            <script type=\"text/javascript\">                require([\"plotly\"], function(Plotly) {                    window.PLOTLYENV=window.PLOTLYENV || {};                                    if (document.getElementById(\"91150517-445d-4349-9618-1dc1c805e769\")) {                    Plotly.newPlot(                        \"91150517-445d-4349-9618-1dc1c805e769\",                        [{\"marker\":{\"color\":\"blue\"},\"name\":\"Sandwich Count\",\"x\":[\"0x6b75d8af000000e20b7a7ddf000ba900b4009a80\",\"0x00000000a991c429ee2ec6df19d40fe0c80088b8\",\"0x000000d40b595b94918a28b27d1e2c66f43a51d3\",\"0x0096913d68a000311266250f0000000000e04c00\",\"0x0000001d0000f38cc10d0028474a9c180058b091\",\"our address: 0xf50024f746d94f144a79003d00000000e380a500\"],\"y\":[33902,3408,2957,1621,1243,\"76\"],\"type\":\"bar\"},{\"marker\":{\"color\":\"orange\"},\"name\":\"Sandwich Count WETH\",\"x\":[\"0x6b75d8af000000e20b7a7ddf000ba900b4009a80\",\"0x00000000a991c429ee2ec6df19d40fe0c80088b8\",\"0x000000d40b595b94918a28b27d1e2c66f43a51d3\",\"0x0096913d68a000311266250f0000000000e04c00\",\"0x0000001d0000f38cc10d0028474a9c180058b091\",\"our address: 0xf50024f746d94f144a79003d00000000e380a500\"],\"y\":[18895.0,3104.0,666.0,1497.0,1211.0,\"76\"],\"type\":\"bar\"}],                        {\"template\":{\"data\":{\"barpolar\":[{\"marker\":{\"line\":{\"color\":\"rgb(17,17,17)\",\"width\":0.5},\"pattern\":{\"fillmode\":\"overlay\",\"size\":10,\"solidity\":0.2}},\"type\":\"barpolar\"}],\"bar\":[{\"error_x\":{\"color\":\"#f2f5fa\"},\"error_y\":{\"color\":\"#f2f5fa\"},\"marker\":{\"line\":{\"color\":\"rgb(17,17,17)\",\"width\":0.5},\"pattern\":{\"fillmode\":\"overlay\",\"size\":10,\"solidity\":0.2}},\"type\":\"bar\"}],\"carpet\":[{\"aaxis\":{\"endlinecolor\":\"#A2B1C6\",\"gridcolor\":\"#506784\",\"linecolor\":\"#506784\",\"minorgridcolor\":\"#506784\",\"startlinecolor\":\"#A2B1C6\"},\"baxis\":{\"endlinecolor\":\"#A2B1C6\",\"gridcolor\":\"#506784\",\"linecolor\":\"#506784\",\"minorgridcolor\":\"#506784\",\"startlinecolor\":\"#A2B1C6\"},\"type\":\"carpet\"}],\"choropleth\":[{\"colorbar\":{\"outlinewidth\":0,\"ticks\":\"\"},\"type\":\"choropleth\"}],\"contourcarpet\":[{\"colorbar\":{\"outlinewidth\":0,\"ticks\":\"\"},\"type\":\"contourcarpet\"}],\"contour\":[{\"colorbar\":{\"outlinewidth\":0,\"ticks\":\"\"},\"colorscale\":[[0.0,\"#0d0887\"],[0.1111111111111111,\"#46039f\"],[0.2222222222222222,\"#7201a8\"],[0.3333333333333333,\"#9c179e\"],[0.4444444444444444,\"#bd3786\"],[0.5555555555555556,\"#d8576b\"],[0.6666666666666666,\"#ed7953\"],[0.7777777777777778,\"#fb9f3a\"],[0.8888888888888888,\"#fdca26\"],[1.0,\"#f0f921\"]],\"type\":\"contour\"}],\"heatmapgl\":[{\"colorbar\":{\"outlinewidth\":0,\"ticks\":\"\"},\"colorscale\":[[0.0,\"#0d0887\"],[0.1111111111111111,\"#46039f\"],[0.2222222222222222,\"#7201a8\"],[0.3333333333333333,\"#9c179e\"],[0.4444444444444444,\"#bd3786\"],[0.5555555555555556,\"#d8576b\"],[0.6666666666666666,\"#ed7953\"],[0.7777777777777778,\"#fb9f3a\"],[0.8888888888888888,\"#fdca26\"],[1.0,\"#f0f921\"]],\"type\":\"heatmapgl\"}],\"heatmap\":[{\"colorbar\":{\"outlinewidth\":0,\"ticks\":\"\"},\"colorscale\":[[0.0,\"#0d0887\"],[0.1111111111111111,\"#46039f\"],[0.2222222222222222,\"#7201a8\"],[0.3333333333333333,\"#9c179e\"],[0.4444444444444444,\"#bd3786\"],[0.5555555555555556,\"#d8576b\"],[0.6666666666666666,\"#ed7953\"],[0.7777777777777778,\"#fb9f3a\"],[0.8888888888888888,\"#fdca26\"],[1.0,\"#f0f921\"]],\"type\":\"heatmap\"}],\"histogram2dcontour\":[{\"colorbar\":{\"outlinewidth\":0,\"ticks\":\"\"},\"colorscale\":[[0.0,\"#0d0887\"],[0.1111111111111111,\"#46039f\"],[0.2222222222222222,\"#7201a8\"],[0.3333333333333333,\"#9c179e\"],[0.4444444444444444,\"#bd3786\"],[0.5555555555555556,\"#d8576b\"],[0.6666666666666666,\"#ed7953\"],[0.7777777777777778,\"#fb9f3a\"],[0.8888888888888888,\"#fdca26\"],[1.0,\"#f0f921\"]],\"type\":\"histogram2dcontour\"}],\"histogram2d\":[{\"colorbar\":{\"outlinewidth\":0,\"ticks\":\"\"},\"colorscale\":[[0.0,\"#0d0887\"],[0.1111111111111111,\"#46039f\"],[0.2222222222222222,\"#7201a8\"],[0.3333333333333333,\"#9c179e\"],[0.4444444444444444,\"#bd3786\"],[0.5555555555555556,\"#d8576b\"],[0.6666666666666666,\"#ed7953\"],[0.7777777777777778,\"#fb9f3a\"],[0.8888888888888888,\"#fdca26\"],[1.0,\"#f0f921\"]],\"type\":\"histogram2d\"}],\"histogram\":[{\"marker\":{\"pattern\":{\"fillmode\":\"overlay\",\"size\":10,\"solidity\":0.2}},\"type\":\"histogram\"}],\"mesh3d\":[{\"colorbar\":{\"outlinewidth\":0,\"ticks\":\"\"},\"type\":\"mesh3d\"}],\"parcoords\":[{\"line\":{\"colorbar\":{\"outlinewidth\":0,\"ticks\":\"\"}},\"type\":\"parcoords\"}],\"pie\":[{\"automargin\":true,\"type\":\"pie\"}],\"scatter3d\":[{\"line\":{\"colorbar\":{\"outlinewidth\":0,\"ticks\":\"\"}},\"marker\":{\"colorbar\":{\"outlinewidth\":0,\"ticks\":\"\"}},\"type\":\"scatter3d\"}],\"scattercarpet\":[{\"marker\":{\"colorbar\":{\"outlinewidth\":0,\"ticks\":\"\"}},\"type\":\"scattercarpet\"}],\"scattergeo\":[{\"marker\":{\"colorbar\":{\"outlinewidth\":0,\"ticks\":\"\"}},\"type\":\"scattergeo\"}],\"scattergl\":[{\"marker\":{\"line\":{\"color\":\"#283442\"}},\"type\":\"scattergl\"}],\"scattermapbox\":[{\"marker\":{\"colorbar\":{\"outlinewidth\":0,\"ticks\":\"\"}},\"type\":\"scattermapbox\"}],\"scatterpolargl\":[{\"marker\":{\"colorbar\":{\"outlinewidth\":0,\"ticks\":\"\"}},\"type\":\"scatterpolargl\"}],\"scatterpolar\":[{\"marker\":{\"colorbar\":{\"outlinewidth\":0,\"ticks\":\"\"}},\"type\":\"scatterpolar\"}],\"scatter\":[{\"marker\":{\"line\":{\"color\":\"#283442\"}},\"type\":\"scatter\"}],\"scatterternary\":[{\"marker\":{\"colorbar\":{\"outlinewidth\":0,\"ticks\":\"\"}},\"type\":\"scatterternary\"}],\"surface\":[{\"colorbar\":{\"outlinewidth\":0,\"ticks\":\"\"},\"colorscale\":[[0.0,\"#0d0887\"],[0.1111111111111111,\"#46039f\"],[0.2222222222222222,\"#7201a8\"],[0.3333333333333333,\"#9c179e\"],[0.4444444444444444,\"#bd3786\"],[0.5555555555555556,\"#d8576b\"],[0.6666666666666666,\"#ed7953\"],[0.7777777777777778,\"#fb9f3a\"],[0.8888888888888888,\"#fdca26\"],[1.0,\"#f0f921\"]],\"type\":\"surface\"}],\"table\":[{\"cells\":{\"fill\":{\"color\":\"#506784\"},\"line\":{\"color\":\"rgb(17,17,17)\"}},\"header\":{\"fill\":{\"color\":\"#2a3f5f\"},\"line\":{\"color\":\"rgb(17,17,17)\"}},\"type\":\"table\"}]},\"layout\":{\"annotationdefaults\":{\"arrowcolor\":\"#f2f5fa\",\"arrowhead\":0,\"arrowwidth\":1},\"autotypenumbers\":\"strict\",\"coloraxis\":{\"colorbar\":{\"outlinewidth\":0,\"ticks\":\"\"}},\"colorscale\":{\"diverging\":[[0,\"#8e0152\"],[0.1,\"#c51b7d\"],[0.2,\"#de77ae\"],[0.3,\"#f1b6da\"],[0.4,\"#fde0ef\"],[0.5,\"#f7f7f7\"],[0.6,\"#e6f5d0\"],[0.7,\"#b8e186\"],[0.8,\"#7fbc41\"],[0.9,\"#4d9221\"],[1,\"#276419\"]],\"sequential\":[[0.0,\"#0d0887\"],[0.1111111111111111,\"#46039f\"],[0.2222222222222222,\"#7201a8\"],[0.3333333333333333,\"#9c179e\"],[0.4444444444444444,\"#bd3786\"],[0.5555555555555556,\"#d8576b\"],[0.6666666666666666,\"#ed7953\"],[0.7777777777777778,\"#fb9f3a\"],[0.8888888888888888,\"#fdca26\"],[1.0,\"#f0f921\"]],\"sequentialminus\":[[0.0,\"#0d0887\"],[0.1111111111111111,\"#46039f\"],[0.2222222222222222,\"#7201a8\"],[0.3333333333333333,\"#9c179e\"],[0.4444444444444444,\"#bd3786\"],[0.5555555555555556,\"#d8576b\"],[0.6666666666666666,\"#ed7953\"],[0.7777777777777778,\"#fb9f3a\"],[0.8888888888888888,\"#fdca26\"],[1.0,\"#f0f921\"]]},\"colorway\":[\"#636efa\",\"#EF553B\",\"#00cc96\",\"#ab63fa\",\"#FFA15A\",\"#19d3f3\",\"#FF6692\",\"#B6E880\",\"#FF97FF\",\"#FECB52\"],\"font\":{\"color\":\"#f2f5fa\"},\"geo\":{\"bgcolor\":\"rgb(17,17,17)\",\"lakecolor\":\"rgb(17,17,17)\",\"landcolor\":\"rgb(17,17,17)\",\"showlakes\":true,\"showland\":true,\"subunitcolor\":\"#506784\"},\"hoverlabel\":{\"align\":\"left\"},\"hovermode\":\"closest\",\"mapbox\":{\"style\":\"dark\"},\"paper_bgcolor\":\"rgb(17,17,17)\",\"plot_bgcolor\":\"rgb(17,17,17)\",\"polar\":{\"angularaxis\":{\"gridcolor\":\"#506784\",\"linecolor\":\"#506784\",\"ticks\":\"\"},\"bgcolor\":\"rgb(17,17,17)\",\"radialaxis\":{\"gridcolor\":\"#506784\",\"linecolor\":\"#506784\",\"ticks\":\"\"}},\"scene\":{\"xaxis\":{\"backgroundcolor\":\"rgb(17,17,17)\",\"gridcolor\":\"#506784\",\"gridwidth\":2,\"linecolor\":\"#506784\",\"showbackground\":true,\"ticks\":\"\",\"zerolinecolor\":\"#C8D4E3\"},\"yaxis\":{\"backgroundcolor\":\"rgb(17,17,17)\",\"gridcolor\":\"#506784\",\"gridwidth\":2,\"linecolor\":\"#506784\",\"showbackground\":true,\"ticks\":\"\",\"zerolinecolor\":\"#C8D4E3\"},\"zaxis\":{\"backgroundcolor\":\"rgb(17,17,17)\",\"gridcolor\":\"#506784\",\"gridwidth\":2,\"linecolor\":\"#506784\",\"showbackground\":true,\"ticks\":\"\",\"zerolinecolor\":\"#C8D4E3\"}},\"shapedefaults\":{\"line\":{\"color\":\"#f2f5fa\"}},\"sliderdefaults\":{\"bgcolor\":\"#C8D4E3\",\"bordercolor\":\"rgb(17,17,17)\",\"borderwidth\":1,\"tickwidth\":0},\"ternary\":{\"aaxis\":{\"gridcolor\":\"#506784\",\"linecolor\":\"#506784\",\"ticks\":\"\"},\"baxis\":{\"gridcolor\":\"#506784\",\"linecolor\":\"#506784\",\"ticks\":\"\"},\"bgcolor\":\"rgb(17,17,17)\",\"caxis\":{\"gridcolor\":\"#506784\",\"linecolor\":\"#506784\",\"ticks\":\"\"}},\"title\":{\"x\":0.05},\"updatemenudefaults\":{\"bgcolor\":\"#506784\",\"borderwidth\":0},\"xaxis\":{\"automargin\":true,\"gridcolor\":\"#283442\",\"linecolor\":\"#506784\",\"ticks\":\"\",\"title\":{\"standoff\":15},\"zerolinecolor\":\"#283442\",\"zerolinewidth\":2},\"yaxis\":{\"automargin\":true,\"gridcolor\":\"#283442\",\"linecolor\":\"#506784\",\"ticks\":\"\",\"title\":{\"standoff\":15},\"zerolinecolor\":\"#283442\",\"zerolinewidth\":2}}},\"xaxis\":{\"title\":{\"text\":\"Sandwicher Address\"},\"tickangle\":-45,\"showticklabels\":false},\"barmode\":\"group\",\"title\":{\"text\":\"Comparative Bar Plot of Sandwich Counts\"},\"yaxis\":{\"title\":{\"text\":\"Count\"}},\"legend\":{\"title\":{\"text\":\"Counts\"}}},                        {\"responsive\": true}                    ).then(function(){\n",
       "                            \n",
       "var gd = document.getElementById('91150517-445d-4349-9618-1dc1c805e769');\n",
       "var x = new MutationObserver(function (mutations, observer) {{\n",
       "        var display = window.getComputedStyle(gd).display;\n",
       "        if (!display || display === 'none') {{\n",
       "            console.log([gd, 'removed!']);\n",
       "            Plotly.purge(gd);\n",
       "            observer.disconnect();\n",
       "        }}\n",
       "}});\n",
       "\n",
       "// Listen for the removal of the full notebook cells\n",
       "var notebookContainer = gd.closest('#notebook-container');\n",
       "if (notebookContainer) {{\n",
       "    x.observe(notebookContainer, {childList: true});\n",
       "}}\n",
       "\n",
       "// Listen for the clearing of the current output cell\n",
       "var outputEl = gd.closest('.output');\n",
       "if (outputEl) {{\n",
       "    x.observe(outputEl, {childList: true});\n",
       "}}\n",
       "\n",
       "                        })                };                });            </script>        </div>"
      ]
     },
     "metadata": {},
     "output_type": "display_data"
    }
   ],
   "source": [
    "fig = go.Figure()\n",
    "\n",
    "fig.add_trace(go.Bar(\n",
    "    x=sandwichers_all_top_5_and_we['sandwicher_address'],\n",
    "    y=sandwichers_all_top_5_and_we['sandwich_count'],\n",
    "    name='Sandwich Count',\n",
    "    marker_color='blue'\n",
    "))\n",
    "\n",
    "fig.add_trace(go.Bar(\n",
    "    x=sandwichers_all_top_5_and_we['sandwicher_address'],\n",
    "    y=sandwichers_all_top_5_and_we['sandwich_count_weth'],\n",
    "    name='Sandwich Count WETH',\n",
    "    marker_color='orange'\n",
    "))\n",
    "\n",
    "# Customize the layout\n",
    "fig.update_layout(\n",
    "    barmode='group',\n",
    "    title='Comparative Bar Plot of Sandwich Counts',\n",
    "    xaxis_title='Sandwicher Address',\n",
    "    yaxis_title='Count',\n",
    "    xaxis_tickangle=-45,\n",
    "    xaxis=dict(showticklabels=False),  # Hide x-axis labels\n",
    "    template='plotly_dark',\n",
    "    legend_title='Counts'\n",
    ")\n",
    "\n",
    "# Show the figure\n",
    "fig.show()"
   ]
  },
  {
   "cell_type": "markdown",
   "id": "e77bc08a-f8de-421e-b965-1d0ebc65c250",
   "metadata": {},
   "source": [
    "### 4. Кількість cендвічів за profit token "
   ]
  },
  {
   "cell_type": "markdown",
   "id": "2de6da8c-85df-4b99-af9e-a66f514b454d",
   "metadata": {
    "jp-MarkdownHeadingCollapsed": true
   },
   "source": [
    "#### code"
   ]
  },
  {
   "cell_type": "code",
   "execution_count": 514,
   "id": "444d9669-66f2-4818-a62f-22d12f2f9165",
   "metadata": {},
   "outputs": [],
   "source": [
    "sandwichers_all_by_token = pd.read_csv('_Кількість_сендвічів по токену.csv')\n",
    "\n",
    "sandwichers_all_by_token_other = add_other(sandwichers_all_by_token, 'address', 'sandwich_count', 500)\n",
    "\n",
    "sandwichers_all_by_token_grouped = group_table(sandwichers_all_by_token_other, 'address', 'sandwich_count')\n",
    "\n",
    "sandwichers_all_by_token_merged = merger_func(sandwichers_all_by_token_grouped, \n",
    "                                              token_names, \n",
    "                                              'address', 'left')\n",
    "\n",
    "sandwichers_all_by_token_sorted = sandwichers_all_by_token_merged.sort_values(by = 'sandwich_count', ascending = False).reset_index(drop = True)\n",
    "\n",
    "sandwichers_all_by_token_cleaned = sandwichers_all_by_token_sorted[sandwichers_all_by_token_sorted['address'] != 'Other'].reset_index(drop = True)"
   ]
  },
  {
   "cell_type": "markdown",
   "id": "08fe1058-eb8c-4178-b9f7-c95de8e5afe8",
   "metadata": {},
   "source": [
    "#### plot and table"
   ]
  },
  {
   "cell_type": "code",
   "execution_count": 520,
   "id": "315fbdc9-57e4-453e-b9a3-a35720d1a033",
   "metadata": {},
   "outputs": [
    {
     "data": {
      "text/html": [
       "<div>\n",
       "<style scoped>\n",
       "    .dataframe tbody tr th:only-of-type {\n",
       "        vertical-align: middle;\n",
       "    }\n",
       "\n",
       "    .dataframe tbody tr th {\n",
       "        vertical-align: top;\n",
       "    }\n",
       "\n",
       "    .dataframe thead th {\n",
       "        text-align: right;\n",
       "    }\n",
       "</style>\n",
       "<table border=\"1\" class=\"dataframe\">\n",
       "  <thead>\n",
       "    <tr style=\"text-align: right;\">\n",
       "      <th></th>\n",
       "      <th>address</th>\n",
       "      <th>sandwich_count</th>\n",
       "      <th>name</th>\n",
       "    </tr>\n",
       "  </thead>\n",
       "  <tbody>\n",
       "    <tr>\n",
       "      <th>0</th>\n",
       "      <td>0xc02aaa39b223fe8d0a0e5c4f27ead9083c756cc2</td>\n",
       "      <td>46836</td>\n",
       "      <td>WETH</td>\n",
       "    </tr>\n",
       "    <tr>\n",
       "      <th>1</th>\n",
       "      <td>Other</td>\n",
       "      <td>23134</td>\n",
       "      <td>0</td>\n",
       "    </tr>\n",
       "    <tr>\n",
       "      <th>2</th>\n",
       "      <td>0xd1f3d2f5c12a205fc912358878b089eae48a557f</td>\n",
       "      <td>1217</td>\n",
       "      <td>SNOW</td>\n",
       "    </tr>\n",
       "    <tr>\n",
       "      <th>3</th>\n",
       "      <td>0xf8ebf4849f1fa4faf0dff2106a173d3a6cb2eb3a</td>\n",
       "      <td>841</td>\n",
       "      <td>TROLL</td>\n",
       "    </tr>\n",
       "    <tr>\n",
       "      <th>4</th>\n",
       "      <td>0xdac17f958d2ee523a2206206994597c13d831ec7</td>\n",
       "      <td>770</td>\n",
       "      <td>USDT</td>\n",
       "    </tr>\n",
       "    <tr>\n",
       "      <th>5</th>\n",
       "      <td>0xf2fdd9c25d7bc8002ce89716d1be484b2d976944</td>\n",
       "      <td>765</td>\n",
       "      <td>&amp;#120143; Payments</td>\n",
       "    </tr>\n",
       "    <tr>\n",
       "      <th>6</th>\n",
       "      <td>0x4b1e80cac91e2216eeb63e29b957eb91ae9c2be8</td>\n",
       "      <td>745</td>\n",
       "      <td>NaN</td>\n",
       "    </tr>\n",
       "    <tr>\n",
       "      <th>7</th>\n",
       "      <td>0xec21890967a8ceb3e55a3f79dac4e90673ba3c2e</td>\n",
       "      <td>646</td>\n",
       "      <td>NaN</td>\n",
       "    </tr>\n",
       "    <tr>\n",
       "      <th>8</th>\n",
       "      <td>0xa0b86991c6218b36c1d19d4a2e9eb0ce3606eb48</td>\n",
       "      <td>640</td>\n",
       "      <td>USDC</td>\n",
       "    </tr>\n",
       "    <tr>\n",
       "      <th>9</th>\n",
       "      <td>0x3e362038fd3d08887d498944d489af7909619a9b</td>\n",
       "      <td>591</td>\n",
       "      <td>CHOW CHOW (CHOW)</td>\n",
       "    </tr>\n",
       "    <tr>\n",
       "      <th>10</th>\n",
       "      <td>0xbe77212a6c7f55567470c2c95aff7b0b0e0c3ef5</td>\n",
       "      <td>585</td>\n",
       "      <td>NaN</td>\n",
       "    </tr>\n",
       "    <tr>\n",
       "      <th>11</th>\n",
       "      <td>0x77be1ba1cd2d7a63bffc772d361168cc327dd8bc</td>\n",
       "      <td>529</td>\n",
       "      <td>NaN</td>\n",
       "    </tr>\n",
       "  </tbody>\n",
       "</table>\n",
       "</div>"
      ],
      "text/plain": [
       "                                       address  sandwich_count  \\\n",
       "0   0xc02aaa39b223fe8d0a0e5c4f27ead9083c756cc2           46836   \n",
       "1                                        Other           23134   \n",
       "2   0xd1f3d2f5c12a205fc912358878b089eae48a557f            1217   \n",
       "3   0xf8ebf4849f1fa4faf0dff2106a173d3a6cb2eb3a             841   \n",
       "4   0xdac17f958d2ee523a2206206994597c13d831ec7             770   \n",
       "5   0xf2fdd9c25d7bc8002ce89716d1be484b2d976944             765   \n",
       "6   0x4b1e80cac91e2216eeb63e29b957eb91ae9c2be8             745   \n",
       "7   0xec21890967a8ceb3e55a3f79dac4e90673ba3c2e             646   \n",
       "8   0xa0b86991c6218b36c1d19d4a2e9eb0ce3606eb48             640   \n",
       "9   0x3e362038fd3d08887d498944d489af7909619a9b             591   \n",
       "10  0xbe77212a6c7f55567470c2c95aff7b0b0e0c3ef5             585   \n",
       "11  0x77be1ba1cd2d7a63bffc772d361168cc327dd8bc             529   \n",
       "\n",
       "                   name  \n",
       "0                  WETH  \n",
       "1                     0  \n",
       "2                  SNOW  \n",
       "3                 TROLL  \n",
       "4                  USDT  \n",
       "5   &#120143; Payments   \n",
       "6                   NaN  \n",
       "7                   NaN  \n",
       "8                  USDC  \n",
       "9      CHOW CHOW (CHOW)  \n",
       "10                  NaN  \n",
       "11                  NaN  "
      ]
     },
     "execution_count": 520,
     "metadata": {},
     "output_type": "execute_result"
    }
   ],
   "source": [
    "sandwichers_all_by_token_sorted"
   ]
  },
  {
   "cell_type": "code",
   "execution_count": 518,
   "id": "2ffe818e-1f9a-468f-aad2-8af448d13b20",
   "metadata": {},
   "outputs": [
    {
     "data": {
      "application/vnd.plotly.v1+json": {
       "config": {
        "plotlyServerURL": "https://plot.ly"
       },
       "data": [
        {
         "marker": {
          "color": "blue"
         },
         "type": "bar",
         "x": [
          "WETH",
          "SNOW",
          "TROLL",
          "USDT",
          "&#120143; Payments ",
          null,
          null,
          "USDC",
          "CHOW CHOW (CHOW)",
          null,
          null
         ],
         "y": [
          46836,
          1217,
          841,
          770,
          765,
          745,
          646,
          640,
          591,
          585,
          529
         ]
        }
       ],
       "layout": {
        "height": 600,
        "template": {
         "data": {
          "bar": [
           {
            "error_x": {
             "color": "#f2f5fa"
            },
            "error_y": {
             "color": "#f2f5fa"
            },
            "marker": {
             "line": {
              "color": "rgb(17,17,17)",
              "width": 0.5
             },
             "pattern": {
              "fillmode": "overlay",
              "size": 10,
              "solidity": 0.2
             }
            },
            "type": "bar"
           }
          ],
          "barpolar": [
           {
            "marker": {
             "line": {
              "color": "rgb(17,17,17)",
              "width": 0.5
             },
             "pattern": {
              "fillmode": "overlay",
              "size": 10,
              "solidity": 0.2
             }
            },
            "type": "barpolar"
           }
          ],
          "carpet": [
           {
            "aaxis": {
             "endlinecolor": "#A2B1C6",
             "gridcolor": "#506784",
             "linecolor": "#506784",
             "minorgridcolor": "#506784",
             "startlinecolor": "#A2B1C6"
            },
            "baxis": {
             "endlinecolor": "#A2B1C6",
             "gridcolor": "#506784",
             "linecolor": "#506784",
             "minorgridcolor": "#506784",
             "startlinecolor": "#A2B1C6"
            },
            "type": "carpet"
           }
          ],
          "choropleth": [
           {
            "colorbar": {
             "outlinewidth": 0,
             "ticks": ""
            },
            "type": "choropleth"
           }
          ],
          "contour": [
           {
            "colorbar": {
             "outlinewidth": 0,
             "ticks": ""
            },
            "colorscale": [
             [
              0,
              "#0d0887"
             ],
             [
              0.1111111111111111,
              "#46039f"
             ],
             [
              0.2222222222222222,
              "#7201a8"
             ],
             [
              0.3333333333333333,
              "#9c179e"
             ],
             [
              0.4444444444444444,
              "#bd3786"
             ],
             [
              0.5555555555555556,
              "#d8576b"
             ],
             [
              0.6666666666666666,
              "#ed7953"
             ],
             [
              0.7777777777777778,
              "#fb9f3a"
             ],
             [
              0.8888888888888888,
              "#fdca26"
             ],
             [
              1,
              "#f0f921"
             ]
            ],
            "type": "contour"
           }
          ],
          "contourcarpet": [
           {
            "colorbar": {
             "outlinewidth": 0,
             "ticks": ""
            },
            "type": "contourcarpet"
           }
          ],
          "heatmap": [
           {
            "colorbar": {
             "outlinewidth": 0,
             "ticks": ""
            },
            "colorscale": [
             [
              0,
              "#0d0887"
             ],
             [
              0.1111111111111111,
              "#46039f"
             ],
             [
              0.2222222222222222,
              "#7201a8"
             ],
             [
              0.3333333333333333,
              "#9c179e"
             ],
             [
              0.4444444444444444,
              "#bd3786"
             ],
             [
              0.5555555555555556,
              "#d8576b"
             ],
             [
              0.6666666666666666,
              "#ed7953"
             ],
             [
              0.7777777777777778,
              "#fb9f3a"
             ],
             [
              0.8888888888888888,
              "#fdca26"
             ],
             [
              1,
              "#f0f921"
             ]
            ],
            "type": "heatmap"
           }
          ],
          "heatmapgl": [
           {
            "colorbar": {
             "outlinewidth": 0,
             "ticks": ""
            },
            "colorscale": [
             [
              0,
              "#0d0887"
             ],
             [
              0.1111111111111111,
              "#46039f"
             ],
             [
              0.2222222222222222,
              "#7201a8"
             ],
             [
              0.3333333333333333,
              "#9c179e"
             ],
             [
              0.4444444444444444,
              "#bd3786"
             ],
             [
              0.5555555555555556,
              "#d8576b"
             ],
             [
              0.6666666666666666,
              "#ed7953"
             ],
             [
              0.7777777777777778,
              "#fb9f3a"
             ],
             [
              0.8888888888888888,
              "#fdca26"
             ],
             [
              1,
              "#f0f921"
             ]
            ],
            "type": "heatmapgl"
           }
          ],
          "histogram": [
           {
            "marker": {
             "pattern": {
              "fillmode": "overlay",
              "size": 10,
              "solidity": 0.2
             }
            },
            "type": "histogram"
           }
          ],
          "histogram2d": [
           {
            "colorbar": {
             "outlinewidth": 0,
             "ticks": ""
            },
            "colorscale": [
             [
              0,
              "#0d0887"
             ],
             [
              0.1111111111111111,
              "#46039f"
             ],
             [
              0.2222222222222222,
              "#7201a8"
             ],
             [
              0.3333333333333333,
              "#9c179e"
             ],
             [
              0.4444444444444444,
              "#bd3786"
             ],
             [
              0.5555555555555556,
              "#d8576b"
             ],
             [
              0.6666666666666666,
              "#ed7953"
             ],
             [
              0.7777777777777778,
              "#fb9f3a"
             ],
             [
              0.8888888888888888,
              "#fdca26"
             ],
             [
              1,
              "#f0f921"
             ]
            ],
            "type": "histogram2d"
           }
          ],
          "histogram2dcontour": [
           {
            "colorbar": {
             "outlinewidth": 0,
             "ticks": ""
            },
            "colorscale": [
             [
              0,
              "#0d0887"
             ],
             [
              0.1111111111111111,
              "#46039f"
             ],
             [
              0.2222222222222222,
              "#7201a8"
             ],
             [
              0.3333333333333333,
              "#9c179e"
             ],
             [
              0.4444444444444444,
              "#bd3786"
             ],
             [
              0.5555555555555556,
              "#d8576b"
             ],
             [
              0.6666666666666666,
              "#ed7953"
             ],
             [
              0.7777777777777778,
              "#fb9f3a"
             ],
             [
              0.8888888888888888,
              "#fdca26"
             ],
             [
              1,
              "#f0f921"
             ]
            ],
            "type": "histogram2dcontour"
           }
          ],
          "mesh3d": [
           {
            "colorbar": {
             "outlinewidth": 0,
             "ticks": ""
            },
            "type": "mesh3d"
           }
          ],
          "parcoords": [
           {
            "line": {
             "colorbar": {
              "outlinewidth": 0,
              "ticks": ""
             }
            },
            "type": "parcoords"
           }
          ],
          "pie": [
           {
            "automargin": true,
            "type": "pie"
           }
          ],
          "scatter": [
           {
            "marker": {
             "line": {
              "color": "#283442"
             }
            },
            "type": "scatter"
           }
          ],
          "scatter3d": [
           {
            "line": {
             "colorbar": {
              "outlinewidth": 0,
              "ticks": ""
             }
            },
            "marker": {
             "colorbar": {
              "outlinewidth": 0,
              "ticks": ""
             }
            },
            "type": "scatter3d"
           }
          ],
          "scattercarpet": [
           {
            "marker": {
             "colorbar": {
              "outlinewidth": 0,
              "ticks": ""
             }
            },
            "type": "scattercarpet"
           }
          ],
          "scattergeo": [
           {
            "marker": {
             "colorbar": {
              "outlinewidth": 0,
              "ticks": ""
             }
            },
            "type": "scattergeo"
           }
          ],
          "scattergl": [
           {
            "marker": {
             "line": {
              "color": "#283442"
             }
            },
            "type": "scattergl"
           }
          ],
          "scattermapbox": [
           {
            "marker": {
             "colorbar": {
              "outlinewidth": 0,
              "ticks": ""
             }
            },
            "type": "scattermapbox"
           }
          ],
          "scatterpolar": [
           {
            "marker": {
             "colorbar": {
              "outlinewidth": 0,
              "ticks": ""
             }
            },
            "type": "scatterpolar"
           }
          ],
          "scatterpolargl": [
           {
            "marker": {
             "colorbar": {
              "outlinewidth": 0,
              "ticks": ""
             }
            },
            "type": "scatterpolargl"
           }
          ],
          "scatterternary": [
           {
            "marker": {
             "colorbar": {
              "outlinewidth": 0,
              "ticks": ""
             }
            },
            "type": "scatterternary"
           }
          ],
          "surface": [
           {
            "colorbar": {
             "outlinewidth": 0,
             "ticks": ""
            },
            "colorscale": [
             [
              0,
              "#0d0887"
             ],
             [
              0.1111111111111111,
              "#46039f"
             ],
             [
              0.2222222222222222,
              "#7201a8"
             ],
             [
              0.3333333333333333,
              "#9c179e"
             ],
             [
              0.4444444444444444,
              "#bd3786"
             ],
             [
              0.5555555555555556,
              "#d8576b"
             ],
             [
              0.6666666666666666,
              "#ed7953"
             ],
             [
              0.7777777777777778,
              "#fb9f3a"
             ],
             [
              0.8888888888888888,
              "#fdca26"
             ],
             [
              1,
              "#f0f921"
             ]
            ],
            "type": "surface"
           }
          ],
          "table": [
           {
            "cells": {
             "fill": {
              "color": "#506784"
             },
             "line": {
              "color": "rgb(17,17,17)"
             }
            },
            "header": {
             "fill": {
              "color": "#2a3f5f"
             },
             "line": {
              "color": "rgb(17,17,17)"
             }
            },
            "type": "table"
           }
          ]
         },
         "layout": {
          "annotationdefaults": {
           "arrowcolor": "#f2f5fa",
           "arrowhead": 0,
           "arrowwidth": 1
          },
          "autotypenumbers": "strict",
          "coloraxis": {
           "colorbar": {
            "outlinewidth": 0,
            "ticks": ""
           }
          },
          "colorscale": {
           "diverging": [
            [
             0,
             "#8e0152"
            ],
            [
             0.1,
             "#c51b7d"
            ],
            [
             0.2,
             "#de77ae"
            ],
            [
             0.3,
             "#f1b6da"
            ],
            [
             0.4,
             "#fde0ef"
            ],
            [
             0.5,
             "#f7f7f7"
            ],
            [
             0.6,
             "#e6f5d0"
            ],
            [
             0.7,
             "#b8e186"
            ],
            [
             0.8,
             "#7fbc41"
            ],
            [
             0.9,
             "#4d9221"
            ],
            [
             1,
             "#276419"
            ]
           ],
           "sequential": [
            [
             0,
             "#0d0887"
            ],
            [
             0.1111111111111111,
             "#46039f"
            ],
            [
             0.2222222222222222,
             "#7201a8"
            ],
            [
             0.3333333333333333,
             "#9c179e"
            ],
            [
             0.4444444444444444,
             "#bd3786"
            ],
            [
             0.5555555555555556,
             "#d8576b"
            ],
            [
             0.6666666666666666,
             "#ed7953"
            ],
            [
             0.7777777777777778,
             "#fb9f3a"
            ],
            [
             0.8888888888888888,
             "#fdca26"
            ],
            [
             1,
             "#f0f921"
            ]
           ],
           "sequentialminus": [
            [
             0,
             "#0d0887"
            ],
            [
             0.1111111111111111,
             "#46039f"
            ],
            [
             0.2222222222222222,
             "#7201a8"
            ],
            [
             0.3333333333333333,
             "#9c179e"
            ],
            [
             0.4444444444444444,
             "#bd3786"
            ],
            [
             0.5555555555555556,
             "#d8576b"
            ],
            [
             0.6666666666666666,
             "#ed7953"
            ],
            [
             0.7777777777777778,
             "#fb9f3a"
            ],
            [
             0.8888888888888888,
             "#fdca26"
            ],
            [
             1,
             "#f0f921"
            ]
           ]
          },
          "colorway": [
           "#636efa",
           "#EF553B",
           "#00cc96",
           "#ab63fa",
           "#FFA15A",
           "#19d3f3",
           "#FF6692",
           "#B6E880",
           "#FF97FF",
           "#FECB52"
          ],
          "font": {
           "color": "#f2f5fa"
          },
          "geo": {
           "bgcolor": "rgb(17,17,17)",
           "lakecolor": "rgb(17,17,17)",
           "landcolor": "rgb(17,17,17)",
           "showlakes": true,
           "showland": true,
           "subunitcolor": "#506784"
          },
          "hoverlabel": {
           "align": "left"
          },
          "hovermode": "closest",
          "mapbox": {
           "style": "dark"
          },
          "paper_bgcolor": "rgb(17,17,17)",
          "plot_bgcolor": "rgb(17,17,17)",
          "polar": {
           "angularaxis": {
            "gridcolor": "#506784",
            "linecolor": "#506784",
            "ticks": ""
           },
           "bgcolor": "rgb(17,17,17)",
           "radialaxis": {
            "gridcolor": "#506784",
            "linecolor": "#506784",
            "ticks": ""
           }
          },
          "scene": {
           "xaxis": {
            "backgroundcolor": "rgb(17,17,17)",
            "gridcolor": "#506784",
            "gridwidth": 2,
            "linecolor": "#506784",
            "showbackground": true,
            "ticks": "",
            "zerolinecolor": "#C8D4E3"
           },
           "yaxis": {
            "backgroundcolor": "rgb(17,17,17)",
            "gridcolor": "#506784",
            "gridwidth": 2,
            "linecolor": "#506784",
            "showbackground": true,
            "ticks": "",
            "zerolinecolor": "#C8D4E3"
           },
           "zaxis": {
            "backgroundcolor": "rgb(17,17,17)",
            "gridcolor": "#506784",
            "gridwidth": 2,
            "linecolor": "#506784",
            "showbackground": true,
            "ticks": "",
            "zerolinecolor": "#C8D4E3"
           }
          },
          "shapedefaults": {
           "line": {
            "color": "#f2f5fa"
           }
          },
          "sliderdefaults": {
           "bgcolor": "#C8D4E3",
           "bordercolor": "rgb(17,17,17)",
           "borderwidth": 1,
           "tickwidth": 0
          },
          "ternary": {
           "aaxis": {
            "gridcolor": "#506784",
            "linecolor": "#506784",
            "ticks": ""
           },
           "baxis": {
            "gridcolor": "#506784",
            "linecolor": "#506784",
            "ticks": ""
           },
           "bgcolor": "rgb(17,17,17)",
           "caxis": {
            "gridcolor": "#506784",
            "linecolor": "#506784",
            "ticks": ""
           }
          },
          "title": {
           "x": 0.05
          },
          "updatemenudefaults": {
           "bgcolor": "#506784",
           "borderwidth": 0
          },
          "xaxis": {
           "automargin": true,
           "gridcolor": "#283442",
           "linecolor": "#506784",
           "ticks": "",
           "title": {
            "standoff": 15
           },
           "zerolinecolor": "#283442",
           "zerolinewidth": 2
          },
          "yaxis": {
           "automargin": true,
           "gridcolor": "#283442",
           "linecolor": "#506784",
           "ticks": "",
           "title": {
            "standoff": 15
           },
           "zerolinecolor": "#283442",
           "zerolinewidth": 2
          }
         }
        },
        "title": {
         "text": "Histogram of Unique Sandwiches Count by Token Name"
        },
        "width": 1000,
        "xaxis": {
         "autorange": true,
         "range": [
          -0.5,
          6.5
         ],
         "tickangle": -45,
         "title": {
          "text": "Token Name"
         },
         "type": "category"
        },
        "yaxis": {
         "autorange": true,
         "range": [
          0,
          49301.05263157895
         ],
         "title": {
          "text": "Unique Sandwich Count"
         },
         "type": "linear"
        }
       }
      },
      "image/png": "[encoded data removed]",
      "text/html": [
       "<div>                            <div id=\"382c6024-00c0-44b6-b337-cf174b5eec28\" class=\"plotly-graph-div\" style=\"height:600px; width:1000px;\"></div>            <script type=\"text/javascript\">                require([\"plotly\"], function(Plotly) {                    window.PLOTLYENV=window.PLOTLYENV || {};                                    if (document.getElementById(\"382c6024-00c0-44b6-b337-cf174b5eec28\")) {                    Plotly.newPlot(                        \"382c6024-00c0-44b6-b337-cf174b5eec28\",                        [{\"marker\":{\"color\":\"blue\"},\"x\":[\"WETH\",\"SNOW\",\"TROLL\",\"USDT\",\"&#120143; Payments \",null,null,\"USDC\",\"CHOW CHOW (CHOW)\",null,null],\"y\":[46836,1217,841,770,765,745,646,640,591,585,529],\"type\":\"bar\"}],                        {\"template\":{\"data\":{\"barpolar\":[{\"marker\":{\"line\":{\"color\":\"rgb(17,17,17)\",\"width\":0.5},\"pattern\":{\"fillmode\":\"overlay\",\"size\":10,\"solidity\":0.2}},\"type\":\"barpolar\"}],\"bar\":[{\"error_x\":{\"color\":\"#f2f5fa\"},\"error_y\":{\"color\":\"#f2f5fa\"},\"marker\":{\"line\":{\"color\":\"rgb(17,17,17)\",\"width\":0.5},\"pattern\":{\"fillmode\":\"overlay\",\"size\":10,\"solidity\":0.2}},\"type\":\"bar\"}],\"carpet\":[{\"aaxis\":{\"endlinecolor\":\"#A2B1C6\",\"gridcolor\":\"#506784\",\"linecolor\":\"#506784\",\"minorgridcolor\":\"#506784\",\"startlinecolor\":\"#A2B1C6\"},\"baxis\":{\"endlinecolor\":\"#A2B1C6\",\"gridcolor\":\"#506784\",\"linecolor\":\"#506784\",\"minorgridcolor\":\"#506784\",\"startlinecolor\":\"#A2B1C6\"},\"type\":\"carpet\"}],\"choropleth\":[{\"colorbar\":{\"outlinewidth\":0,\"ticks\":\"\"},\"type\":\"choropleth\"}],\"contourcarpet\":[{\"colorbar\":{\"outlinewidth\":0,\"ticks\":\"\"},\"type\":\"contourcarpet\"}],\"contour\":[{\"colorbar\":{\"outlinewidth\":0,\"ticks\":\"\"},\"colorscale\":[[0.0,\"#0d0887\"],[0.1111111111111111,\"#46039f\"],[0.2222222222222222,\"#7201a8\"],[0.3333333333333333,\"#9c179e\"],[0.4444444444444444,\"#bd3786\"],[0.5555555555555556,\"#d8576b\"],[0.6666666666666666,\"#ed7953\"],[0.7777777777777778,\"#fb9f3a\"],[0.8888888888888888,\"#fdca26\"],[1.0,\"#f0f921\"]],\"type\":\"contour\"}],\"heatmapgl\":[{\"colorbar\":{\"outlinewidth\":0,\"ticks\":\"\"},\"colorscale\":[[0.0,\"#0d0887\"],[0.1111111111111111,\"#46039f\"],[0.2222222222222222,\"#7201a8\"],[0.3333333333333333,\"#9c179e\"],[0.4444444444444444,\"#bd3786\"],[0.5555555555555556,\"#d8576b\"],[0.6666666666666666,\"#ed7953\"],[0.7777777777777778,\"#fb9f3a\"],[0.8888888888888888,\"#fdca26\"],[1.0,\"#f0f921\"]],\"type\":\"heatmapgl\"}],\"heatmap\":[{\"colorbar\":{\"outlinewidth\":0,\"ticks\":\"\"},\"colorscale\":[[0.0,\"#0d0887\"],[0.1111111111111111,\"#46039f\"],[0.2222222222222222,\"#7201a8\"],[0.3333333333333333,\"#9c179e\"],[0.4444444444444444,\"#bd3786\"],[0.5555555555555556,\"#d8576b\"],[0.6666666666666666,\"#ed7953\"],[0.7777777777777778,\"#fb9f3a\"],[0.8888888888888888,\"#fdca26\"],[1.0,\"#f0f921\"]],\"type\":\"heatmap\"}],\"histogram2dcontour\":[{\"colorbar\":{\"outlinewidth\":0,\"ticks\":\"\"},\"colorscale\":[[0.0,\"#0d0887\"],[0.1111111111111111,\"#46039f\"],[0.2222222222222222,\"#7201a8\"],[0.3333333333333333,\"#9c179e\"],[0.4444444444444444,\"#bd3786\"],[0.5555555555555556,\"#d8576b\"],[0.6666666666666666,\"#ed7953\"],[0.7777777777777778,\"#fb9f3a\"],[0.8888888888888888,\"#fdca26\"],[1.0,\"#f0f921\"]],\"type\":\"histogram2dcontour\"}],\"histogram2d\":[{\"colorbar\":{\"outlinewidth\":0,\"ticks\":\"\"},\"colorscale\":[[0.0,\"#0d0887\"],[0.1111111111111111,\"#46039f\"],[0.2222222222222222,\"#7201a8\"],[0.3333333333333333,\"#9c179e\"],[0.4444444444444444,\"#bd3786\"],[0.5555555555555556,\"#d8576b\"],[0.6666666666666666,\"#ed7953\"],[0.7777777777777778,\"#fb9f3a\"],[0.8888888888888888,\"#fdca26\"],[1.0,\"#f0f921\"]],\"type\":\"histogram2d\"}],\"histogram\":[{\"marker\":{\"pattern\":{\"fillmode\":\"overlay\",\"size\":10,\"solidity\":0.2}},\"type\":\"histogram\"}],\"mesh3d\":[{\"colorbar\":{\"outlinewidth\":0,\"ticks\":\"\"},\"type\":\"mesh3d\"}],\"parcoords\":[{\"line\":{\"colorbar\":{\"outlinewidth\":0,\"ticks\":\"\"}},\"type\":\"parcoords\"}],\"pie\":[{\"automargin\":true,\"type\":\"pie\"}],\"scatter3d\":[{\"line\":{\"colorbar\":{\"outlinewidth\":0,\"ticks\":\"\"}},\"marker\":{\"colorbar\":{\"outlinewidth\":0,\"ticks\":\"\"}},\"type\":\"scatter3d\"}],\"scattercarpet\":[{\"marker\":{\"colorbar\":{\"outlinewidth\":0,\"ticks\":\"\"}},\"type\":\"scattercarpet\"}],\"scattergeo\":[{\"marker\":{\"colorbar\":{\"outlinewidth\":0,\"ticks\":\"\"}},\"type\":\"scattergeo\"}],\"scattergl\":[{\"marker\":{\"line\":{\"color\":\"#283442\"}},\"type\":\"scattergl\"}],\"scattermapbox\":[{\"marker\":{\"colorbar\":{\"outlinewidth\":0,\"ticks\":\"\"}},\"type\":\"scattermapbox\"}],\"scatterpolargl\":[{\"marker\":{\"colorbar\":{\"outlinewidth\":0,\"ticks\":\"\"}},\"type\":\"scatterpolargl\"}],\"scatterpolar\":[{\"marker\":{\"colorbar\":{\"outlinewidth\":0,\"ticks\":\"\"}},\"type\":\"scatterpolar\"}],\"scatter\":[{\"marker\":{\"line\":{\"color\":\"#283442\"}},\"type\":\"scatter\"}],\"scatterternary\":[{\"marker\":{\"colorbar\":{\"outlinewidth\":0,\"ticks\":\"\"}},\"type\":\"scatterternary\"}],\"surface\":[{\"colorbar\":{\"outlinewidth\":0,\"ticks\":\"\"},\"colorscale\":[[0.0,\"#0d0887\"],[0.1111111111111111,\"#46039f\"],[0.2222222222222222,\"#7201a8\"],[0.3333333333333333,\"#9c179e\"],[0.4444444444444444,\"#bd3786\"],[0.5555555555555556,\"#d8576b\"],[0.6666666666666666,\"#ed7953\"],[0.7777777777777778,\"#fb9f3a\"],[0.8888888888888888,\"#fdca26\"],[1.0,\"#f0f921\"]],\"type\":\"surface\"}],\"table\":[{\"cells\":{\"fill\":{\"color\":\"#506784\"},\"line\":{\"color\":\"rgb(17,17,17)\"}},\"header\":{\"fill\":{\"color\":\"#2a3f5f\"},\"line\":{\"color\":\"rgb(17,17,17)\"}},\"type\":\"table\"}]},\"layout\":{\"annotationdefaults\":{\"arrowcolor\":\"#f2f5fa\",\"arrowhead\":0,\"arrowwidth\":1},\"autotypenumbers\":\"strict\",\"coloraxis\":{\"colorbar\":{\"outlinewidth\":0,\"ticks\":\"\"}},\"colorscale\":{\"diverging\":[[0,\"#8e0152\"],[0.1,\"#c51b7d\"],[0.2,\"#de77ae\"],[0.3,\"#f1b6da\"],[0.4,\"#fde0ef\"],[0.5,\"#f7f7f7\"],[0.6,\"#e6f5d0\"],[0.7,\"#b8e186\"],[0.8,\"#7fbc41\"],[0.9,\"#4d9221\"],[1,\"#276419\"]],\"sequential\":[[0.0,\"#0d0887\"],[0.1111111111111111,\"#46039f\"],[0.2222222222222222,\"#7201a8\"],[0.3333333333333333,\"#9c179e\"],[0.4444444444444444,\"#bd3786\"],[0.5555555555555556,\"#d8576b\"],[0.6666666666666666,\"#ed7953\"],[0.7777777777777778,\"#fb9f3a\"],[0.8888888888888888,\"#fdca26\"],[1.0,\"#f0f921\"]],\"sequentialminus\":[[0.0,\"#0d0887\"],[0.1111111111111111,\"#46039f\"],[0.2222222222222222,\"#7201a8\"],[0.3333333333333333,\"#9c179e\"],[0.4444444444444444,\"#bd3786\"],[0.5555555555555556,\"#d8576b\"],[0.6666666666666666,\"#ed7953\"],[0.7777777777777778,\"#fb9f3a\"],[0.8888888888888888,\"#fdca26\"],[1.0,\"#f0f921\"]]},\"colorway\":[\"#636efa\",\"#EF553B\",\"#00cc96\",\"#ab63fa\",\"#FFA15A\",\"#19d3f3\",\"#FF6692\",\"#B6E880\",\"#FF97FF\",\"#FECB52\"],\"font\":{\"color\":\"#f2f5fa\"},\"geo\":{\"bgcolor\":\"rgb(17,17,17)\",\"lakecolor\":\"rgb(17,17,17)\",\"landcolor\":\"rgb(17,17,17)\",\"showlakes\":true,\"showland\":true,\"subunitcolor\":\"#506784\"},\"hoverlabel\":{\"align\":\"left\"},\"hovermode\":\"closest\",\"mapbox\":{\"style\":\"dark\"},\"paper_bgcolor\":\"rgb(17,17,17)\",\"plot_bgcolor\":\"rgb(17,17,17)\",\"polar\":{\"angularaxis\":{\"gridcolor\":\"#506784\",\"linecolor\":\"#506784\",\"ticks\":\"\"},\"bgcolor\":\"rgb(17,17,17)\",\"radialaxis\":{\"gridcolor\":\"#506784\",\"linecolor\":\"#506784\",\"ticks\":\"\"}},\"scene\":{\"xaxis\":{\"backgroundcolor\":\"rgb(17,17,17)\",\"gridcolor\":\"#506784\",\"gridwidth\":2,\"linecolor\":\"#506784\",\"showbackground\":true,\"ticks\":\"\",\"zerolinecolor\":\"#C8D4E3\"},\"yaxis\":{\"backgroundcolor\":\"rgb(17,17,17)\",\"gridcolor\":\"#506784\",\"gridwidth\":2,\"linecolor\":\"#506784\",\"showbackground\":true,\"ticks\":\"\",\"zerolinecolor\":\"#C8D4E3\"},\"zaxis\":{\"backgroundcolor\":\"rgb(17,17,17)\",\"gridcolor\":\"#506784\",\"gridwidth\":2,\"linecolor\":\"#506784\",\"showbackground\":true,\"ticks\":\"\",\"zerolinecolor\":\"#C8D4E3\"}},\"shapedefaults\":{\"line\":{\"color\":\"#f2f5fa\"}},\"sliderdefaults\":{\"bgcolor\":\"#C8D4E3\",\"bordercolor\":\"rgb(17,17,17)\",\"borderwidth\":1,\"tickwidth\":0},\"ternary\":{\"aaxis\":{\"gridcolor\":\"#506784\",\"linecolor\":\"#506784\",\"ticks\":\"\"},\"baxis\":{\"gridcolor\":\"#506784\",\"linecolor\":\"#506784\",\"ticks\":\"\"},\"bgcolor\":\"rgb(17,17,17)\",\"caxis\":{\"gridcolor\":\"#506784\",\"linecolor\":\"#506784\",\"ticks\":\"\"}},\"title\":{\"x\":0.05},\"updatemenudefaults\":{\"bgcolor\":\"#506784\",\"borderwidth\":0},\"xaxis\":{\"automargin\":true,\"gridcolor\":\"#283442\",\"linecolor\":\"#506784\",\"ticks\":\"\",\"title\":{\"standoff\":15},\"zerolinecolor\":\"#283442\",\"zerolinewidth\":2},\"yaxis\":{\"automargin\":true,\"gridcolor\":\"#283442\",\"linecolor\":\"#506784\",\"ticks\":\"\",\"title\":{\"standoff\":15},\"zerolinecolor\":\"#283442\",\"zerolinewidth\":2}}},\"xaxis\":{\"title\":{\"text\":\"Token Name\"},\"tickangle\":-45},\"title\":{\"text\":\"Histogram of Unique Sandwiches Count by Token Name\"},\"yaxis\":{\"title\":{\"text\":\"Unique Sandwich Count\"}},\"width\":1000,\"height\":600},                        {\"responsive\": true}                    ).then(function(){\n",
       "                            \n",
       "var gd = document.getElementById('382c6024-00c0-44b6-b337-cf174b5eec28');\n",
       "var x = new MutationObserver(function (mutations, observer) {{\n",
       "        var display = window.getComputedStyle(gd).display;\n",
       "        if (!display || display === 'none') {{\n",
       "            console.log([gd, 'removed!']);\n",
       "            Plotly.purge(gd);\n",
       "            observer.disconnect();\n",
       "        }}\n",
       "}});\n",
       "\n",
       "// Listen for the removal of the full notebook cells\n",
       "var notebookContainer = gd.closest('#notebook-container');\n",
       "if (notebookContainer) {{\n",
       "    x.observe(notebookContainer, {childList: true});\n",
       "}}\n",
       "\n",
       "// Listen for the clearing of the current output cell\n",
       "var outputEl = gd.closest('.output');\n",
       "if (outputEl) {{\n",
       "    x.observe(outputEl, {childList: true});\n",
       "}}\n",
       "\n",
       "                        })                };                });            </script>        </div>"
      ]
     },
     "metadata": {},
     "output_type": "display_data"
    }
   ],
   "source": [
    "fig = go.Figure()\n",
    "\n",
    "fig.add_trace(go.Bar(\n",
    "    x=sandwichers_all_by_token_cleaned['name'],\n",
    "    y=sandwichers_all_by_token_cleaned['sandwich_count'],\n",
    "    marker_color='blue'\n",
    "))\n",
    "\n",
    "fig.update_layout(\n",
    "    title='Histogram of Unique Sandwiches Count by Token Name',\n",
    "    xaxis_title='Token Name',\n",
    "    yaxis_title='Unique Sandwich Count',\n",
    "    xaxis_tickangle=-45,  \n",
    "    template='plotly_dark',  \n",
    "    width=1000, \n",
    "    height=600 \n",
    ")\n",
    "\n",
    "fig.show()"
   ]
  },
  {
   "cell_type": "markdown",
   "id": "fd236d7c-b2da-4262-a06e-6246537ebf6c",
   "metadata": {},
   "source": [
    "### 5.a Чи є кілька сендвічів в блоці? (не графік) (більше 1го сендвічу на 1 блок) Зберегти такі кейси"
   ]
  },
  {
   "cell_type": "markdown",
   "id": "f97caaa3-a32e-4ef1-806e-f327ca717716",
   "metadata": {},
   "source": [
    "### 5.b Середня к-ть сендвічів на проміжок в 300=1год блоків (від першого до останнього блоку) "
   ]
  },
  {
   "cell_type": "markdown",
   "id": "b1694da0-c9f9-4688-8f5a-f7f15df897ff",
   "metadata": {
    "jp-MarkdownHeadingCollapsed": true
   },
   "source": [
    "#### code"
   ]
  },
  {
   "cell_type": "code",
   "execution_count": 642,
   "id": "5434ae5b-4baa-4894-ac0d-917f8bf5f730",
   "metadata": {},
   "outputs": [],
   "source": [
    "blocks_sandwiches = pd.read_csv('block_sandwich_id.csv')"
   ]
  },
  {
   "cell_type": "code",
   "execution_count": 644,
   "id": "2bb91453-44d7-4181-b9d9-c329d54f6a6a",
   "metadata": {},
   "outputs": [
    {
     "data": {
      "text/html": [
       "<div>\n",
       "<style scoped>\n",
       "    .dataframe tbody tr th:only-of-type {\n",
       "        vertical-align: middle;\n",
       "    }\n",
       "\n",
       "    .dataframe tbody tr th {\n",
       "        vertical-align: top;\n",
       "    }\n",
       "\n",
       "    .dataframe thead th {\n",
       "        text-align: right;\n",
       "    }\n",
       "</style>\n",
       "<table border=\"1\" class=\"dataframe\">\n",
       "  <thead>\n",
       "    <tr style=\"text-align: right;\">\n",
       "      <th></th>\n",
       "      <th>block_number</th>\n",
       "      <th>id</th>\n",
       "    </tr>\n",
       "  </thead>\n",
       "  <tbody>\n",
       "    <tr>\n",
       "      <th>0</th>\n",
       "      <td>20131316</td>\n",
       "      <td>3fd08e5e-9334-4d47-ac5d-bc549075831f</td>\n",
       "    </tr>\n",
       "    <tr>\n",
       "      <th>1</th>\n",
       "      <td>20131317</td>\n",
       "      <td>98ef1529-cb90-49a8-a252-4d87f7300b77</td>\n",
       "    </tr>\n",
       "    <tr>\n",
       "      <th>2</th>\n",
       "      <td>19939664</td>\n",
       "      <td>012ca4b4-9cff-488b-8606-c2a317e5e115</td>\n",
       "    </tr>\n",
       "    <tr>\n",
       "      <th>3</th>\n",
       "      <td>19939665</td>\n",
       "      <td>60e44499-8ff1-4b78-824b-df4fda33f058</td>\n",
       "    </tr>\n",
       "    <tr>\n",
       "      <th>4</th>\n",
       "      <td>19939667</td>\n",
       "      <td>7a48fc3e-f583-41a8-911c-470137b2b2d0</td>\n",
       "    </tr>\n",
       "    <tr>\n",
       "      <th>...</th>\n",
       "      <td>...</td>\n",
       "      <td>...</td>\n",
       "    </tr>\n",
       "    <tr>\n",
       "      <th>79857</th>\n",
       "      <td>19134497</td>\n",
       "      <td>f2109ee1-2ea0-42d1-abcc-379f2522330f</td>\n",
       "    </tr>\n",
       "    <tr>\n",
       "      <th>79858</th>\n",
       "      <td>19134497</td>\n",
       "      <td>9867a743-3149-4c4e-a762-218876385ce8</td>\n",
       "    </tr>\n",
       "    <tr>\n",
       "      <th>79859</th>\n",
       "      <td>19134503</td>\n",
       "      <td>89571b81-91c4-4269-80a0-ff6aedf6d6c9</td>\n",
       "    </tr>\n",
       "    <tr>\n",
       "      <th>79860</th>\n",
       "      <td>19134504</td>\n",
       "      <td>e3347374-a2c2-4513-a24f-c714810aa45c</td>\n",
       "    </tr>\n",
       "    <tr>\n",
       "      <th>79861</th>\n",
       "      <td>19134504</td>\n",
       "      <td>ae319ef3-0a2d-41be-9289-881e6842da75</td>\n",
       "    </tr>\n",
       "  </tbody>\n",
       "</table>\n",
       "<p>79862 rows × 2 columns</p>\n",
       "</div>"
      ],
      "text/plain": [
       "       block_number                                    id\n",
       "0          20131316  3fd08e5e-9334-4d47-ac5d-bc549075831f\n",
       "1          20131317  98ef1529-cb90-49a8-a252-4d87f7300b77\n",
       "2          19939664  012ca4b4-9cff-488b-8606-c2a317e5e115\n",
       "3          19939665  60e44499-8ff1-4b78-824b-df4fda33f058\n",
       "4          19939667  7a48fc3e-f583-41a8-911c-470137b2b2d0\n",
       "...             ...                                   ...\n",
       "79857      19134497  f2109ee1-2ea0-42d1-abcc-379f2522330f\n",
       "79858      19134497  9867a743-3149-4c4e-a762-218876385ce8\n",
       "79859      19134503  89571b81-91c4-4269-80a0-ff6aedf6d6c9\n",
       "79860      19134504  e3347374-a2c2-4513-a24f-c714810aa45c\n",
       "79861      19134504  ae319ef3-0a2d-41be-9289-881e6842da75\n",
       "\n",
       "[79862 rows x 2 columns]"
      ]
     },
     "execution_count": 644,
     "metadata": {},
     "output_type": "execute_result"
    }
   ],
   "source": [
    "blocks_sandwiches"
   ]
  },
  {
   "cell_type": "code",
   "execution_count": 646,
   "id": "58b8e17e-82a7-48e4-97ae-310bde7fcd51",
   "metadata": {},
   "outputs": [],
   "source": [
    "blocks = pd.DataFrame(blocks_sandwiches['block_number'].unique(), \n",
    "                      columns=['block_number']).sort_values(by='block_number',\n",
    "                                                            ascending=True).reset_index(drop = True)"
   ]
  },
  {
   "cell_type": "code",
   "execution_count": 650,
   "id": "0711a0db-30f6-467c-934b-033567aea2f0",
   "metadata": {},
   "outputs": [],
   "source": [
    "min_block = blocks['block_number'].min()\n",
    "\n",
    "\n",
    "list_ = [min_block]\n",
    "for i in range(len(blocks['block_number'])): \n",
    "    group = list_[-1] + 300\n",
    "    list_.append(group)\n",
    "\n",
    "list_ = list_[1:]"
   ]
  },
  {
   "cell_type": "code",
   "execution_count": 652,
   "id": "3a733e2c-636b-4de0-ba82-c0d3524075d4",
   "metadata": {},
   "outputs": [],
   "source": [
    "group_dict = {key: idx + 1 for idx, key in enumerate(list_)}"
   ]
  },
  {
   "cell_type": "code",
   "execution_count": 654,
   "id": "6bb61b60-ef3a-441d-8004-bdba2d7ae263",
   "metadata": {},
   "outputs": [],
   "source": [
    "def get_group(block_number, group_dict):\n",
    "    for key in sorted(group_dict.keys()):\n",
    "        if block_number <= key:\n",
    "            return group_dict[key]\n",
    "    return len(group_dict)  # In case the block number exceeds all boundaries\n",
    "\n",
    "# Assign groups to the block numbers\n",
    "blocks['group'] = blocks['block_number'].apply(get_group, args=(group_dict,))"
   ]
  },
  {
   "cell_type": "code",
   "execution_count": 655,
   "id": "8d528f71-c701-4a38-8ff8-9deeca7eb6f9",
   "metadata": {},
   "outputs": [
    {
     "data": {
      "text/html": [
       "<div>\n",
       "<style scoped>\n",
       "    .dataframe tbody tr th:only-of-type {\n",
       "        vertical-align: middle;\n",
       "    }\n",
       "\n",
       "    .dataframe tbody tr th {\n",
       "        vertical-align: top;\n",
       "    }\n",
       "\n",
       "    .dataframe thead th {\n",
       "        text-align: right;\n",
       "    }\n",
       "</style>\n",
       "<table border=\"1\" class=\"dataframe\">\n",
       "  <thead>\n",
       "    <tr style=\"text-align: right;\">\n",
       "      <th></th>\n",
       "      <th>block_number</th>\n",
       "      <th>group</th>\n",
       "    </tr>\n",
       "  </thead>\n",
       "  <tbody>\n",
       "    <tr>\n",
       "      <th>0</th>\n",
       "      <td>12775690</td>\n",
       "      <td>1</td>\n",
       "    </tr>\n",
       "    <tr>\n",
       "      <th>1</th>\n",
       "      <td>19043857</td>\n",
       "      <td>20894</td>\n",
       "    </tr>\n",
       "    <tr>\n",
       "      <th>2</th>\n",
       "      <td>19043862</td>\n",
       "      <td>20894</td>\n",
       "    </tr>\n",
       "    <tr>\n",
       "      <th>3</th>\n",
       "      <td>19043863</td>\n",
       "      <td>20894</td>\n",
       "    </tr>\n",
       "    <tr>\n",
       "      <th>4</th>\n",
       "      <td>19043865</td>\n",
       "      <td>20894</td>\n",
       "    </tr>\n",
       "    <tr>\n",
       "      <th>...</th>\n",
       "      <td>...</td>\n",
       "      <td>...</td>\n",
       "    </tr>\n",
       "    <tr>\n",
       "      <th>46660</th>\n",
       "      <td>20132454</td>\n",
       "      <td>24523</td>\n",
       "    </tr>\n",
       "    <tr>\n",
       "      <th>46661</th>\n",
       "      <td>20132455</td>\n",
       "      <td>24523</td>\n",
       "    </tr>\n",
       "    <tr>\n",
       "      <th>46662</th>\n",
       "      <td>20132456</td>\n",
       "      <td>24523</td>\n",
       "    </tr>\n",
       "    <tr>\n",
       "      <th>46663</th>\n",
       "      <td>20132457</td>\n",
       "      <td>24523</td>\n",
       "    </tr>\n",
       "    <tr>\n",
       "      <th>46664</th>\n",
       "      <td>20159105</td>\n",
       "      <td>24612</td>\n",
       "    </tr>\n",
       "  </tbody>\n",
       "</table>\n",
       "<p>46665 rows × 2 columns</p>\n",
       "</div>"
      ],
      "text/plain": [
       "       block_number  group\n",
       "0          12775690      1\n",
       "1          19043857  20894\n",
       "2          19043862  20894\n",
       "3          19043863  20894\n",
       "4          19043865  20894\n",
       "...             ...    ...\n",
       "46660      20132454  24523\n",
       "46661      20132455  24523\n",
       "46662      20132456  24523\n",
       "46663      20132457  24523\n",
       "46664      20159105  24612\n",
       "\n",
       "[46665 rows x 2 columns]"
      ]
     },
     "execution_count": 655,
     "metadata": {},
     "output_type": "execute_result"
    }
   ],
   "source": [
    "blocks.sort_values(by = 'block_number')"
   ]
  },
  {
   "cell_type": "code",
   "execution_count": 658,
   "id": "e503a669-1280-48f1-81a4-5d7bd5adc836",
   "metadata": {},
   "outputs": [],
   "source": [
    "blocks_sandwichers_merged = merger_func(blocks_sandwichers, blocks, 'block_number', 'left')"
   ]
  },
  {
   "cell_type": "code",
   "execution_count": 660,
   "id": "9e04e47e-e4d2-40c7-b5eb-0d82698e5a0d",
   "metadata": {},
   "outputs": [],
   "source": [
    "blocks_sandwichers_grouped = blocks_sandwichers_merged.groupby(['group']).agg(\n",
    "    {'sandwicher_address': 'count'}\n",
    "    ).reset_index()"
   ]
  },
  {
   "cell_type": "markdown",
   "id": "d94f3c5c-8c1f-498d-9bd0-14042c942080",
   "metadata": {},
   "source": [
    "#### result"
   ]
  },
  {
   "cell_type": "code",
   "execution_count": 662,
   "id": "eb94bcc3-c6a2-498b-814b-10f0c32644aa",
   "metadata": {},
   "outputs": [
    {
     "data": {
      "text/plain": [
       "count    304.000000\n",
       "mean     271.664474\n",
       "std      101.007626\n",
       "min        1.000000\n",
       "50%      264.000000\n",
       "75%      316.500000\n",
       "99%      566.910000\n",
       "99.9%    657.364000\n",
       "max      661.000000\n",
       "Name: sandwicher_address, dtype: float64"
      ]
     },
     "execution_count": 662,
     "metadata": {},
     "output_type": "execute_result"
    }
   ],
   "source": [
    "blocks_sandwichers_grouped['sandwicher_address'].describe(percentiles = [0.75,0.99,0.999])"
   ]
  },
  {
   "cell_type": "code",
   "execution_count": 666,
   "id": "6f213c76-a689-4d2a-b3b8-00eadfff20b6",
   "metadata": {},
   "outputs": [
    {
     "name": "stdout",
     "output_type": "stream",
     "text": [
      "Середнє на 300 блоків - 271.6644736842105, найчастіше значення (мода) -  269 та 50 % усіх середніх менше 264.0. Середнє відхилення від avg - 101\n"
     ]
    }
   ],
   "source": [
    "print(f\"Середнє на 300 блоків - {blocks_sandwichers_grouped['sandwicher_address'].mean()}, найчастіше значення (мода) -  {round(blocks_sandwichers_grouped['sandwicher_address'].mode()[0], 2)} та 50 % усіх середніх менше {blocks_sandwichers_grouped['sandwicher_address'].median()}. Середнє відхилення від avg - 101\")"
   ]
  },
  {
   "cell_type": "code",
   "execution_count": null,
   "id": "57972f47-250a-4f9d-bc0b-eea02a875584",
   "metadata": {},
   "outputs": [],
   "source": []
  }
 ],
 "metadata": {
  "kernelspec": {
   "display_name": "Python 3 (ipykernel)",
   "language": "python",
   "name": "python3"
  },
  "language_info": {
   "codemirror_mode": {
    "name": "ipython",
    "version": 3
   },
   "file_extension": ".py",
   "mimetype": "text/x-python",
   "name": "python",
   "nbconvert_exporter": "python",
   "pygments_lexer": "ipython3",
   "version": "3.11.7"
  }
 },
 "nbformat": 4,
 "nbformat_minor": 5
}
